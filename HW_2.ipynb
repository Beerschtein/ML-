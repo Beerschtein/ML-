{
 "cells": [
  {
   "cell_type": "markdown",
   "metadata": {},
   "source": [
    "### Домашнее задание_2"
   ]
  },
  {
   "cell_type": "code",
   "execution_count": 187,
   "metadata": {
    "id": "ajg1uezArO0K"
   },
   "outputs": [],
   "source": [
    "import pandas as pd\n",
    "import numpy as np"
   ]
  },
  {
   "cell_type": "code",
   "execution_count": 188,
   "metadata": {
    "colab": {
     "base_uri": "https://localhost:8080/",
     "height": 160
    },
    "executionInfo": {
     "elapsed": 2169,
     "status": "ok",
     "timestamp": 1643365825030,
     "user": {
      "displayName": "Julia Ponomareva",
      "photoUrl": "https://lh3.googleusercontent.com/a-/AOh14Giimaqepqa7diwYfGdfG3eO8yvg2qDwve3KonGv=s64",
      "userId": "14904333240138417226"
     },
     "user_tz": -300
    },
    "id": "LNFHyPQHrO0M",
    "outputId": "326ae715-2dc6-4e9f-c9cd-1ab435b88ce0"
   },
   "outputs": [
    {
     "name": "stdout",
     "output_type": "stream",
     "text": [
      "(27000, 2)\n"
     ]
    },
    {
     "data": {
      "text/html": [
       "<div>\n",
       "<style scoped>\n",
       "    .dataframe tbody tr th:only-of-type {\n",
       "        vertical-align: middle;\n",
       "    }\n",
       "\n",
       "    .dataframe tbody tr th {\n",
       "        vertical-align: top;\n",
       "    }\n",
       "\n",
       "    .dataframe thead th {\n",
       "        text-align: right;\n",
       "    }\n",
       "</style>\n",
       "<table border=\"1\" class=\"dataframe\">\n",
       "  <thead>\n",
       "    <tr style=\"text-align: right;\">\n",
       "      <th></th>\n",
       "      <th>doc_id</th>\n",
       "      <th>title</th>\n",
       "    </tr>\n",
       "  </thead>\n",
       "  <tbody>\n",
       "    <tr>\n",
       "      <th>0</th>\n",
       "      <td>6</td>\n",
       "      <td>Заместитель председателяnправительства РФnСерг...</td>\n",
       "    </tr>\n",
       "    <tr>\n",
       "      <th>1</th>\n",
       "      <td>4896</td>\n",
       "      <td>Матч 1/16 финала Кубка России по футболу был п...</td>\n",
       "    </tr>\n",
       "    <tr>\n",
       "      <th>2</th>\n",
       "      <td>4897</td>\n",
       "      <td>Форвард «Авангарда» Томаш Заборский прокоммент...</td>\n",
       "    </tr>\n",
       "  </tbody>\n",
       "</table>\n",
       "</div>"
      ],
      "text/plain": [
       "   doc_id                                              title\n",
       "0       6  Заместитель председателяnправительства РФnСерг...\n",
       "1    4896  Матч 1/16 финала Кубка России по футболу был п...\n",
       "2    4897  Форвард «Авангарда» Томаш Заборский прокоммент..."
      ]
     },
     "execution_count": 188,
     "metadata": {},
     "output_type": "execute_result"
    }
   ],
   "source": [
    "news = pd.read_csv(\"./articles.csv\")\n",
    "print(news.shape)\n",
    "news.head(3)"
   ]
  },
  {
   "cell_type": "code",
   "execution_count": 189,
   "metadata": {
    "colab": {
     "base_uri": "https://localhost:8080/",
     "height": 125
    },
    "executionInfo": {
     "elapsed": 54,
     "status": "ok",
     "timestamp": 1643365825034,
     "user": {
      "displayName": "Julia Ponomareva",
      "photoUrl": "https://lh3.googleusercontent.com/a-/AOh14Giimaqepqa7diwYfGdfG3eO8yvg2qDwve3KonGv=s64",
      "userId": "14904333240138417226"
     },
     "user_tz": -300
    },
    "id": "-fHdrCgi8BGd",
    "outputId": "ddf6106d-39ed-4399-c39d-1dda2f3ad543"
   },
   "outputs": [
    {
     "data": {
      "text/plain": [
       "'Заместитель председателяnправительства РФnСергейnИвановnизбран председателем советаnПБК ЦСКАn. Как сообщаетnпресс-службаnармейцев, такое решение было единогласно принято на первом заседании совета клуба. Основной функцией этого органа будет обсуждение текущего состояния, планирование и утверждение стратегии развития клуба на ближайшую перспективу.nnВ состав совета вошли:nГеоргий Полтавченкоn(полномочный представитель президента в Центральном федеральном округе),nАлексей Седовn(генерал-полковник, начальник службы по защите конституционного строя и борьбе с терроризмомnФСБ РФn),nАлександр Новакn(заместитель министра финансов РФ),nВячеслав Полтавцевn(заместитель генерального директора, руководитель блока по взаимодействию с органами власти, социальной и корпоративной политикиnГМК «Норильский никель»n),nЛеонид Исаковичn(генеральный директор ООО «УК «Спортивные проекты»),nОльга Плешаковаn(генеральный директорn«Трансаэро»n),nАлександр Провоторовn, (генеральный директорnОАО «Ростелеком»n), Андрей Лопатов (экс-игрок ЦСКА, чемпион мира, трехкратный чемпион Европы по баскетболу, председатель правленияnбанка «Клиентский»n),nАндрей Ватутинn(президент ПБК ЦСКА).'"
      ]
     },
     "execution_count": 189,
     "metadata": {},
     "output_type": "execute_result"
    }
   ],
   "source": [
    "news.iloc[0]['title']"
   ]
  },
  {
   "cell_type": "markdown",
   "metadata": {
    "id": "rXqISPsTrO0R"
   },
   "source": [
    "Загрузим пользователей и списки последних прочитанных новостей"
   ]
  },
  {
   "cell_type": "code",
   "execution_count": 190,
   "metadata": {
    "colab": {
     "base_uri": "https://localhost:8080/",
     "height": 142
    },
    "executionInfo": {
     "elapsed": 15,
     "status": "ok",
     "timestamp": 1643365825712,
     "user": {
      "displayName": "Julia Ponomareva",
      "photoUrl": "https://lh3.googleusercontent.com/a-/AOh14Giimaqepqa7diwYfGdfG3eO8yvg2qDwve3KonGv=s64",
      "userId": "14904333240138417226"
     },
     "user_tz": -300
    },
    "id": "B_Wte8vFrO0S",
    "outputId": "a8295092-cb60-442e-809a-4162d0d57bf6"
   },
   "outputs": [
    {
     "data": {
      "text/html": [
       "<div>\n",
       "<style scoped>\n",
       "    .dataframe tbody tr th:only-of-type {\n",
       "        vertical-align: middle;\n",
       "    }\n",
       "\n",
       "    .dataframe tbody tr th {\n",
       "        vertical-align: top;\n",
       "    }\n",
       "\n",
       "    .dataframe thead th {\n",
       "        text-align: right;\n",
       "    }\n",
       "</style>\n",
       "<table border=\"1\" class=\"dataframe\">\n",
       "  <thead>\n",
       "    <tr style=\"text-align: right;\">\n",
       "      <th></th>\n",
       "      <th>uid</th>\n",
       "      <th>articles</th>\n",
       "    </tr>\n",
       "  </thead>\n",
       "  <tbody>\n",
       "    <tr>\n",
       "      <th>0</th>\n",
       "      <td>u105138</td>\n",
       "      <td>[293672, 293328, 293001, 293622, 293126, 1852]</td>\n",
       "    </tr>\n",
       "    <tr>\n",
       "      <th>1</th>\n",
       "      <td>u108690</td>\n",
       "      <td>[3405, 1739, 2972, 1158, 1599, 322665]</td>\n",
       "    </tr>\n",
       "    <tr>\n",
       "      <th>2</th>\n",
       "      <td>u108339</td>\n",
       "      <td>[1845, 2009, 2356, 1424, 2939, 323389]</td>\n",
       "    </tr>\n",
       "  </tbody>\n",
       "</table>\n",
       "</div>"
      ],
      "text/plain": [
       "       uid                                        articles\n",
       "0  u105138  [293672, 293328, 293001, 293622, 293126, 1852]\n",
       "1  u108690          [3405, 1739, 2972, 1158, 1599, 322665]\n",
       "2  u108339          [1845, 2009, 2356, 1424, 2939, 323389]"
      ]
     },
     "execution_count": 190,
     "metadata": {},
     "output_type": "execute_result"
    }
   ],
   "source": [
    "users = pd.read_csv(\"./users_articles.csv\")\n",
    "users.head(3)"
   ]
  },
  {
   "cell_type": "markdown",
   "metadata": {
    "id": "gC2mYbVorO0T"
   },
   "source": [
    "Итак, нам нужно получить векторные представления пользователей на основе прочитанным ими новостей и самих новостей"
   ]
  },
  {
   "cell_type": "markdown",
   "metadata": {
    "id": "yzjqymHOrO0U"
   },
   "source": [
    "### 1. Получаем векторные представления новостей"
   ]
  },
  {
   "cell_type": "code",
   "execution_count": 191,
   "metadata": {},
   "outputs": [
    {
     "name": "stdout",
     "output_type": "stream",
     "text": [
      "Requirement already satisfied: razdel in c:\\users\\batalov.landservice\\appdata\\local\\programs\\python\\python38\\lib\\site-packages (0.5.0)\n",
      "Requirement already satisfied: pymorphy2 in c:\\users\\batalov.landservice\\appdata\\local\\programs\\python\\python38\\lib\\site-packages (0.9.1)\n",
      "Requirement already satisfied: pyLDAvis in c:\\users\\batalov.landservice\\appdata\\local\\programs\\python\\python38\\lib\\site-packages (3.3.1)\n",
      "Requirement already satisfied: docopt>=0.6 in c:\\users\\batalov.landservice\\appdata\\local\\programs\\python\\python38\\lib\\site-packages (from pymorphy2) (0.6.2)\n",
      "Requirement already satisfied: pymorphy2-dicts-ru<3.0,>=2.4 in c:\\users\\batalov.landservice\\appdata\\local\\programs\\python\\python38\\lib\\site-packages (from pymorphy2) (2.4.417127.4579844)\n",
      "Requirement already satisfied: dawg-python>=0.7.1 in c:\\users\\batalov.landservice\\appdata\\local\\programs\\python\\python38\\lib\\site-packages (from pymorphy2) (0.7.2)\n",
      "Requirement already satisfied: future in c:\\users\\batalov.landservice\\appdata\\local\\programs\\python\\python38\\lib\\site-packages (from pyLDAvis) (0.18.2)\n",
      "Requirement already satisfied: numpy>=1.20.0 in c:\\users\\batalov.landservice\\appdata\\local\\programs\\python\\python38\\lib\\site-packages (from pyLDAvis) (1.21.2)\n",
      "Requirement already satisfied: scikit-learn in c:\\users\\batalov.landservice\\appdata\\local\\programs\\python\\python38\\lib\\site-packages (from pyLDAvis) (1.0.2)\n",
      "Requirement already satisfied: numexpr in c:\\users\\batalov.landservice\\appdata\\local\\programs\\python\\python38\\lib\\site-packages (from pyLDAvis) (2.8.1)\n",
      "Requirement already satisfied: joblib in c:\\users\\batalov.landservice\\appdata\\local\\programs\\python\\python38\\lib\\site-packages (from pyLDAvis) (1.1.0)\n",
      "Requirement already satisfied: setuptools in c:\\users\\batalov.landservice\\appdata\\local\\programs\\python\\python38\\lib\\site-packages (from pyLDAvis) (49.2.1)\n",
      "Requirement already satisfied: gensim in c:\\users\\batalov.landservice\\appdata\\local\\programs\\python\\python38\\lib\\site-packages (from pyLDAvis) (4.1.2)\n",
      "Requirement already satisfied: pandas>=1.2.0 in c:\\users\\batalov.landservice\\appdata\\local\\programs\\python\\python38\\lib\\site-packages (from pyLDAvis) (1.3.2)\n",
      "Requirement already satisfied: sklearn in c:\\users\\batalov.landservice\\appdata\\local\\programs\\python\\python38\\lib\\site-packages (from pyLDAvis) (0.0)\n",
      "Requirement already satisfied: jinja2 in c:\\users\\batalov.landservice\\appdata\\local\\programs\\python\\python38\\lib\\site-packages (from pyLDAvis) (3.0.1)\n",
      "Requirement already satisfied: scipy in c:\\users\\batalov.landservice\\appdata\\local\\programs\\python\\python38\\lib\\site-packages (from pyLDAvis) (1.7.3)\n",
      "Requirement already satisfied: funcy in c:\\users\\batalov.landservice\\appdata\\local\\programs\\python\\python38\\lib\\site-packages (from pyLDAvis) (1.17)\n",
      "Requirement already satisfied: python-dateutil>=2.7.3 in c:\\users\\batalov.landservice\\appdata\\local\\programs\\python\\python38\\lib\\site-packages (from pandas>=1.2.0->pyLDAvis) (2.8.1)\n",
      "Requirement already satisfied: pytz>=2017.3 in c:\\users\\batalov.landservice\\appdata\\local\\programs\\python\\python38\\lib\\site-packages (from pandas>=1.2.0->pyLDAvis) (2021.1)\n",
      "Requirement already satisfied: Cython==0.29.23 in c:\\users\\batalov.landservice\\appdata\\local\\programs\\python\\python38\\lib\\site-packages (from gensim->pyLDAvis) (0.29.23)\n",
      "Requirement already satisfied: smart-open>=1.8.1 in c:\\users\\batalov.landservice\\appdata\\local\\programs\\python\\python38\\lib\\site-packages (from gensim->pyLDAvis) (5.2.1)\n",
      "Requirement already satisfied: MarkupSafe>=2.0 in c:\\users\\batalov.landservice\\appdata\\local\\programs\\python\\python38\\lib\\site-packages (from jinja2->pyLDAvis) (2.0.1)\n",
      "Requirement already satisfied: packaging in c:\\users\\batalov.landservice\\appdata\\local\\programs\\python\\python38\\lib\\site-packages (from numexpr->pyLDAvis) (21.3)\n",
      "Requirement already satisfied: threadpoolctl>=2.0.0 in c:\\users\\batalov.landservice\\appdata\\local\\programs\\python\\python38\\lib\\site-packages (from scikit-learn->pyLDAvis) (3.0.0)\n",
      "Requirement already satisfied: six>=1.5 in c:\\users\\batalov.landservice\\appdata\\local\\programs\\python\\python38\\lib\\site-packages (from python-dateutil>=2.7.3->pandas>=1.2.0->pyLDAvis) (1.16.0)\n",
      "Requirement already satisfied: pyparsing!=3.0.5,>=2.0.2 in c:\\users\\batalov.landservice\\appdata\\local\\programs\\python\\python38\\lib\\site-packages (from packaging->numexpr->pyLDAvis) (2.4.7)\n"
     ]
    }
   ],
   "source": [
    "!pip install razdel pymorphy2 pyLDAvis"
   ]
  },
  {
   "cell_type": "code",
   "execution_count": 192,
   "metadata": {
    "id": "r5aEUfAArO0W"
   },
   "outputs": [],
   "source": [
    "# предобработка текстов\n",
    "import re\n",
    "import numpy as np\n",
    "from gensim.corpora.dictionary import Dictionary\n",
    "from razdel import tokenize  # сегментация русскоязычного текста на токены и предложения https://github.com/natasha/razdel\n",
    "import pymorphy2  # Морфологический анализатор"
   ]
  },
  {
   "cell_type": "markdown",
   "metadata": {
    "id": "qkL7Aq9owwIz"
   },
   "source": [
    "Не все слова равны, не все слова одинаково работают. К примеру, союзы и предлоги в нашей задачи никак не помогут, поэтому можем их выкидывать. (*Но в задачах оценки стиля, к примеру, такие слова будут очень полезны*)"
   ]
  },
  {
   "cell_type": "code",
   "execution_count": 193,
   "metadata": {},
   "outputs": [],
   "source": [
    "# import nltk\n",
    "# nltk.download('stopwords')"
   ]
  },
  {
   "cell_type": "code",
   "execution_count": 194,
   "metadata": {},
   "outputs": [
    {
     "name": "stdout",
     "output_type": "stream",
     "text": [
      "Requirement already satisfied: nltk in c:\\users\\batalov.landservice\\appdata\\local\\programs\\python\\python38\\lib\\site-packages (3.7)\n",
      "Requirement already satisfied: click in c:\\users\\batalov.landservice\\appdata\\local\\programs\\python\\python38\\lib\\site-packages (from nltk) (8.0.4)\n",
      "Requirement already satisfied: tqdm in c:\\users\\batalov.landservice\\appdata\\local\\programs\\python\\python38\\lib\\site-packages (from nltk) (4.62.3)\n",
      "Requirement already satisfied: regex>=2021.8.3 in c:\\users\\batalov.landservice\\appdata\\local\\programs\\python\\python38\\lib\\site-packages (from nltk) (2022.1.18)\n",
      "Requirement already satisfied: joblib in c:\\users\\batalov.landservice\\appdata\\local\\programs\\python\\python38\\lib\\site-packages (from nltk) (1.1.0)\n",
      "Requirement already satisfied: colorama in c:\\users\\batalov.landservice\\appdata\\local\\programs\\python\\python38\\lib\\site-packages (from click->nltk) (0.4.4)\n"
     ]
    }
   ],
   "source": [
    "!pip install nltk"
   ]
  },
  {
   "cell_type": "code",
   "execution_count": 195,
   "metadata": {},
   "outputs": [],
   "source": [
    "# import nltk\n",
    "# nltk.download('stopwords')"
   ]
  },
  {
   "cell_type": "code",
   "execution_count": 196,
   "metadata": {},
   "outputs": [
    {
     "name": "stdout",
     "output_type": "stream",
     "text": [
      "['i', 'me', 'my', 'myself', 'we', 'our', 'ours', 'ourselves', 'you', \"you're\"]\n"
     ]
    }
   ],
   "source": [
    "  import nltk\n",
    "  stopwords = nltk.corpus.stopwords.words('english')\n",
    "  print(stopwords[:10])"
   ]
  },
  {
   "cell_type": "code",
   "execution_count": 197,
   "metadata": {
    "colab": {
     "base_uri": "https://localhost:8080/"
    },
    "executionInfo": {
     "elapsed": 45,
     "status": "ok",
     "timestamp": 1643365829674,
     "user": {
      "displayName": "Julia Ponomareva",
      "photoUrl": "https://lh3.googleusercontent.com/a-/AOh14Giimaqepqa7diwYfGdfG3eO8yvg2qDwve3KonGv=s64",
      "userId": "14904333240138417226"
     },
     "user_tz": -300
    },
    "id": "bwgnYaT7rO0X",
    "outputId": "944a6534-2735-47ea-b058-9bcb28fb29b2"
   },
   "outputs": [
    {
     "name": "stdout",
     "output_type": "stream",
     "text": [
      "151\n"
     ]
    }
   ],
   "source": [
    "stopword_ru = nltk.corpus.stopwords.words('russian')\n",
    "print(len(stopword_ru))"
   ]
  },
  {
   "cell_type": "code",
   "execution_count": 198,
   "metadata": {
    "colab": {
     "base_uri": "https://localhost:8080/"
    },
    "executionInfo": {
     "elapsed": 42,
     "status": "ok",
     "timestamp": 1643365829676,
     "user": {
      "displayName": "Julia Ponomareva",
      "photoUrl": "https://lh3.googleusercontent.com/a-/AOh14Giimaqepqa7diwYfGdfG3eO8yvg2qDwve3KonGv=s64",
      "userId": "14904333240138417226"
     },
     "user_tz": -300
    },
    "id": "3VeXs0NIxTIU",
    "outputId": "57fd4960-3b6d-4c69-cf73-8958b930c6f5"
   },
   "outputs": [
    {
     "data": {
      "text/plain": [
       "['и', 'в', 'во', 'не', 'что', 'он', 'на', 'я', 'с', 'со']"
      ]
     },
     "execution_count": 198,
     "metadata": {},
     "output_type": "execute_result"
    }
   ],
   "source": [
    "stopword_ru[:10]"
   ]
  },
  {
   "cell_type": "code",
   "execution_count": 199,
   "metadata": {},
   "outputs": [
    {
     "name": "stdout",
     "output_type": "stream",
     "text": [
      "Requirement already satisfied: wget in c:\\users\\batalov.landservice\\appdata\\local\\programs\\python\\python38\\lib\\site-packages (3.2)\n",
      "Note: you may need to restart the kernel to use updated packages.\n"
     ]
    }
   ],
   "source": [
    "pip install wget"
   ]
  },
  {
   "cell_type": "code",
   "execution_count": 200,
   "metadata": {},
   "outputs": [],
   "source": [
    "# !wget 'https://drive.google.com/uc?export=download&id=17wVn5YPpMjHToctGgff_KfSeWcIIlf7c' -O stopwords.txt"
   ]
  },
  {
   "cell_type": "code",
   "execution_count": 201,
   "metadata": {
    "colab": {
     "base_uri": "https://localhost:8080/"
    },
    "executionInfo": {
     "elapsed": 26,
     "status": "ok",
     "timestamp": 1643365830393,
     "user": {
      "displayName": "Julia Ponomareva",
      "photoUrl": "https://lh3.googleusercontent.com/a-/AOh14Giimaqepqa7diwYfGdfG3eO8yvg2qDwve3KonGv=s64",
      "userId": "14904333240138417226"
     },
     "user_tz": -300
    },
    "id": "fw3Nj3qhrO0X",
    "outputId": "be526ea9-22c6-4eaa-d0e4-b2165d4e996d"
   },
   "outputs": [
    {
     "data": {
      "text/plain": [
       "776"
      ]
     },
     "execution_count": 201,
     "metadata": {},
     "output_type": "execute_result"
    }
   ],
   "source": [
    "with open('./stopwords.txt') as f:\n",
    "    additional_stopwords = [w.strip() for w in f.readlines() if w]\n",
    "    \n",
    "stopword_ru += additional_stopwords\n",
    "len(stopword_ru)"
   ]
  },
  {
   "cell_type": "code",
   "execution_count": 202,
   "metadata": {
    "colab": {
     "base_uri": "https://localhost:8080/"
    },
    "executionInfo": {
     "elapsed": 17,
     "status": "ok",
     "timestamp": 1643365830394,
     "user": {
      "displayName": "Julia Ponomareva",
      "photoUrl": "https://lh3.googleusercontent.com/a-/AOh14Giimaqepqa7diwYfGdfG3eO8yvg2qDwve3KonGv=s64",
      "userId": "14904333240138417226"
     },
     "user_tz": -300
    },
    "id": "vZV9fxlbxjQQ",
    "outputId": "57bd8464-c8ef-42ca-c072-bcf8f41240bb"
   },
   "outputs": [
    {
     "data": {
      "text/plain": [
       "['и', 'в', 'во', 'не', 'что', 'он', 'на', 'я', 'с', 'со']"
      ]
     },
     "execution_count": 202,
     "metadata": {},
     "output_type": "execute_result"
    }
   ],
   "source": [
    "stopword_ru[0:10]"
   ]
  },
  {
   "cell_type": "code",
   "execution_count": 203,
   "metadata": {
    "id": "hdyTS-yDrO0Y"
   },
   "outputs": [],
   "source": [
    "def clean_text(text):\n",
    "    '''\n",
    "    очистка текста\n",
    "    \n",
    "    на выходе очищеный текст\n",
    "    '''\n",
    "    if not isinstance(text, str):\n",
    "        text = str(text)\n",
    "    \n",
    "    text = text.lower()\n",
    "    text = text.strip('\\n').strip('\\r').strip('\\t')\n",
    "    text = re.sub(\"-\\s\\r\\n\\|-\\s\\r\\n|\\r\\n\", '', str(text))\n",
    "\n",
    "    text = re.sub(\"[0-9]|[-—.,:;_%©«»?*!@#№$^•·&()]|[+=]|[[]|[]]|[/]|\", '', text)\n",
    "    text = re.sub(r\"\\r\\n\\t|\\n|\\\\s|\\r\\t|\\\\n\", ' ', text)\n",
    "    text = re.sub(r'[\\xad]|[\\s+]', ' ', text.strip())\n",
    "    text = re.sub('n', ' ', text)\n",
    "    \n",
    "    return text\n",
    "\n",
    "cache = {}\n",
    "morph = pymorphy2.MorphAnalyzer()\n",
    "\n",
    "def lemmatization(text):    \n",
    "    '''\n",
    "    лемматизация\n",
    "        [0] если зашел тип не `str` делаем его `str`\n",
    "        [1] токенизация предложения через razdel\n",
    "        [2] проверка есть ли в начале слова '-'\n",
    "        [3] проверка токена с одного символа\n",
    "        [4] проверка есть ли данное слово в кэше\n",
    "        [5] лемматизация слова\n",
    "        [6] проверка на стоп-слова\n",
    "\n",
    "    на выходе лист лемматизированых токенов\n",
    "    '''\n",
    "\n",
    "    # [0]\n",
    "    if not isinstance(text, str):\n",
    "        text = str(text)\n",
    "    \n",
    "    # [1]\n",
    "    tokens = list(tokenize(text))\n",
    "    words = [_.text for _ in tokens]\n",
    "\n",
    "    words_lem = []\n",
    "    for w in words:\n",
    "        if w[0] == '-': # [2]\n",
    "            w = w[1:]\n",
    "        if len(w) > 1: # [3]\n",
    "            if w in cache: # [4]\n",
    "                words_lem.append(cache[w])\n",
    "            else: # [5]\n",
    "                temp_cach = cache[w] = morph.parse(w)[0].normal_form\n",
    "                words_lem.append(temp_cach)\n",
    "    \n",
    "    words_lem_without_stopwords=[i for i in words_lem if not i in stopword_ru] # [6]\n",
    "    \n",
    "    return words_lem_without_stopwords"
   ]
  },
  {
   "cell_type": "code",
   "execution_count": 204,
   "metadata": {
    "colab": {
     "base_uri": "https://localhost:8080/",
     "height": 35
    },
    "executionInfo": {
     "elapsed": 480,
     "status": "ok",
     "timestamp": 1643365954875,
     "user": {
      "displayName": "Julia Ponomareva",
      "photoUrl": "https://lh3.googleusercontent.com/a-/AOh14Giimaqepqa7diwYfGdfG3eO8yvg2qDwve3KonGv=s64",
      "userId": "14904333240138417226"
     },
     "user_tz": -300
    },
    "id": "3dkl71coyj3S",
    "outputId": "e5e24410-626a-4ea5-d804-ccea66668d1b"
   },
   "outputs": [
    {
     "data": {
      "text/plain": [
       "'позавтракать'"
      ]
     },
     "execution_count": 204,
     "metadata": {},
     "output_type": "execute_result"
    }
   ],
   "source": [
    "morph = pymorphy2.MorphAnalyzer()\n",
    "morph.parse('позавтракали')[0].normal_form"
   ]
  },
  {
   "cell_type": "code",
   "execution_count": 205,
   "metadata": {
    "colab": {
     "base_uri": "https://localhost:8080/"
    },
    "executionInfo": {
     "elapsed": 552,
     "status": "ok",
     "timestamp": 1643365832237,
     "user": {
      "displayName": "Julia Ponomareva",
      "photoUrl": "https://lh3.googleusercontent.com/a-/AOh14Giimaqepqa7diwYfGdfG3eO8yvg2qDwve3KonGv=s64",
      "userId": "14904333240138417226"
     },
     "user_tz": -300
    },
    "id": "C5grR2zdzi-X",
    "outputId": "5c8f0112-6e29-4c48-8b65-386acb60610e"
   },
   "outputs": [
    {
     "data": {
      "text/plain": [
       "0    заместитель председателя правительства рф серг...\n",
       "1    матч  финала кубка россии по футболу был приос...\n",
       "Name: title, dtype: object"
      ]
     },
     "execution_count": 205,
     "metadata": {},
     "output_type": "execute_result"
    }
   ],
   "source": [
    "news['title'].iloc[:2].apply(lambda x: clean_text(x))"
   ]
  },
  {
   "cell_type": "code",
   "execution_count": 206,
   "metadata": {
    "colab": {
     "base_uri": "https://localhost:8080/"
    },
    "executionInfo": {
     "elapsed": 48056,
     "status": "ok",
     "timestamp": 1643365880289,
     "user": {
      "displayName": "Julia Ponomareva",
      "photoUrl": "https://lh3.googleusercontent.com/a-/AOh14Giimaqepqa7diwYfGdfG3eO8yvg2qDwve3KonGv=s64",
      "userId": "14904333240138417226"
     },
     "user_tz": -300
    },
    "id": "QB2yF4CsrO0Z",
    "outputId": "80990eb9-852f-4388-cfb7-3a691fd74fdc",
    "scrolled": true
   },
   "outputs": [
    {
     "name": "stderr",
     "output_type": "stream",
     "text": [
      "100%|██████████████████████████████████████████████████████████████████████████████████████████████████████| 27000/27000 [00:32<00:00, 819.90it/s]"
     ]
    },
    {
     "name": "stdout",
     "output_type": "stream",
     "text": [
      "Wall time: 33 s\n"
     ]
    },
    {
     "name": "stderr",
     "output_type": "stream",
     "text": [
      "\n"
     ]
    }
   ],
   "source": [
    "%%time\n",
    "from tqdm import tqdm\n",
    "tqdm.pandas()\n",
    "\n",
    "# Запускаем очистку текста. Будет долго...\n",
    "news['title'] = news['title'].progress_apply(lambda x: clean_text(x))"
   ]
  },
  {
   "cell_type": "code",
   "execution_count": 207,
   "metadata": {
    "colab": {
     "base_uri": "https://localhost:8080/"
    },
    "executionInfo": {
     "elapsed": 65,
     "status": "ok",
     "timestamp": 1643365880296,
     "user": {
      "displayName": "Julia Ponomareva",
      "photoUrl": "https://lh3.googleusercontent.com/a-/AOh14Giimaqepqa7diwYfGdfG3eO8yvg2qDwve3KonGv=s64",
      "userId": "14904333240138417226"
     },
     "user_tz": -300
    },
    "id": "XmkV3EefzYf0",
    "outputId": "9f236405-9e9a-49e3-cd4a-3515c07a7206"
   },
   "outputs": [
    {
     "data": {
      "text/plain": [
       "0    заместитель председателя правительства рф серг...\n",
       "1    матч  финала кубка россии по футболу был приос...\n",
       "2    форвард авангарда томаш заборский прокомментир...\n",
       "3    главный тренер кубани юрий красножан прокоммен...\n",
       "4    решением попечительского совета владивостокско...\n",
       "5    ио главного тренера вячеслав буцаев прокоммент...\n",
       "6    запорожский металлург дома потерпел разгромное...\n",
       "7    сборная сша одержала победу над австрией со сч...\n",
       "8    бывший защитник сборной россии дарюс каспарайт...\n",
       "9    полузащитник цска зоран тошич после победы над...\n",
       "Name: title, dtype: object"
      ]
     },
     "execution_count": 207,
     "metadata": {},
     "output_type": "execute_result"
    }
   ],
   "source": [
    "news['title'].iloc[:10]"
   ]
  },
  {
   "cell_type": "code",
   "execution_count": 208,
   "metadata": {
    "colab": {
     "base_uri": "https://localhost:8080/"
    },
    "executionInfo": {
     "elapsed": 292,
     "status": "ok",
     "timestamp": 1643365902597,
     "user": {
      "displayName": "Julia Ponomareva",
      "photoUrl": "https://lh3.googleusercontent.com/a-/AOh14Giimaqepqa7diwYfGdfG3eO8yvg2qDwve3KonGv=s64",
      "userId": "14904333240138417226"
     },
     "user_tz": -300
    },
    "id": "Em-afWYY0Ntx",
    "outputId": "225de77f-3a7e-4fed-8110-2e07e41e569c"
   },
   "outputs": [
    {
     "data": {
      "text/plain": [
       "0    [заместитель, председатель, правительство, рф,...\n",
       "1    [матч, финал, кубок, россия, футбол, приостано...\n",
       "Name: title, dtype: object"
      ]
     },
     "execution_count": 208,
     "metadata": {},
     "output_type": "execute_result"
    }
   ],
   "source": [
    "news['title'].iloc[:2].apply(lambda x: lemmatization(x))"
   ]
  },
  {
   "cell_type": "code",
   "execution_count": 209,
   "metadata": {
    "colab": {
     "base_uri": "https://localhost:8080/"
    },
    "executionInfo": {
     "elapsed": 326127,
     "status": "ok",
     "timestamp": 1643366285450,
     "user": {
      "displayName": "Julia Ponomareva",
      "photoUrl": "https://lh3.googleusercontent.com/a-/AOh14Giimaqepqa7diwYfGdfG3eO8yvg2qDwve3KonGv=s64",
      "userId": "14904333240138417226"
     },
     "user_tz": -300
    },
    "id": "ug4Q6n2VrO0b",
    "outputId": "c9da9b5f-ffe2-4ee6-ecfe-759306e5f305"
   },
   "outputs": [
    {
     "name": "stderr",
     "output_type": "stream",
     "text": [
      "100%|███████████████████████████████████████████████████████████████████████████████████████████████████████| 27000/27000 [05:06<00:00, 88.10it/s]"
     ]
    },
    {
     "name": "stdout",
     "output_type": "stream",
     "text": [
      "Wall time: 5min 6s\n"
     ]
    },
    {
     "name": "stderr",
     "output_type": "stream",
     "text": [
      "\n"
     ]
    }
   ],
   "source": [
    "%%time\n",
    "# Запускаем лемматизацию текста. Будет очень долго...\n",
    "news['title'] = news['title'].progress_apply(lambda x: lemmatization(x))"
   ]
  },
  {
   "cell_type": "markdown",
   "metadata": {
    "id": "pUGOY6a5rO0c"
   },
   "source": [
    "А теперь в 3 строчки обучим нашу модель"
   ]
  },
  {
   "cell_type": "code",
   "execution_count": 210,
   "metadata": {
    "id": "TCyJb8-8rO0d"
   },
   "outputs": [],
   "source": [
    "# сформируем список наших текстов\n",
    "texts = list(news['title'].values)\n",
    "\n",
    "# Создадим корпус из списка с текстами\n",
    "common_dictionary = Dictionary(texts)\n",
    "common_corpus = [common_dictionary.doc2bow(text) for text in texts]"
   ]
  },
  {
   "cell_type": "markdown",
   "metadata": {
    "id": "xYRkOOKyrO0e"
   },
   "source": [
    "Что такое common_dictionary и как он выглядит"
   ]
  },
  {
   "cell_type": "code",
   "execution_count": 211,
   "metadata": {
    "colab": {
     "base_uri": "https://localhost:8080/"
    },
    "executionInfo": {
     "elapsed": 638,
     "status": "ok",
     "timestamp": 1643366319622,
     "user": {
      "displayName": "Julia Ponomareva",
      "photoUrl": "https://lh3.googleusercontent.com/a-/AOh14Giimaqepqa7diwYfGdfG3eO8yvg2qDwve3KonGv=s64",
      "userId": "14904333240138417226"
     },
     "user_tz": -300
    },
    "id": "ozCl_2RI-WVx",
    "outputId": "fea642e9-bd4a-4031-a7b9-52f3a6590013"
   },
   "outputs": [
    {
     "data": {
      "text/plain": [
       "135723"
      ]
     },
     "execution_count": 211,
     "metadata": {},
     "output_type": "execute_result"
    }
   ],
   "source": [
    "len(common_dictionary)"
   ]
  },
  {
   "cell_type": "code",
   "execution_count": 212,
   "metadata": {
    "colab": {
     "base_uri": "https://localhost:8080/",
     "height": 35
    },
    "executionInfo": {
     "elapsed": 61,
     "status": "ok",
     "timestamp": 1643366319624,
     "user": {
      "displayName": "Julia Ponomareva",
      "photoUrl": "https://lh3.googleusercontent.com/a-/AOh14Giimaqepqa7diwYfGdfG3eO8yvg2qDwve3KonGv=s64",
      "userId": "14904333240138417226"
     },
     "user_tz": -300
    },
    "id": "LsOVuc1yrO0f",
    "outputId": "f3ea8040-3d41-4372-afe7-298d7929bdd1"
   },
   "outputs": [
    {
     "data": {
      "text/plain": [
       "'банк'"
      ]
     },
     "execution_count": 212,
     "metadata": {},
     "output_type": "execute_result"
    }
   ],
   "source": [
    "common_dictionary[4]"
   ]
  },
  {
   "cell_type": "code",
   "execution_count": 213,
   "metadata": {
    "id": "L9PtOWW97xPr"
   },
   "outputs": [
    {
     "data": {
      "text/plain": [
       "{0: 'александр',\n",
       " 1: 'алексей',\n",
       " 2: 'андрей',\n",
       " 3: 'армеец',\n",
       " 4: 'банк',\n",
       " 5: 'баскетбол',\n",
       " 6: 'близкий',\n",
       " 7: 'блок',\n",
       " 8: 'борьба',\n",
       " 9: 'ватутин',\n",
       " 10: 'взаимодействие',\n",
       " 11: 'власть',\n",
       " 12: 'войти',\n",
       " 13: 'вячеслав',\n",
       " 14: 'генералполковник',\n",
       " 15: 'генеральный',\n",
       " 16: 'георгий',\n",
       " 17: 'гмк',\n",
       " 18: 'директор',\n",
       " 19: 'европа',\n",
       " 20: 'единогласно',\n",
       " 21: 'заместитель',\n",
       " 22: 'заседание',\n",
       " 23: 'защита',\n",
       " 24: 'иванов',\n",
       " 25: 'избрать',\n",
       " 26: 'исакович',\n",
       " 27: 'клиентский',\n",
       " 28: 'клуб',\n",
       " 29: 'конституционный',\n",
       " 30: 'корпоративный',\n",
       " 31: 'леонид',\n",
       " 32: 'лопат',\n",
       " 33: 'министр',\n",
       " 34: 'мир',\n",
       " 35: 'начальник',\n",
       " 36: 'никель',\n",
       " 37: 'новак',\n",
       " 38: 'норильский',\n",
       " 39: 'оао',\n",
       " 40: 'обсуждение',\n",
       " 41: 'округ',\n",
       " 42: 'ольга',\n",
       " 43: 'ооо',\n",
       " 44: 'орган',\n",
       " 45: 'основной',\n",
       " 46: 'пбк',\n",
       " 47: 'первый',\n",
       " 48: 'перспектива',\n",
       " 49: 'планирование',\n",
       " 50: 'плешаков',\n",
       " 51: 'политика',\n",
       " 52: 'полномочный',\n",
       " 53: 'полтавец',\n",
       " 54: 'полтавченко',\n",
       " 55: 'правительство',\n",
       " 56: 'правление',\n",
       " 57: 'председатель',\n",
       " 58: 'представитель',\n",
       " 59: 'президент',\n",
       " 60: 'прессслужба',\n",
       " 61: 'принять',\n",
       " 62: 'провоторов',\n",
       " 63: 'проект',\n",
       " 64: 'развитие',\n",
       " 65: 'решение',\n",
       " 66: 'ростелеком',\n",
       " 67: 'руководитель',\n",
       " 68: 'рф',\n",
       " 69: 'седов',\n",
       " 70: 'сергей',\n",
       " 71: 'служба',\n",
       " 72: 'совет',\n",
       " 73: 'сообщать',\n",
       " 74: 'состав',\n",
       " 75: 'состояние',\n",
       " 76: 'социальный',\n",
       " 77: 'спортивный',\n",
       " 78: 'стратегия',\n",
       " 79: 'строй',\n",
       " 80: 'текущий',\n",
       " 81: 'терроризм',\n",
       " 82: 'трансаэро',\n",
       " 83: 'трёхкратный',\n",
       " 84: 'ук',\n",
       " 85: 'утверждение',\n",
       " 86: 'федеральный',\n",
       " 87: 'финансы',\n",
       " 88: 'фсб',\n",
       " 89: 'функция',\n",
       " 90: 'центральный',\n",
       " 91: 'цска',\n",
       " 92: 'чемпион',\n",
       " 93: 'эксигрок',\n",
       " 94: 'это',\n",
       " 95: 'ru',\n",
       " 96: 'болельщик',\n",
       " 97: 'вести',\n",
       " 98: 'взрыв',\n",
       " 99: 'выбросить',\n",
       " 100: 'газета',\n",
       " 101: 'динамовец',\n",
       " 102: 'изз',\n",
       " 103: 'команда',\n",
       " 104: 'корреспондент',\n",
       " 105: 'кромка',\n",
       " 106: 'кубок',\n",
       " 107: 'матч',\n",
       " 108: 'минута',\n",
       " 109: 'онлайнтрансляция',\n",
       " 110: 'остановить',\n",
       " 111: 'остаться',\n",
       " 112: 'передавать',\n",
       " 113: 'петарда',\n",
       " 114: 'пиротехнический',\n",
       " 115: 'подтрибунный',\n",
       " 116: 'поле',\n",
       " 117: 'помещение',\n",
       " 118: 'приостановить',\n",
       " 119: 'пять',\n",
       " 120: 'россия',\n",
       " 121: 'снаряд',\n",
       " 122: 'сообщаться',\n",
       " 123: 'судья',\n",
       " 124: 'торпедовец',\n",
       " 125: 'увести',\n",
       " 126: 'уйти',\n",
       " 127: 'финал',\n",
       " 128: 'футбол',\n",
       " 129: 'авангард',\n",
       " 130: 'атланта',\n",
       " 131: 'быстрый',\n",
       " 132: 'включиться',\n",
       " 133: 'выезд',\n",
       " 134: 'гол',\n",
       " 135: 'девять',\n",
       " 136: 'ещё',\n",
       " 137: 'заборский',\n",
       " 138: 'забросить',\n",
       " 139: 'задать',\n",
       " 140: 'игра',\n",
       " 141: 'играть',\n",
       " 142: 'кхл',\n",
       " 143: 'мочь',\n",
       " 144: 'настраиваться',\n",
       " 145: 'нижний',\n",
       " 146: 'новгород',\n",
       " 147: 'очко',\n",
       " 148: 'плохой',\n",
       " 149: 'поединок',\n",
       " 150: 'получиться',\n",
       " 151: 'провести',\n",
       " 152: 'прокомментировать',\n",
       " 153: 'против',\n",
       " 154: 'работа',\n",
       " 155: 'свой',\n",
       " 156: 'сказать',\n",
       " 157: 'сторона',\n",
       " 158: 'темп',\n",
       " 159: 'томаш',\n",
       " 160: 'торпедо',\n",
       " 161: 'форвард',\n",
       " 162: 'хороший',\n",
       " 163: 'чемпионат',\n",
       " 164: 'афолаби',\n",
       " 165: 'бальда',\n",
       " 166: 'возможно',\n",
       " 167: 'всё',\n",
       " 168: 'второй',\n",
       " 169: 'выйти',\n",
       " 170: 'выпустить',\n",
       " 171: 'главный',\n",
       " 172: 'го',\n",
       " 173: 'дать',\n",
       " 174: 'действительно',\n",
       " 175: 'жизнь',\n",
       " 176: 'закончить',\n",
       " 177: 'замена',\n",
       " 178: 'заменить',\n",
       " 179: 'заработать',\n",
       " 180: 'заявка',\n",
       " 181: 'здорово',\n",
       " 182: 'игрок',\n",
       " 183: 'идти',\n",
       " 184: 'конец',\n",
       " 185: 'красножанин',\n",
       " 186: 'крыло',\n",
       " 187: 'кубань',\n",
       " 188: 'лидер',\n",
       " 189: 'менее',\n",
       " 190: 'момент',\n",
       " 191: 'наверное',\n",
       " 192: 'настроение',\n",
       " 193: 'немало',\n",
       " 194: 'неплохо',\n",
       " 195: 'овладевать',\n",
       " 196: 'осложнить',\n",
       " 197: 'отпускной',\n",
       " 198: 'отсюда',\n",
       " 199: 'отыграть',\n",
       " 200: 'победа',\n",
       " 201: 'подряд',\n",
       " 202: 'позиция',\n",
       " 203: 'пока',\n",
       " 204: 'понемногу',\n",
       " 205: 'попасть',\n",
       " 206: 'попов',\n",
       " 207: 'почему',\n",
       " 208: 'пребывать',\n",
       " 209: 'преимущество',\n",
       " 210: 'привыкать',\n",
       " 211: 'самоуспокоенность',\n",
       " 212: 'сегодня',\n",
       " 213: 'сезон',\n",
       " 214: 'слово',\n",
       " 215: 'смочь',\n",
       " 216: 'создать',\n",
       " 217: 'спокойствие',\n",
       " 218: 'статус',\n",
       " 219: 'счёт',\n",
       " 220: 'сэ',\n",
       " 221: 'требоваться',\n",
       " 222: 'тренер',\n",
       " 223: 'тур',\n",
       " 224: 'уверенно',\n",
       " 225: 'успокаиваться',\n",
       " 226: 'хотеть',\n",
       " 227: 'целое',\n",
       " 228: 'частично',\n",
       " 229: 'чувствовать',\n",
       " 230: 'юрий',\n",
       " 231: 'балан',\n",
       " 232: 'вицегубернатор',\n",
       " 233: 'вицепрезидент',\n",
       " 234: 'владивостокский',\n",
       " 235: 'владимир',\n",
       " 236: 'дальневосточный',\n",
       " 237: 'должность',\n",
       " 238: 'занимать',\n",
       " 239: 'информировать',\n",
       " 240: 'край',\n",
       " 241: 'менеджер',\n",
       " 242: 'насонов',\n",
       " 243: 'оставаться',\n",
       " 244: 'официальный',\n",
       " 245: 'попечительский',\n",
       " 246: 'попрежний',\n",
       " 247: 'пост',\n",
       " 248: 'приморский',\n",
       " 249: 'сайт',\n",
       " 250: 'сандлера',\n",
       " 251: 'спартак',\n",
       " 252: 'стать',\n",
       " 253: 'упразднить',\n",
       " 254: 'член',\n",
       " 255: 'эдуард',\n",
       " 256: 'буцай',\n",
       " 257: 'весь',\n",
       " 258: 'время',\n",
       " 259: 'входить',\n",
       " 260: 'гдеть',\n",
       " 261: 'главное',\n",
       " 262: 'дневный',\n",
       " 263: 'долго',\n",
       " 264: 'дотерпеть',\n",
       " 265: 'заслуженно',\n",
       " 266: 'ио',\n",
       " 267: 'начинаться',\n",
       " 268: 'непривычный',\n",
       " 269: 'очень',\n",
       " 270: 'период',\n",
       " 271: 'плюс',\n",
       " 272: 'победить',\n",
       " 273: 'поблагодарить',\n",
       " 274: 'показать',\n",
       " 275: 'появиться',\n",
       " 276: 'правильно',\n",
       " 277: 'прежде',\n",
       " 278: 'пропустить',\n",
       " 279: 'разбежаться',\n",
       " 280: 'ребята',\n",
       " 281: 'регулярный',\n",
       " 282: 'связать',\n",
       " 283: 'сибирь',\n",
       " 284: 'скажем',\n",
       " 285: 'смена',\n",
       " 286: 'сонный',\n",
       " 287: 'считать',\n",
       " 288: 'третий',\n",
       " 289: 'удачно',\n",
       " 290: 'югра',\n",
       " 291: 'будник',\n",
       " 292: 'ворскла',\n",
       " 293: 'встреча',\n",
       " 294: 'голый',\n",
       " 295: 'громов',\n",
       " 296: 'дом',\n",
       " 297: 'завершиться',\n",
       " 298: 'запорожский',\n",
       " 299: 'материал',\n",
       " 300: 'металлург',\n",
       " 301: 'новость',\n",
       " 302: 'поражение',\n",
       " 303: 'посмотреть',\n",
       " 304: 'потерпеть',\n",
       " 305: 'разгромный',\n",
       " 306: 'страница',\n",
       " 307: 'украина',\n",
       " 308: 'украинский',\n",
       " 309: 'чеснаковы',\n",
       " 310: 'австрия',\n",
       " 311: 'бол',\n",
       " 312: 'бьюгстадо',\n",
       " 313: 'вельзер',\n",
       " 314: 'день',\n",
       " 315: 'джонсон',\n",
       " 316: 'иберер',\n",
       " 317: 'игровой',\n",
       " 318: 'кристо',\n",
       " 319: 'латуз',\n",
       " 320: 'леблан',\n",
       " 321: 'лукас',\n",
       " 322: 'макбэйн',\n",
       " 323: 'мосс',\n",
       " 324: 'одержать',\n",
       " 325: 'пайнтнер',\n",
       " 326: 'палушать',\n",
       " 327: 'сборная',\n",
       " 328: 'стартовый',\n",
       " 329: 'стэплтон',\n",
       " 330: 'сша',\n",
       " 331: 'фолкнуть',\n",
       " 332: 'хоккей',\n",
       " 333: 'хундертпфунда',\n",
       " 334: 'штястный',\n",
       " 335: 'шуллера',\n",
       " 336: 'больший',\n",
       " 337: 'бывший',\n",
       " 338: 'взять',\n",
       " 339: 'внести',\n",
       " 340: 'вырасти',\n",
       " 341: 'выступление',\n",
       " 342: 'год',\n",
       " 343: 'дарюс',\n",
       " 344: 'должный',\n",
       " 345: 'защитник',\n",
       " 346: 'заявить',\n",
       " 347: 'илья',\n",
       " 348: 'илюха',\n",
       " 349: 'каспарайтис',\n",
       " 350: 'качество',\n",
       " 351: 'ковальчук',\n",
       " 352: 'латвия',\n",
       " 353: 'малкин',\n",
       " 354: 'национальный',\n",
       " 355: 'ожидание',\n",
       " 356: 'ознакомиться',\n",
       " 357: 'поделиться',\n",
       " 358: 'пойти',\n",
       " 359: 'последний',\n",
       " 360: 'потрясающе',\n",
       " 361: 'прошлый',\n",
       " 362: 'сильно',\n",
       " 363: 'статистика',\n",
       " 364: 'человек',\n",
       " 365: 'выиграть',\n",
       " 366: 'данил',\n",
       " 367: 'делать',\n",
       " 368: 'добиться',\n",
       " 369: 'думать',\n",
       " 370: 'жиляев',\n",
       " 371: 'завтра',\n",
       " 372: 'зоран',\n",
       " 373: 'известно',\n",
       " 374: 'исполниться',\n",
       " 375: 'капитан',\n",
       " 376: 'касаться',\n",
       " 377: 'который',\n",
       " 378: 'крупный',\n",
       " 379: 'май',\n",
       " 380: 'надеяться',\n",
       " 381: 'наш',\n",
       " 382: 'подарок',\n",
       " 383: 'пожелать',\n",
       " 384: 'полузащитник',\n",
       " 385: 'произнести',\n",
       " 386: 'просто',\n",
       " 387: 'речь',\n",
       " 388: 'самый',\n",
       " 389: 'сделать',\n",
       " 390: 'сербский',\n",
       " 391: 'серьёзный',\n",
       " 392: 'слуцкий',\n",
       " 393: 'терек',\n",
       " 394: 'тошич',\n",
       " 395: 'травма',\n",
       " 396: 'удачный',\n",
       " 397: 'ушибить',\n",
       " 398: 'характер',\n",
       " 399: 'хромать',\n",
       " 400: 'чемпионство',\n",
       " 401: 'шаг',\n",
       " 402: 'барселона',\n",
       " 403: 'бетис',\n",
       " 404: 'вальдес',\n",
       " 405: 'виктор',\n",
       " 406: 'воспаление',\n",
       " 407: 'вратарь',\n",
       " 408: 'испания',\n",
       " 409: 'каталонец',\n",
       " 410: 'кость',\n",
       " 411: 'левый',\n",
       " 412: 'нога',\n",
       " 413: 'подошвенный',\n",
       " 414: 'стопа',\n",
       " 415: 'фасциит',\n",
       " 416: 'анастасия',\n",
       " 417: 'испанка',\n",
       " 418: 'карл',\n",
       " 419: 'обыграть',\n",
       " 420: 'оэйраша',\n",
       " 421: 'павлюченков',\n",
       " 422: 'победительница',\n",
       " 423: 'призовой',\n",
       " 424: 'решающий',\n",
       " 425: 'россиянка',\n",
       " 426: 'суареснаварро',\n",
       " 427: 'теннис',\n",
       " 428: 'турнир',\n",
       " 429: 'тыс',\n",
       " 430: 'фонд',\n",
       " 431: 'анжи',\n",
       " 432: 'бедро',\n",
       " 433: 'вернуться',\n",
       " 434: 'волга',\n",
       " 435: 'группа',\n",
       " 436: 'задний',\n",
       " 437: 'ивуариец',\n",
       " 438: 'казанский',\n",
       " 439: 'лассина',\n",
       " 440: 'махачкала',\n",
       " 441: 'нападать',\n",
       " 442: 'общий',\n",
       " 443: 'поверхность',\n",
       " 444: 'получить',\n",
       " 445: 'премьерлига',\n",
       " 446: 'рамка',\n",
       " 447: 'российский',\n",
       " 448: 'рубин',\n",
       " 449: 'траор',\n",
       " 450: 'тренировка',\n",
       " 451: 'бохара',\n",
       " 452: 'железнодорожник',\n",
       " 453: 'завершить',\n",
       " 454: 'июль',\n",
       " 455: 'касейдо',\n",
       " 456: 'контрольный',\n",
       " 457: 'кучук',\n",
       " 458: 'локомотив',\n",
       " 459: 'марибора',\n",
       " 460: 'местный',\n",
       " 461: 'металлист',\n",
       " 462: 'московский',\n",
       " 463: 'подопечный',\n",
       " 464: 'предупреждеие',\n",
       " 465: 'проиграть',\n",
       " 466: 'сбор',\n",
       " 467: 'следующий',\n",
       " 468: 'словения',\n",
       " 469: 'соперник',\n",
       " 470: 'таварес',\n",
       " 471: 'торбинский',\n",
       " 472: 'учебнотренировочный',\n",
       " 473: 'харьковский',\n",
       " 474: 'хорватский',\n",
       " 475: 'atp',\n",
       " 476: 'важный',\n",
       " 477: 'возраст',\n",
       " 478: 'возрастной',\n",
       " 479: 'вокруг',\n",
       " 480: 'вообще',\n",
       " 481: 'врач',\n",
       " 482: 'далёкий',\n",
       " 483: 'действовать',\n",
       " 484: 'джокович',\n",
       " 485: 'достаточно',\n",
       " 486: 'желание',\n",
       " 487: 'круг',\n",
       " 488: 'мнение',\n",
       " 489: 'множество',\n",
       " 490: 'мудрость',\n",
       " 491: 'начинать',\n",
       " 492: 'немец',\n",
       " 493: 'нужно',\n",
       " 494: 'оно',\n",
       " 495: 'опыт',\n",
       " 496: 'оценивать',\n",
       " 497: 'питание',\n",
       " 498: 'позволять',\n",
       " 499: 'понимать',\n",
       " 500: 'правило',\n",
       " 501: 'правильный',\n",
       " 502: 'приводить',\n",
       " 503: 'ракетка',\n",
       " 504: 'сила',\n",
       " 505: 'собирать',\n",
       " 506: 'согласно',\n",
       " 507: 'специалист',\n",
       " 508: 'существовать',\n",
       " 509: 'сыграть',\n",
       " 510: 'теннисист',\n",
       " 511: 'ти',\n",
       " 512: 'томми',\n",
       " 513: 'трезво',\n",
       " 514: 'уимблдон',\n",
       " 515: 'успех',\n",
       " 516: 'фактор',\n",
       " 517: 'физиотерапевт',\n",
       " 518: 'форма',\n",
       " 519: 'хаас',\n",
       " 520: 'четвёртый',\n",
       " 521: 'являться',\n",
       " 522: 'гомис',\n",
       " 523: 'груда',\n",
       " 524: 'дюмерс',\n",
       " 525: 'женский',\n",
       " 526: 'литтл',\n",
       " 527: 'место',\n",
       " 528: 'одолеть',\n",
       " 529: 'орша',\n",
       " 530: 'сербия',\n",
       " 531: 'торренс',\n",
       " 532: 'турция',\n",
       " 533: 'франция',\n",
       " 534: 'французский',\n",
       " 535: 'шаргай',\n",
       " 536: 'cbs',\n",
       " 537: 'агент',\n",
       " 538: 'айлендерс',\n",
       " 539: 'взамен',\n",
       " 540: 'выбрать',\n",
       " 541: 'драфт',\n",
       " 542: 'клаттербак',\n",
       " 543: 'количество',\n",
       " 544: 'контракт',\n",
       " 545: 'кэла',\n",
       " 546: 'летний',\n",
       " 547: 'миннесота',\n",
       " 548: 'минувший',\n",
       " 549: 'молодой',\n",
       " 550: 'набрать',\n",
       " 551: 'нидеррайтер',\n",
       " 552: 'нино',\n",
       " 553: 'новый',\n",
       " 554: 'номер',\n",
       " 555: 'нхл',\n",
       " 556: 'обменять',\n",
       " 557: 'ограниченно',\n",
       " 558: 'островитянин',\n",
       " 559: 'переходить',\n",
       " 560: 'поэтому',\n",
       " 561: 'приём',\n",
       " 562: 'пятый',\n",
       " 563: 'свободный',\n",
       " 564: 'силовой',\n",
       " 565: 'также',\n",
       " 566: 'jcom',\n",
       " 567: 'активный',\n",
       " 568: 'бродый',\n",
       " 569: 'ванкувер',\n",
       " 570: 'выбор',\n",
       " 571: 'голкипер',\n",
       " 572: 'девятый',\n",
       " 573: 'дьявол',\n",
       " 574: 'завершение',\n",
       " 575: 'итоговый',\n",
       " 576: 'канадский',\n",
       " 577: 'карьера',\n",
       " 578: 'корь',\n",
       " 579: 'кэнакс',\n",
       " 580: 'луонго',\n",
       " 581: 'мартин',\n",
       " 582: 'многоопытный',\n",
       " 583: 'найти',\n",
       " 584: 'ньюджерси',\n",
       " 585: 'обмен',\n",
       " 586: 'однако',\n",
       " 587: 'покинуть',\n",
       " 588: 'призвать',\n",
       " 589: 'пристанище',\n",
       " 590: 'ранее',\n",
       " 591: 'раунд',\n",
       " 592: 'результат',\n",
       " 593: 'роберто',\n",
       " 594: 'солидный',\n",
       " 595: 'удаться',\n",
       " 596: 'шнайдер',\n",
       " 597: 'sportsru',\n",
       " 598: 'аккуратный',\n",
       " 599: 'беспокоить',\n",
       " 600: 'большой',\n",
       " 601: 'видеть',\n",
       " 602: 'десять',\n",
       " 603: 'динамо',\n",
       " 604: 'достойно',\n",
       " 605: 'заслуживать',\n",
       " 606: 'зенит',\n",
       " 607: 'киевлянин',\n",
       " 608: 'киевский',\n",
       " 609: 'кондиция',\n",
       " 610: 'лучано',\n",
       " 611: 'мешать',\n",
       " 612: 'назад',\n",
       " 613: 'например',\n",
       " 614: 'начать',\n",
       " 615: 'неприятно',\n",
       " 616: 'несколько',\n",
       " 617: 'объединить',\n",
       " 618: 'отличие',\n",
       " 619: 'подготовка',\n",
       " 620: 'проигрывать',\n",
       " 621: 'происходить',\n",
       " 622: 'ранний',\n",
       " 623: 'семь',\n",
       " 624: 'спаллетти',\n",
       " 625: 'сражаться',\n",
       " 626: 'травмироваться',\n",
       " 627: 'увидеть',\n",
       " 628: 'улучшение',\n",
       " 629: 'физический',\n",
       " 630: 'хотя',\n",
       " 631: 'широков',\n",
       " 632: 'алвес',\n",
       " 633: 'альба',\n",
       " 634: 'арбелоа',\n",
       " 635: 'бразилия',\n",
       " 636: 'бразильский',\n",
       " 637: 'бускетс',\n",
       " 638: 'давид',\n",
       " 639: 'дань',\n",
       " 640: 'жулио',\n",
       " 641: 'иньест',\n",
       " 642: 'касильяс',\n",
       " 643: 'конфедерация',\n",
       " 644: 'луис',\n",
       " 645: 'маракан',\n",
       " 646: 'марио',\n",
       " 647: 'марсесть',\n",
       " 648: 'мат',\n",
       " 649: 'мск',\n",
       " 650: 'неймара',\n",
       " 651: 'оскар',\n",
       " 652: 'паулиньо',\n",
       " 653: 'педро',\n",
       " 654: 'пик',\n",
       " 655: 'прямой',\n",
       " 656: 'рамос',\n",
       " 657: 'риодежанейро',\n",
       " 658: 'сезара',\n",
       " 659: 'силва',\n",
       " 660: 'состояться',\n",
       " 661: 'стадион',\n",
       " 662: 'текстовый',\n",
       " 663: 'торрес',\n",
       " 664: 'тьяго',\n",
       " 665: 'филья',\n",
       " 666: 'финальный',\n",
       " 667: 'фред',\n",
       " 668: 'хавить',\n",
       " 669: 'халк',\n",
       " 670: 'эрнанести',\n",
       " 671: 'абсолютный',\n",
       " 672: 'ажиотаж',\n",
       " 673: 'алла',\n",
       " 674: 'борисович',\n",
       " 675: 'вид',\n",
       " 676: 'владелец',\n",
       " 677: 'выразить',\n",
       " 678: 'высказывание',\n",
       " 679: 'газзаев',\n",
       " 680: 'говорить',\n",
       " 681: 'господин',\n",
       " 682: 'дабы',\n",
       " 683: 'деньга',\n",
       " 684: 'дорогой',\n",
       " 685: 'зато',\n",
       " 686: 'идея',\n",
       " 687: 'иностранец',\n",
       " 688: 'легионер',\n",
       " 689: 'лимит',\n",
       " 690: 'любимый',\n",
       " 691: 'намерить',\n",
       " 692: 'несерьёзно',\n",
       " 693: 'никто',\n",
       " 694: 'оба',\n",
       " 695: 'объединение',\n",
       " 696: 'организатор',\n",
       " 697: 'оргкомитет',\n",
       " 698: 'относительно',\n",
       " 699: 'перестать',\n",
       " 700: 'петь',\n",
       " 701: 'позитив',\n",
       " 702: 'построение',\n",
       " 703: 'потерять',\n",
       " 704: 'предлагать',\n",
       " 705: 'привести',\n",
       " 706: 'принцип',\n",
       " 707: 'приобрести',\n",
       " 708: 'приходить',\n",
       " 709: 'проводить',\n",
       " 710: 'произойти',\n",
       " 711: 'проституировать',\n",
       " 712: 'противоречить',\n",
       " 713: 'прямо',\n",
       " 714: 'пугачёв',\n",
       " 715: 'пусть',\n",
       " 716: 'разговор',\n",
       " 717: 'рфс',\n",
       " 718: 'свидетельствовать',\n",
       " 719: 'свобода',\n",
       " 720: 'скорее',\n",
       " 721: 'собираться',\n",
       " 722: 'советский',\n",
       " 723: 'спасение',\n",
       " 724: 'спорт',\n",
       " 725: 'сразу',\n",
       " 726: 'стороженко',\n",
       " 727: 'сторонник',\n",
       " 728: 'страна',\n",
       " 729: 'тонуть',\n",
       " 730: 'тысяча',\n",
       " 731: 'убийство',\n",
       " 732: 'уничтожение',\n",
       " 733: 'федерация',\n",
       " 734: 'ффу',\n",
       " 735: 'ходить',\n",
       " 736: 'черта',\n",
       " 737: 'число',\n",
       " 738: 'юношеский',\n",
       " 739: 'бегать',\n",
       " 740: 'блохин',\n",
       " 741: 'временами',\n",
       " 742: 'всетаки',\n",
       " 743: 'вчера',\n",
       " 744: 'выглядеть',\n",
       " 745: 'зритель',\n",
       " 746: 'километраж',\n",
       " 747: 'маленький',\n",
       " 748: 'меняться',\n",
       " 749: 'нагрузка',\n",
       " 750: 'нужный',\n",
       " 751: 'объём',\n",
       " 752: 'олег',\n",
       " 753: 'план',\n",
       " 754: 'поехать',\n",
       " 755: 'поздравлять',\n",
       " 756: 'показывать',\n",
       " 757: 'покупать',\n",
       " 758: 'проявлять',\n",
       " 759: 'работать',\n",
       " 760: 'роль',\n",
       " 761: 'сбрасывать',\n",
       " 762: 'ставить',\n",
       " 763: 'столько',\n",
       " 764: 'стремиться',\n",
       " 765: 'тактика',\n",
       " 766: 'тяжёлый',\n",
       " 767: 'украинец',\n",
       " 768: 'уровень',\n",
       " 769: 'усталость',\n",
       " 770: 'установка',\n",
       " 771: 'чемуть',\n",
       " 772: 'анатолий',\n",
       " 773: 'аршавин',\n",
       " 774: 'аршавино',\n",
       " 775: 'безнадёжно',\n",
       " 776: 'бойцовский',\n",
       " 777: 'видно',\n",
       " 778: 'возвращение',\n",
       " 779: 'впечатление',\n",
       " 780: 'вряд',\n",
       " 781: 'встретить',\n",
       " 782: 'довольный',\n",
       " 783: 'дух',\n",
       " 784: 'знакомство',\n",
       " 785: 'мастерство',\n",
       " 786: 'набирать',\n",
       " 787: 'начаться',\n",
       " 788: 'небольшой',\n",
       " 789: 'некоторый',\n",
       " 790: 'никуда',\n",
       " 791: 'опытный',\n",
       " 792: 'положительный',\n",
       " 793: 'понятно',\n",
       " 794: 'приятно',\n",
       " 795: 'проблема',\n",
       " 796: 'профессионализм',\n",
       " 797: 'реакция',\n",
       " 798: 'русский',\n",
       " 799: 'тимощука',\n",
       " 800: 'удача',\n",
       " 801: 'уста',\n",
       " 802: 'человеческий',\n",
       " 803: 'возвращаться',\n",
       " 804: 'впереди',\n",
       " 805: 'вывод',\n",
       " 806: 'жаль',\n",
       " 807: 'заметно',\n",
       " 808: 'ломбертс',\n",
       " 809: 'мяч',\n",
       " 810: 'неплохой',\n",
       " 811: 'непросто',\n",
       " 812: 'николас',\n",
       " 813: 'особенно',\n",
       " 814: 'отдавать',\n",
       " 815: 'отличный',\n",
       " 816: 'половина',\n",
       " 817: 'свежий',\n",
       " 818: 'старт',\n",
       " 819: 'стоить',\n",
       " 820: 'тайм',\n",
       " 821: 'тренироваться',\n",
       " 822: 'тренировочный',\n",
       " 823: 'устать',\n",
       " 824: 'футболист',\n",
       " 825: 'частый',\n",
       " 826: 'atio',\n",
       " 827: 'sb',\n",
       " 828: 'америка',\n",
       " 829: 'амрия',\n",
       " 830: 'баффало',\n",
       " 831: 'выступать',\n",
       " 832: 'задор',\n",
       " 833: 'затем',\n",
       " 834: 'красный',\n",
       " 835: 'лига',\n",
       " 836: 'лондон',\n",
       " 837: 'мхл',\n",
       " 838: 'найтс',\n",
       " 839: 'никита',\n",
       " 840: 'новичок',\n",
       " 841: 'онтарио',\n",
       " 842: 'северный',\n",
       " 843: 'уехать',\n",
       " 844: 'хоккеист',\n",
       " 845: 'хоккейный',\n",
       " 846: 'аплодировать',\n",
       " 847: 'армянский',\n",
       " 848: 'бавария',\n",
       " 849: 'биться',\n",
       " 850: 'бомбардир',\n",
       " 851: 'генрих',\n",
       " 852: 'горняк',\n",
       " 853: 'действие',\n",
       " 854: 'демонстрировать',\n",
       " 855: 'донецкий',\n",
       " 856: 'забивать',\n",
       " 857: 'заявление',\n",
       " 858: 'иной',\n",
       " 859: 'исчезнуть',\n",
       " 860: 'каждый',\n",
       " 861: 'какиеть',\n",
       " 862: 'комментировать',\n",
       " 863: 'ливерпуль',\n",
       " 864: 'лучёска',\n",
       " 865: 'мадридский',\n",
       " 866: 'менять',\n",
       " 867: 'мирча',\n",
       " 868: 'мхитарян',\n",
       " 869: 'опуститься',\n",
       " 870: 'организация',\n",
       " 871: 'остальной',\n",
       " 872: 'отпуск',\n",
       " 873: 'оценить',\n",
       " 874: 'ошибка',\n",
       " 875: 'переговоры',\n",
       " 876: 'переход',\n",
       " 877: 'подумать',\n",
       " 878: 'помогать',\n",
       " 879: 'понять',\n",
       " 880: 'появляться',\n",
       " 881: 'превосходить',\n",
       " 882: 'призывать',\n",
       " 883: 'продлить',\n",
       " 884: 'реал',\n",
       " 885: 'редко',\n",
       " 886: 'руководство',\n",
       " 887: 'самовольно',\n",
       " 888: 'сильный',\n",
       " 889: 'совершать',\n",
       " 890: 'спина',\n",
       " 891: 'травмировать',\n",
       " 892: 'хотеться',\n",
       " 893: 'шахтёр',\n",
       " 894: 'штрафной',\n",
       " 895: 'бельханда',\n",
       " 896: 'вживую',\n",
       " 897: 'впервые',\n",
       " 898: 'джермейн',\n",
       " 899: 'добавить',\n",
       " 900: 'дьемерси',\n",
       " 901: 'интересно',\n",
       " 902: 'интересный',\n",
       " 903: 'краска',\n",
       " 904: 'ленс',\n",
       " 905: 'мбокани',\n",
       " 906: 'официально',\n",
       " 907: 'перерыв',\n",
       " 908: 'представить',\n",
       " 909: 'юнести',\n",
       " 910: 'адам',\n",
       " 911: 'аз',\n",
       " 912: 'аякс',\n",
       " 913: 'вицечемпион',\n",
       " 914: 'голландия',\n",
       " 915: 'достигнуть',\n",
       " 916: 'забить',\n",
       " 917: 'заинтересованный',\n",
       " 918: 'махер',\n",
       " 919: 'молодёжный',\n",
       " 920: 'отдать',\n",
       " 921: 'передача',\n",
       " 922: 'подписать',\n",
       " 923: 'помимо',\n",
       " 924: 'принципиальный',\n",
       " 925: 'псв',\n",
       " 926: 'рассчитать',\n",
       " 927: 'результативный',\n",
       " 928: 'соглашение',\n",
       " 929: 'трансфер',\n",
       " 930: 'выкладываться',\n",
       " 931: 'выходить',\n",
       " 932: 'забывать',\n",
       " 933: 'качественный',\n",
       " 934: 'концентрация',\n",
       " 935: 'любой',\n",
       " 936: 'могилевец',\n",
       " 937: 'независимо',\n",
       " 938: 'неофициальный',\n",
       " 939: 'новинка',\n",
       " 940: 'обидно',\n",
       " 941: 'павел',\n",
       " 942: 'правда',\n",
       " 943: 'прийти',\n",
       " 944: 'процент',\n",
       " 945: 'реализация',\n",
       " 946: 'соревнование',\n",
       " 947: 'стараться',\n",
       " 948: 'сто',\n",
       " 949: 'хватить',\n",
       " 950: 'шанс',\n",
       " 951: 'эмоция',\n",
       " 952: 'значит',\n",
       " 953: 'полный',\n",
       " 954: 'преддрафтовый',\n",
       " 955: 'признаться',\n",
       " 956: 'равно',\n",
       " 957: 'страшный',\n",
       " 958: 'сюрприз',\n",
       " 959: 'тест',\n",
       " 960: 'торонто',\n",
       " 961: 'yahoosports',\n",
       " 962: 'будущее',\n",
       " 963: 'вариант',\n",
       " 964: 'возможный',\n",
       " 965: 'гиллис',\n",
       " 966: 'движение',\n",
       " 967: 'именно',\n",
       " 968: 'искать',\n",
       " 969: 'курс',\n",
       " 970: 'майк',\n",
       " 971: 'молодёжь',\n",
       " 972: 'необходимо',\n",
       " 973: 'перспективный',\n",
       " 974: 'постоянно',\n",
       " 975: 'постоянный',\n",
       " 976: 'предложение',\n",
       " 977: 'прекрасный',\n",
       " 978: 'приспосабливаться',\n",
       " 979: 'причина',\n",
       " 980: 'различный',\n",
       " 981: 'рассказать',\n",
       " 982: 'рассматривать',\n",
       " 983: 'рынок',\n",
       " 984: 'случиться',\n",
       " 985: 'слушать',\n",
       " 986: 'событие',\n",
       " 987: 'трансферный',\n",
       " 988: 'уверенный',\n",
       " 989: 'чтоть',\n",
       " 990: 'балл',\n",
       " 991: 'джей',\n",
       " 992: 'дженять',\n",
       " 993: 'заполучить',\n",
       " 994: 'использовать',\n",
       " 995: 'каролина',\n",
       " 996: 'клинок',\n",
       " 997: 'комфер',\n",
       " 998: 'направление',\n",
       " 999: 'обратный',\n",
       " ...}"
      ]
     },
     "execution_count": 213,
     "metadata": {},
     "output_type": "execute_result"
    }
   ],
   "source": [
    "common_dictionary.id2token"
   ]
  },
  {
   "cell_type": "code",
   "execution_count": 214,
   "metadata": {
    "colab": {
     "base_uri": "https://localhost:8080/"
    },
    "executionInfo": {
     "elapsed": 51,
     "status": "ok",
     "timestamp": 1643366319629,
     "user": {
      "displayName": "Julia Ponomareva",
      "photoUrl": "https://lh3.googleusercontent.com/a-/AOh14Giimaqepqa7diwYfGdfG3eO8yvg2qDwve3KonGv=s64",
      "userId": "14904333240138417226"
     },
     "user_tz": -300
    },
    "id": "liZN1S1D82Zi",
    "outputId": "f13cf957-f30d-4492-97bd-f005cb57bbef"
   },
   "outputs": [
    {
     "data": {
      "text/plain": [
       "[(1036, 1), (6204, 1), (12347, 1), (135723, 1)]"
      ]
     },
     "execution_count": 214,
     "metadata": {},
     "output_type": "execute_result"
    }
   ],
   "source": [
    "common_dictionary.doc2bow(['коллега', 'пошел', 'пить', 'чай'], allow_update=True)"
   ]
  },
  {
   "cell_type": "markdown",
   "metadata": {
    "id": "g8FQaUKnrO0h"
   },
   "source": [
    "Все просто - это словарь наших слов"
   ]
  },
  {
   "cell_type": "markdown",
   "metadata": {
    "id": "HXPsfhNYrO0i"
   },
   "source": [
    "Запускаем обучение"
   ]
  },
  {
   "cell_type": "code",
   "execution_count": 215,
   "metadata": {
    "id": "yKtJddFL8UjP"
   },
   "outputs": [],
   "source": [
    "N_topic = 20"
   ]
  },
  {
   "cell_type": "code",
   "execution_count": 216,
   "metadata": {
    "colab": {
     "base_uri": "https://localhost:8080/"
    },
    "executionInfo": {
     "elapsed": 47098,
     "status": "ok",
     "timestamp": 1643367722718,
     "user": {
      "displayName": "Julia Ponomareva",
      "photoUrl": "https://lh3.googleusercontent.com/a-/AOh14Giimaqepqa7diwYfGdfG3eO8yvg2qDwve3KonGv=s64",
      "userId": "14904333240138417226"
     },
     "user_tz": -300
    },
    "id": "M7vErZgurO0j",
    "outputId": "47536de2-ceb0-4aab-a819-5d542d0b1d9e"
   },
   "outputs": [
    {
     "name": "stdout",
     "output_type": "stream",
     "text": [
      "Wall time: 50.9 s\n"
     ]
    }
   ],
   "source": [
    "%%time\n",
    "from gensim.models import LdaModel\n",
    "\n",
    "# Обучаем модель на корпусе\n",
    "lda = LdaModel(common_corpus, num_topics=N_topic, id2word=common_dictionary)#, passes=10)"
   ]
  },
  {
   "cell_type": "code",
   "execution_count": 217,
   "metadata": {
    "id": "wSqtDjVJrO0j"
   },
   "outputs": [],
   "source": [
    "from gensim.test.utils import datapath\n",
    "\n",
    "# Сохраняем модель на диск\n",
    "temp_file = datapath(\"model.lda\")\n",
    "lda.save(temp_file)"
   ]
  },
  {
   "cell_type": "code",
   "execution_count": 218,
   "metadata": {
    "id": "HdhE3p_KysTd"
   },
   "outputs": [],
   "source": [
    "# Загружаем обученную модель с диска\n",
    "lda = LdaModel.load(temp_file)"
   ]
  },
  {
   "cell_type": "code",
   "execution_count": 219,
   "metadata": {
    "colab": {
     "base_uri": "https://localhost:8080/"
    },
    "executionInfo": {
     "elapsed": 17,
     "status": "ok",
     "timestamp": 1643367828005,
     "user": {
      "displayName": "Julia Ponomareva",
      "photoUrl": "https://lh3.googleusercontent.com/a-/AOh14Giimaqepqa7diwYfGdfG3eO8yvg2qDwve3KonGv=s64",
      "userId": "14904333240138417226"
     },
     "user_tz": -300
    },
    "id": "P6AZMJMXrO0l",
    "outputId": "f5369c13-bcdc-4f74-9bc4-b50d1ae11da5"
   },
   "outputs": [
    {
     "name": "stdout",
     "output_type": "stream",
     "text": [
      "['форвард', 'авангард', 'томаш', 'заборский', 'прокомментировать', 'игра', 'свой', 'команда', 'матч', 'чемпионат', 'кхл', 'против', 'атланта', 'провести', 'плохой', 'матч', 'нижний', 'новгород', 'против', 'торпедо', 'настраиваться', 'первый', 'минута', 'включиться', 'работа', 'сказать', 'заборский', 'получиться', 'забросить', 'быстрый', 'гол', 'задать', 'хороший', 'темп', 'поединок', 'мочь', 'играть', 'ещё', 'хороший', 'сторона', 'пять', 'очко', 'выезд', 'девять', 'это', 'хороший']\n"
     ]
    },
    {
     "data": {
      "text/plain": [
       "[(4, 0.08506847),\n",
       " (7, 0.2705121),\n",
       " (11, 0.108580515),\n",
       " (18, 0.15863094),\n",
       " (19, 0.3599892)]"
      ]
     },
     "execution_count": 219,
     "metadata": {},
     "output_type": "execute_result"
    }
   ],
   "source": [
    "# Создаем новый корпус документов, которые раньше не видели\n",
    "other_texts = list(news['title'].iloc[:3])\n",
    "other_corpus = [common_dictionary.doc2bow(text) for text in other_texts]\n",
    "\n",
    "unseen_doc = other_corpus[2]\n",
    "print(other_texts[2])\n",
    "lda[unseen_doc] "
   ]
  },
  {
   "cell_type": "markdown",
   "metadata": {
    "id": "wuxhnNakrO0k"
   },
   "source": [
    "Обучили модель. Теперь 2 вопроса:\n",
    "\n",
    "1. как выглядят наши темы\n",
    "2. как получить для документа вектор значений (вероятности принадлежности каждой теме)"
   ]
  },
  {
   "cell_type": "code",
   "execution_count": 220,
   "metadata": {
    "colab": {
     "base_uri": "https://localhost:8080/"
    },
    "executionInfo": {
     "elapsed": 13,
     "status": "ok",
     "timestamp": 1643367828007,
     "user": {
      "displayName": "Julia Ponomareva",
      "photoUrl": "https://lh3.googleusercontent.com/a-/AOh14Giimaqepqa7diwYfGdfG3eO8yvg2qDwve3KonGv=s64",
      "userId": "14904333240138417226"
     },
     "user_tz": -300
    },
    "id": "W0Q0uqACrO0m",
    "outputId": "8b8acbff-b0ec-4cc2-c0e2-3be5186adcf7"
   },
   "outputs": [
    {
     "name": "stdout",
     "output_type": "stream",
     "text": [
      "topic_0: газ германия производитель украина мышь продолжительность польша\n",
      "topic_1: эстония гонконг ткачёв запрашивать кудрявцев тайвань янг\n",
      "topic_2: военный статья район который человек время поверхность\n",
      "topic_3: ракета северный запуск вода экипаж км берег\n",
      "topic_4: год млрд млн рубль цена рынок станция\n",
      "topic_5: год компания фонд который источник участок проект\n",
      "topic_6: который сша это россия страна год фонд\n",
      "topic_7: это рак год хороший первый всё метод\n",
      "topic_8: банк год риск обнаружить земля рф орган\n",
      "topic_9: дональд превысить лёд зеландия ирландия нил кит\n",
      "topic_10: женщина ребёнок мужчина журнал товар год университет\n",
      "topic_11: год суд компания тело который это мочь\n",
      "topic_12: россия президент российский путин санкция владимир сша\n",
      "topic_13: украина украинский киев фестиваль россия год это\n",
      "topic_14: год который это человек россия ребёнок также\n",
      "topic_15: взрыв мозг космос произойти результат огонь катастрофа\n",
      "topic_16: год рост погибнуть место восток тыс налог\n",
      "topic_17: это мочь экономика который свой страна говорить\n",
      "topic_18: это год который мочь весь исследование новый\n",
      "topic_19: солнце активность доклад погода земля учебный хороший\n"
     ]
    }
   ],
   "source": [
    "x = lda.show_topics(num_topics=N_topic, num_words=7, formatted=False)\n",
    "topics_words = [(tp[0], [wd[0] for wd in tp[1]]) for tp in x]\n",
    "\n",
    "# Печатаем только слова\n",
    "for topic, words in topics_words:\n",
    "    print(f\"topic_{topic}: \" + \" \".join(words))"
   ]
  },
  {
   "cell_type": "markdown",
   "metadata": {
    "id": "54-NWqJlrO0m"
   },
   "source": [
    "Очень неплохо - большинство тем вполне можно описать о чем они"
   ]
  },
  {
   "cell_type": "markdown",
   "metadata": {
    "id": "Ty7ZrvUirO0n"
   },
   "source": [
    "Давайте напишем функцию, которая будет нам возвращать векторное представление новости"
   ]
  },
  {
   "cell_type": "code",
   "execution_count": 221,
   "metadata": {
    "id": "KprjS5qLrO0o"
   },
   "outputs": [],
   "source": [
    "def get_lda_vector(lda, text):\n",
    "    unseen_doc = common_dictionary.doc2bow(text)\n",
    "    lda_tuple = lda[unseen_doc]\n",
    "\n",
    "    not_null_topics = dict(zip([i[0] for i in lda_tuple], [i[1] for i in lda_tuple]))\n",
    "\n",
    "    output_vector = []\n",
    "    for i in range(N_topic):\n",
    "        if i not in not_null_topics:\n",
    "            output_vector.append(0)\n",
    "        else:\n",
    "            output_vector.append(not_null_topics[i])\n",
    "    return np.array(output_vector)"
   ]
  },
  {
   "cell_type": "code",
   "execution_count": 222,
   "metadata": {
    "colab": {
     "base_uri": "https://localhost:8080/"
    },
    "executionInfo": {
     "elapsed": 18,
     "status": "ok",
     "timestamp": 1643367828737,
     "user": {
      "displayName": "Julia Ponomareva",
      "photoUrl": "https://lh3.googleusercontent.com/a-/AOh14Giimaqepqa7diwYfGdfG3eO8yvg2qDwve3KonGv=s64",
      "userId": "14904333240138417226"
     },
     "user_tz": -300
    },
    "id": "Ior7y34i-Uwo",
    "outputId": "52912339-f0d2-4b88-9964-555475c23ede"
   },
   "outputs": [
    {
     "data": {
      "text/plain": [
       "array([0.        , 0.        , 0.        , 0.        , 0.        ,\n",
       "       0.12182587, 0.        , 0.02458318, 0.77798343, 0.        ,\n",
       "       0.        , 0.        , 0.        , 0.        , 0.        ,\n",
       "       0.        , 0.        , 0.        , 0.        , 0.06822682])"
      ]
     },
     "execution_count": 222,
     "metadata": {},
     "output_type": "execute_result"
    }
   ],
   "source": [
    "get_lda_vector(lda, news['title'].iloc[0])"
   ]
  },
  {
   "cell_type": "code",
   "execution_count": 223,
   "metadata": {
    "colab": {
     "base_uri": "https://localhost:8080/"
    },
    "executionInfo": {
     "elapsed": 33550,
     "status": "ok",
     "timestamp": 1643367862273,
     "user": {
      "displayName": "Julia Ponomareva",
      "photoUrl": "https://lh3.googleusercontent.com/a-/AOh14Giimaqepqa7diwYfGdfG3eO8yvg2qDwve3KonGv=s64",
      "userId": "14904333240138417226"
     },
     "user_tz": -300
    },
    "id": "VbrPcaB6rO0o",
    "outputId": "82e8d490-5b3b-4c5e-92d3-4e45803103d1"
   },
   "outputs": [
    {
     "name": "stdout",
     "output_type": "stream",
     "text": [
      "Wall time: 40.2 s\n"
     ]
    },
    {
     "data": {
      "text/html": [
       "<div>\n",
       "<style scoped>\n",
       "    .dataframe tbody tr th:only-of-type {\n",
       "        vertical-align: middle;\n",
       "    }\n",
       "\n",
       "    .dataframe tbody tr th {\n",
       "        vertical-align: top;\n",
       "    }\n",
       "\n",
       "    .dataframe thead th {\n",
       "        text-align: right;\n",
       "    }\n",
       "</style>\n",
       "<table border=\"1\" class=\"dataframe\">\n",
       "  <thead>\n",
       "    <tr style=\"text-align: right;\">\n",
       "      <th></th>\n",
       "      <th>doc_id</th>\n",
       "      <th>topic_0</th>\n",
       "      <th>topic_1</th>\n",
       "      <th>topic_2</th>\n",
       "      <th>topic_3</th>\n",
       "      <th>topic_4</th>\n",
       "      <th>topic_5</th>\n",
       "      <th>topic_6</th>\n",
       "      <th>topic_7</th>\n",
       "      <th>topic_8</th>\n",
       "      <th>...</th>\n",
       "      <th>topic_10</th>\n",
       "      <th>topic_11</th>\n",
       "      <th>topic_12</th>\n",
       "      <th>topic_13</th>\n",
       "      <th>topic_14</th>\n",
       "      <th>topic_15</th>\n",
       "      <th>topic_16</th>\n",
       "      <th>topic_17</th>\n",
       "      <th>topic_18</th>\n",
       "      <th>topic_19</th>\n",
       "    </tr>\n",
       "  </thead>\n",
       "  <tbody>\n",
       "    <tr>\n",
       "      <th>0</th>\n",
       "      <td>6</td>\n",
       "      <td>0.0</td>\n",
       "      <td>0.0</td>\n",
       "      <td>0.0</td>\n",
       "      <td>0.0</td>\n",
       "      <td>0.000000</td>\n",
       "      <td>0.121852</td>\n",
       "      <td>0.0</td>\n",
       "      <td>0.024583</td>\n",
       "      <td>0.777958</td>\n",
       "      <td>...</td>\n",
       "      <td>0.0</td>\n",
       "      <td>0.000000</td>\n",
       "      <td>0.000000</td>\n",
       "      <td>0.0</td>\n",
       "      <td>0.000000</td>\n",
       "      <td>0.000000</td>\n",
       "      <td>0.0</td>\n",
       "      <td>0.000000</td>\n",
       "      <td>0.000000</td>\n",
       "      <td>0.068227</td>\n",
       "    </tr>\n",
       "    <tr>\n",
       "      <th>1</th>\n",
       "      <td>4896</td>\n",
       "      <td>0.0</td>\n",
       "      <td>0.0</td>\n",
       "      <td>0.0</td>\n",
       "      <td>0.0</td>\n",
       "      <td>0.000000</td>\n",
       "      <td>0.000000</td>\n",
       "      <td>0.0</td>\n",
       "      <td>0.000000</td>\n",
       "      <td>0.000000</td>\n",
       "      <td>...</td>\n",
       "      <td>0.0</td>\n",
       "      <td>0.000000</td>\n",
       "      <td>0.000000</td>\n",
       "      <td>0.0</td>\n",
       "      <td>0.000000</td>\n",
       "      <td>0.687769</td>\n",
       "      <td>0.0</td>\n",
       "      <td>0.000000</td>\n",
       "      <td>0.000000</td>\n",
       "      <td>0.289724</td>\n",
       "    </tr>\n",
       "    <tr>\n",
       "      <th>2</th>\n",
       "      <td>4897</td>\n",
       "      <td>0.0</td>\n",
       "      <td>0.0</td>\n",
       "      <td>0.0</td>\n",
       "      <td>0.0</td>\n",
       "      <td>0.077713</td>\n",
       "      <td>0.000000</td>\n",
       "      <td>0.0</td>\n",
       "      <td>0.277658</td>\n",
       "      <td>0.000000</td>\n",
       "      <td>...</td>\n",
       "      <td>0.0</td>\n",
       "      <td>0.099404</td>\n",
       "      <td>0.000000</td>\n",
       "      <td>0.0</td>\n",
       "      <td>0.000000</td>\n",
       "      <td>0.000000</td>\n",
       "      <td>0.0</td>\n",
       "      <td>0.069274</td>\n",
       "      <td>0.098108</td>\n",
       "      <td>0.361757</td>\n",
       "    </tr>\n",
       "    <tr>\n",
       "      <th>3</th>\n",
       "      <td>4898</td>\n",
       "      <td>0.0</td>\n",
       "      <td>0.0</td>\n",
       "      <td>0.0</td>\n",
       "      <td>0.0</td>\n",
       "      <td>0.000000</td>\n",
       "      <td>0.000000</td>\n",
       "      <td>0.0</td>\n",
       "      <td>0.621463</td>\n",
       "      <td>0.000000</td>\n",
       "      <td>...</td>\n",
       "      <td>0.0</td>\n",
       "      <td>0.000000</td>\n",
       "      <td>0.000000</td>\n",
       "      <td>0.0</td>\n",
       "      <td>0.000000</td>\n",
       "      <td>0.074177</td>\n",
       "      <td>0.0</td>\n",
       "      <td>0.000000</td>\n",
       "      <td>0.234797</td>\n",
       "      <td>0.059775</td>\n",
       "    </tr>\n",
       "    <tr>\n",
       "      <th>4</th>\n",
       "      <td>4899</td>\n",
       "      <td>0.0</td>\n",
       "      <td>0.0</td>\n",
       "      <td>0.0</td>\n",
       "      <td>0.0</td>\n",
       "      <td>0.000000</td>\n",
       "      <td>0.000000</td>\n",
       "      <td>0.0</td>\n",
       "      <td>0.000000</td>\n",
       "      <td>0.000000</td>\n",
       "      <td>...</td>\n",
       "      <td>0.0</td>\n",
       "      <td>0.000000</td>\n",
       "      <td>0.110595</td>\n",
       "      <td>0.0</td>\n",
       "      <td>0.438705</td>\n",
       "      <td>0.305898</td>\n",
       "      <td>0.0</td>\n",
       "      <td>0.000000</td>\n",
       "      <td>0.000000</td>\n",
       "      <td>0.122540</td>\n",
       "    </tr>\n",
       "  </tbody>\n",
       "</table>\n",
       "<p>5 rows × 21 columns</p>\n",
       "</div>"
      ],
      "text/plain": [
       "   doc_id  topic_0  topic_1  topic_2  topic_3   topic_4   topic_5  topic_6  \\\n",
       "0       6      0.0      0.0      0.0      0.0  0.000000  0.121852      0.0   \n",
       "1    4896      0.0      0.0      0.0      0.0  0.000000  0.000000      0.0   \n",
       "2    4897      0.0      0.0      0.0      0.0  0.077713  0.000000      0.0   \n",
       "3    4898      0.0      0.0      0.0      0.0  0.000000  0.000000      0.0   \n",
       "4    4899      0.0      0.0      0.0      0.0  0.000000  0.000000      0.0   \n",
       "\n",
       "    topic_7   topic_8  ...  topic_10  topic_11  topic_12  topic_13  topic_14  \\\n",
       "0  0.024583  0.777958  ...       0.0  0.000000  0.000000       0.0  0.000000   \n",
       "1  0.000000  0.000000  ...       0.0  0.000000  0.000000       0.0  0.000000   \n",
       "2  0.277658  0.000000  ...       0.0  0.099404  0.000000       0.0  0.000000   \n",
       "3  0.621463  0.000000  ...       0.0  0.000000  0.000000       0.0  0.000000   \n",
       "4  0.000000  0.000000  ...       0.0  0.000000  0.110595       0.0  0.438705   \n",
       "\n",
       "   topic_15  topic_16  topic_17  topic_18  topic_19  \n",
       "0  0.000000       0.0  0.000000  0.000000  0.068227  \n",
       "1  0.687769       0.0  0.000000  0.000000  0.289724  \n",
       "2  0.000000       0.0  0.069274  0.098108  0.361757  \n",
       "3  0.074177       0.0  0.000000  0.234797  0.059775  \n",
       "4  0.305898       0.0  0.000000  0.000000  0.122540  \n",
       "\n",
       "[5 rows x 21 columns]"
      ]
     },
     "execution_count": 223,
     "metadata": {},
     "output_type": "execute_result"
    }
   ],
   "source": [
    "%%time\n",
    "topic_matrix = pd.DataFrame([get_lda_vector(lda, text) for text in news['title'].values])\n",
    "topic_matrix.columns = [f'topic_{i}' for i in range(N_topic)]\n",
    "topic_matrix['doc_id'] = news['doc_id'].values\n",
    "topic_matrix = topic_matrix[['doc_id']+[f'topic_{i}' for i in range(N_topic)]]\n",
    "topic_matrix.head(5)"
   ]
  },
  {
   "cell_type": "code",
   "execution_count": 224,
   "metadata": {},
   "outputs": [
    {
     "data": {
      "text/plain": [
       "(27000, 21)"
      ]
     },
     "execution_count": 224,
     "metadata": {},
     "output_type": "execute_result"
    }
   ],
   "source": [
    "topic_matrix.shape"
   ]
  },
  {
   "cell_type": "markdown",
   "metadata": {
    "id": "VUA1PoYtrO0p"
   },
   "source": [
    "Прекрасно, мы получили вектора наших новостей! И даже умеем интерпретировать получившиеся темы.\n",
    "\n",
    "Можно двигаться далее"
   ]
  },
  {
   "cell_type": "markdown",
   "metadata": {
    "id": "IuomDk2XrO0q"
   },
   "source": [
    "### Следующий шаг - векторные представления пользователей"
   ]
  },
  {
   "cell_type": "code",
   "execution_count": 225,
   "metadata": {
    "colab": {
     "base_uri": "https://localhost:8080/",
     "height": 142
    },
    "executionInfo": {
     "elapsed": 111,
     "status": "ok",
     "timestamp": 1643367862275,
     "user": {
      "displayName": "Julia Ponomareva",
      "photoUrl": "https://lh3.googleusercontent.com/a-/AOh14Giimaqepqa7diwYfGdfG3eO8yvg2qDwve3KonGv=s64",
      "userId": "14904333240138417226"
     },
     "user_tz": -300
    },
    "id": "qoGsZWbFrO0r",
    "outputId": "3bee8c46-6a67-414a-998d-06245104eccc",
    "scrolled": true
   },
   "outputs": [
    {
     "data": {
      "text/html": [
       "<div>\n",
       "<style scoped>\n",
       "    .dataframe tbody tr th:only-of-type {\n",
       "        vertical-align: middle;\n",
       "    }\n",
       "\n",
       "    .dataframe tbody tr th {\n",
       "        vertical-align: top;\n",
       "    }\n",
       "\n",
       "    .dataframe thead th {\n",
       "        text-align: right;\n",
       "    }\n",
       "</style>\n",
       "<table border=\"1\" class=\"dataframe\">\n",
       "  <thead>\n",
       "    <tr style=\"text-align: right;\">\n",
       "      <th></th>\n",
       "      <th>uid</th>\n",
       "      <th>articles</th>\n",
       "    </tr>\n",
       "  </thead>\n",
       "  <tbody>\n",
       "    <tr>\n",
       "      <th>0</th>\n",
       "      <td>u105138</td>\n",
       "      <td>[293672, 293328, 293001, 293622, 293126, 1852]</td>\n",
       "    </tr>\n",
       "    <tr>\n",
       "      <th>1</th>\n",
       "      <td>u108690</td>\n",
       "      <td>[3405, 1739, 2972, 1158, 1599, 322665]</td>\n",
       "    </tr>\n",
       "    <tr>\n",
       "      <th>2</th>\n",
       "      <td>u108339</td>\n",
       "      <td>[1845, 2009, 2356, 1424, 2939, 323389]</td>\n",
       "    </tr>\n",
       "  </tbody>\n",
       "</table>\n",
       "</div>"
      ],
      "text/plain": [
       "       uid                                        articles\n",
       "0  u105138  [293672, 293328, 293001, 293622, 293126, 1852]\n",
       "1  u108690          [3405, 1739, 2972, 1158, 1599, 322665]\n",
       "2  u108339          [1845, 2009, 2356, 1424, 2939, 323389]"
      ]
     },
     "execution_count": 225,
     "metadata": {},
     "output_type": "execute_result"
    }
   ],
   "source": [
    "users.head(3)"
   ]
  },
  {
   "cell_type": "code",
   "execution_count": 226,
   "metadata": {
    "id": "yHXCN3VsrO0s"
   },
   "outputs": [],
   "source": [
    "doc_dict = dict(zip(topic_matrix['doc_id'].values, topic_matrix[[f'topic_{i}' for i in range(N_topic)]].values))"
   ]
  },
  {
   "cell_type": "code",
   "execution_count": 227,
   "metadata": {
    "colab": {
     "base_uri": "https://localhost:8080/"
    },
    "executionInfo": {
     "elapsed": 60,
     "status": "ok",
     "timestamp": 1643367862279,
     "user": {
      "displayName": "Julia Ponomareva",
      "photoUrl": "https://lh3.googleusercontent.com/a-/AOh14Giimaqepqa7diwYfGdfG3eO8yvg2qDwve3KonGv=s64",
      "userId": "14904333240138417226"
     },
     "user_tz": -300
    },
    "id": "XjdvHAB2rO0t",
    "outputId": "72a1f5d1-0822-4dc2-c3f0-4528f3e480d6"
   },
   "outputs": [
    {
     "data": {
      "text/plain": [
       "array([0.        , 0.        , 0.        , 0.        , 0.28943983,\n",
       "       0.14230666, 0.        , 0.        , 0.        , 0.        ,\n",
       "       0.09700868, 0.        , 0.11072574, 0.20749037, 0.        ,\n",
       "       0.        , 0.        , 0.        , 0.13746394, 0.        ])"
      ]
     },
     "execution_count": 227,
     "metadata": {},
     "output_type": "execute_result"
    }
   ],
   "source": [
    "doc_dict[293672]"
   ]
  },
  {
   "cell_type": "code",
   "execution_count": 228,
   "metadata": {
    "id": "x_M9N6AQrO0u"
   },
   "outputs": [],
   "source": [
    "def get_user_embedding(user_articles_list, doc_dict):\n",
    "    user_articles_list = eval(user_articles_list)\n",
    "    user_vector = np.array([doc_dict[doc_id] for doc_id in user_articles_list])\n",
    "    # print(user_vector)\n",
    "    user_vector = np.mean(user_vector, 0)  # можно не среднее\n",
    "    return user_vector"
   ]
  },
  {
   "cell_type": "code",
   "execution_count": 229,
   "metadata": {
    "colab": {
     "base_uri": "https://localhost:8080/"
    },
    "executionInfo": {
     "elapsed": 50,
     "status": "ok",
     "timestamp": 1643367862283,
     "user": {
      "displayName": "Julia Ponomareva",
      "photoUrl": "https://lh3.googleusercontent.com/a-/AOh14Giimaqepqa7diwYfGdfG3eO8yvg2qDwve3KonGv=s64",
      "userId": "14904333240138417226"
     },
     "user_tz": -300
    },
    "id": "vflnQMlirO0v",
    "outputId": "b7e3ceae-9dd9-4e0e-8706-053f42121eb2"
   },
   "outputs": [
    {
     "data": {
      "text/plain": [
       "array([0.0045317 , 0.        , 0.06332835, 0.00428415, 0.0048769 ,\n",
       "       0.04650812, 0.10828141, 0.        , 0.00287513, 0.00173169,\n",
       "       0.01565939, 0.04242036, 0.20026296, 0.        , 0.19071161,\n",
       "       0.00865294, 0.027089  , 0.15402479, 0.11201813, 0.        ])"
      ]
     },
     "execution_count": 229,
     "metadata": {},
     "output_type": "execute_result"
    }
   ],
   "source": [
    "user_articles_list = users['articles'].iloc[33]\n",
    "\n",
    "get_user_embedding(user_articles_list, doc_dict)"
   ]
  },
  {
   "cell_type": "markdown",
   "metadata": {
    "id": "jYRrogoNrO0z"
   },
   "source": [
    "Теперь получим эмбединги для всех пользователей и проверим их качество на конкретной downstream-задаче"
   ]
  },
  {
   "cell_type": "code",
   "execution_count": 230,
   "metadata": {
    "colab": {
     "base_uri": "https://localhost:8080/"
    },
    "executionInfo": {
     "elapsed": 519,
     "status": "ok",
     "timestamp": 1643367862763,
     "user": {
      "displayName": "Julia Ponomareva",
      "photoUrl": "https://lh3.googleusercontent.com/a-/AOh14Giimaqepqa7diwYfGdfG3eO8yvg2qDwve3KonGv=s64",
      "userId": "14904333240138417226"
     },
     "user_tz": -300
    },
    "id": "D4TX-H1trO00",
    "outputId": "b2f916d1-7b7d-4b46-f582-1f99aca96dd3"
   },
   "outputs": [
    {
     "name": "stdout",
     "output_type": "stream",
     "text": [
      "Wall time: 593 ms\n"
     ]
    },
    {
     "data": {
      "text/html": [
       "<div>\n",
       "<style scoped>\n",
       "    .dataframe tbody tr th:only-of-type {\n",
       "        vertical-align: middle;\n",
       "    }\n",
       "\n",
       "    .dataframe tbody tr th {\n",
       "        vertical-align: top;\n",
       "    }\n",
       "\n",
       "    .dataframe thead th {\n",
       "        text-align: right;\n",
       "    }\n",
       "</style>\n",
       "<table border=\"1\" class=\"dataframe\">\n",
       "  <thead>\n",
       "    <tr style=\"text-align: right;\">\n",
       "      <th></th>\n",
       "      <th>uid</th>\n",
       "      <th>topic_0</th>\n",
       "      <th>topic_1</th>\n",
       "      <th>topic_2</th>\n",
       "      <th>topic_3</th>\n",
       "      <th>topic_4</th>\n",
       "      <th>topic_5</th>\n",
       "      <th>topic_6</th>\n",
       "      <th>topic_7</th>\n",
       "      <th>topic_8</th>\n",
       "      <th>...</th>\n",
       "      <th>topic_10</th>\n",
       "      <th>topic_11</th>\n",
       "      <th>topic_12</th>\n",
       "      <th>topic_13</th>\n",
       "      <th>topic_14</th>\n",
       "      <th>topic_15</th>\n",
       "      <th>topic_16</th>\n",
       "      <th>topic_17</th>\n",
       "      <th>topic_18</th>\n",
       "      <th>topic_19</th>\n",
       "    </tr>\n",
       "  </thead>\n",
       "  <tbody>\n",
       "    <tr>\n",
       "      <th>0</th>\n",
       "      <td>u105138</td>\n",
       "      <td>0.000000</td>\n",
       "      <td>0.0</td>\n",
       "      <td>0.092661</td>\n",
       "      <td>0.00578</td>\n",
       "      <td>0.077395</td>\n",
       "      <td>0.023718</td>\n",
       "      <td>0.084331</td>\n",
       "      <td>0.000000</td>\n",
       "      <td>0.012696</td>\n",
       "      <td>...</td>\n",
       "      <td>0.167325</td>\n",
       "      <td>0.066447</td>\n",
       "      <td>0.048944</td>\n",
       "      <td>0.128717</td>\n",
       "      <td>0.107111</td>\n",
       "      <td>0.030267</td>\n",
       "      <td>0.026684</td>\n",
       "      <td>0.036357</td>\n",
       "      <td>0.055326</td>\n",
       "      <td>0.011160</td>\n",
       "    </tr>\n",
       "    <tr>\n",
       "      <th>1</th>\n",
       "      <td>u108690</td>\n",
       "      <td>0.002661</td>\n",
       "      <td>0.0</td>\n",
       "      <td>0.044821</td>\n",
       "      <td>0.00000</td>\n",
       "      <td>0.007874</td>\n",
       "      <td>0.017103</td>\n",
       "      <td>0.094500</td>\n",
       "      <td>0.031942</td>\n",
       "      <td>0.040538</td>\n",
       "      <td>...</td>\n",
       "      <td>0.025534</td>\n",
       "      <td>0.062942</td>\n",
       "      <td>0.079471</td>\n",
       "      <td>0.087580</td>\n",
       "      <td>0.168316</td>\n",
       "      <td>0.013129</td>\n",
       "      <td>0.016337</td>\n",
       "      <td>0.140903</td>\n",
       "      <td>0.134727</td>\n",
       "      <td>0.019334</td>\n",
       "    </tr>\n",
       "    <tr>\n",
       "      <th>2</th>\n",
       "      <td>u108339</td>\n",
       "      <td>0.010447</td>\n",
       "      <td>0.0</td>\n",
       "      <td>0.139195</td>\n",
       "      <td>0.00000</td>\n",
       "      <td>0.019755</td>\n",
       "      <td>0.052024</td>\n",
       "      <td>0.043242</td>\n",
       "      <td>0.014273</td>\n",
       "      <td>0.062461</td>\n",
       "      <td>...</td>\n",
       "      <td>0.004852</td>\n",
       "      <td>0.059687</td>\n",
       "      <td>0.083399</td>\n",
       "      <td>0.022908</td>\n",
       "      <td>0.216437</td>\n",
       "      <td>0.030565</td>\n",
       "      <td>0.055885</td>\n",
       "      <td>0.065859</td>\n",
       "      <td>0.104629</td>\n",
       "      <td>0.005682</td>\n",
       "    </tr>\n",
       "  </tbody>\n",
       "</table>\n",
       "<p>3 rows × 21 columns</p>\n",
       "</div>"
      ],
      "text/plain": [
       "       uid   topic_0  topic_1   topic_2  topic_3   topic_4   topic_5  \\\n",
       "0  u105138  0.000000      0.0  0.092661  0.00578  0.077395  0.023718   \n",
       "1  u108690  0.002661      0.0  0.044821  0.00000  0.007874  0.017103   \n",
       "2  u108339  0.010447      0.0  0.139195  0.00000  0.019755  0.052024   \n",
       "\n",
       "    topic_6   topic_7   topic_8  ...  topic_10  topic_11  topic_12  topic_13  \\\n",
       "0  0.084331  0.000000  0.012696  ...  0.167325  0.066447  0.048944  0.128717   \n",
       "1  0.094500  0.031942  0.040538  ...  0.025534  0.062942  0.079471  0.087580   \n",
       "2  0.043242  0.014273  0.062461  ...  0.004852  0.059687  0.083399  0.022908   \n",
       "\n",
       "   topic_14  topic_15  topic_16  topic_17  topic_18  topic_19  \n",
       "0  0.107111  0.030267  0.026684  0.036357  0.055326  0.011160  \n",
       "1  0.168316  0.013129  0.016337  0.140903  0.134727  0.019334  \n",
       "2  0.216437  0.030565  0.055885  0.065859  0.104629  0.005682  \n",
       "\n",
       "[3 rows x 21 columns]"
      ]
     },
     "execution_count": 230,
     "metadata": {},
     "output_type": "execute_result"
    }
   ],
   "source": [
    "%%time\n",
    "user_embeddings = pd.DataFrame([i for i in users['articles'].apply(lambda x: get_user_embedding(x, doc_dict))])\n",
    "user_embeddings.columns = [f'topic_{i}' for i in range(N_topic)]\n",
    "user_embeddings['uid'] = users['uid'].values\n",
    "user_embeddings = user_embeddings[['uid']+[f'topic_{i}' for i in range(N_topic)]]\n",
    "user_embeddings.head(3)"
   ]
  },
  {
   "cell_type": "markdown",
   "metadata": {
    "id": "sNz_0xHmrO01"
   },
   "source": [
    "Датасет готов - можно попробовать обучить модель. Загрузим нашу разметку"
   ]
  },
  {
   "cell_type": "code",
   "execution_count": 231,
   "metadata": {
    "colab": {
     "base_uri": "https://localhost:8080/"
    },
    "executionInfo": {
     "elapsed": 536,
     "status": "ok",
     "timestamp": 1643367863265,
     "user": {
      "displayName": "Julia Ponomareva",
      "photoUrl": "https://lh3.googleusercontent.com/a-/AOh14Giimaqepqa7diwYfGdfG3eO8yvg2qDwve3KonGv=s64",
      "userId": "14904333240138417226"
     },
     "user_tz": -300
    },
    "id": "MT74Vkzu_9Rx",
    "outputId": "87393bfd-5446-415f-bf10-c4e699111919"
   },
   "outputs": [],
   "source": [
    "# !wget 'https://drive.google.com/uc?export=download&id=1nWKteQgEr9Rl8CwTRY7N2f7igevNH7oK' -O users_churn.csv"
   ]
  },
  {
   "cell_type": "code",
   "execution_count": 232,
   "metadata": {
    "colab": {
     "base_uri": "https://localhost:8080/",
     "height": 142
    },
    "executionInfo": {
     "elapsed": 26,
     "status": "ok",
     "timestamp": 1643367863267,
     "user": {
      "displayName": "Julia Ponomareva",
      "photoUrl": "https://lh3.googleusercontent.com/a-/AOh14Giimaqepqa7diwYfGdfG3eO8yvg2qDwve3KonGv=s64",
      "userId": "14904333240138417226"
     },
     "user_tz": -300
    },
    "id": "D9jwMilJrO01",
    "outputId": "ff4a482c-3714-4eed-dedc-6f070e219aba"
   },
   "outputs": [
    {
     "data": {
      "text/html": [
       "<div>\n",
       "<style scoped>\n",
       "    .dataframe tbody tr th:only-of-type {\n",
       "        vertical-align: middle;\n",
       "    }\n",
       "\n",
       "    .dataframe tbody tr th {\n",
       "        vertical-align: top;\n",
       "    }\n",
       "\n",
       "    .dataframe thead th {\n",
       "        text-align: right;\n",
       "    }\n",
       "</style>\n",
       "<table border=\"1\" class=\"dataframe\">\n",
       "  <thead>\n",
       "    <tr style=\"text-align: right;\">\n",
       "      <th></th>\n",
       "      <th>uid</th>\n",
       "      <th>churn</th>\n",
       "    </tr>\n",
       "  </thead>\n",
       "  <tbody>\n",
       "    <tr>\n",
       "      <th>0</th>\n",
       "      <td>u107120</td>\n",
       "      <td>0</td>\n",
       "    </tr>\n",
       "    <tr>\n",
       "      <th>1</th>\n",
       "      <td>u102277</td>\n",
       "      <td>0</td>\n",
       "    </tr>\n",
       "    <tr>\n",
       "      <th>2</th>\n",
       "      <td>u102444</td>\n",
       "      <td>0</td>\n",
       "    </tr>\n",
       "  </tbody>\n",
       "</table>\n",
       "</div>"
      ],
      "text/plain": [
       "       uid  churn\n",
       "0  u107120      0\n",
       "1  u102277      0\n",
       "2  u102444      0"
      ]
     },
     "execution_count": 232,
     "metadata": {},
     "output_type": "execute_result"
    }
   ],
   "source": [
    "target = pd.read_csv('./users_churn.csv')\n",
    "target.head(3)"
   ]
  },
  {
   "cell_type": "code",
   "execution_count": 233,
   "metadata": {
    "colab": {
     "base_uri": "https://localhost:8080/",
     "height": 206
    },
    "executionInfo": {
     "elapsed": 41,
     "status": "ok",
     "timestamp": 1643367863837,
     "user": {
      "displayName": "Julia Ponomareva",
      "photoUrl": "https://lh3.googleusercontent.com/a-/AOh14Giimaqepqa7diwYfGdfG3eO8yvg2qDwve3KonGv=s64",
      "userId": "14904333240138417226"
     },
     "user_tz": -300
    },
    "id": "8QbVcdI4rO02",
    "outputId": "c01e65ae-0861-4d1b-a85a-d6b03f560698"
   },
   "outputs": [
    {
     "data": {
      "text/html": [
       "<div>\n",
       "<style scoped>\n",
       "    .dataframe tbody tr th:only-of-type {\n",
       "        vertical-align: middle;\n",
       "    }\n",
       "\n",
       "    .dataframe tbody tr th {\n",
       "        vertical-align: top;\n",
       "    }\n",
       "\n",
       "    .dataframe thead th {\n",
       "        text-align: right;\n",
       "    }\n",
       "</style>\n",
       "<table border=\"1\" class=\"dataframe\">\n",
       "  <thead>\n",
       "    <tr style=\"text-align: right;\">\n",
       "      <th></th>\n",
       "      <th>uid</th>\n",
       "      <th>topic_0</th>\n",
       "      <th>topic_1</th>\n",
       "      <th>topic_2</th>\n",
       "      <th>topic_3</th>\n",
       "      <th>topic_4</th>\n",
       "      <th>topic_5</th>\n",
       "      <th>topic_6</th>\n",
       "      <th>topic_7</th>\n",
       "      <th>topic_8</th>\n",
       "      <th>...</th>\n",
       "      <th>topic_11</th>\n",
       "      <th>topic_12</th>\n",
       "      <th>topic_13</th>\n",
       "      <th>topic_14</th>\n",
       "      <th>topic_15</th>\n",
       "      <th>topic_16</th>\n",
       "      <th>topic_17</th>\n",
       "      <th>topic_18</th>\n",
       "      <th>topic_19</th>\n",
       "      <th>churn</th>\n",
       "    </tr>\n",
       "  </thead>\n",
       "  <tbody>\n",
       "    <tr>\n",
       "      <th>0</th>\n",
       "      <td>u105138</td>\n",
       "      <td>0.000000</td>\n",
       "      <td>0.0</td>\n",
       "      <td>0.092661</td>\n",
       "      <td>0.00578</td>\n",
       "      <td>0.077395</td>\n",
       "      <td>0.023718</td>\n",
       "      <td>0.084331</td>\n",
       "      <td>0.000000</td>\n",
       "      <td>0.012696</td>\n",
       "      <td>...</td>\n",
       "      <td>0.066447</td>\n",
       "      <td>0.048944</td>\n",
       "      <td>0.128717</td>\n",
       "      <td>0.107111</td>\n",
       "      <td>0.030267</td>\n",
       "      <td>0.026684</td>\n",
       "      <td>0.036357</td>\n",
       "      <td>0.055326</td>\n",
       "      <td>0.011160</td>\n",
       "      <td>0</td>\n",
       "    </tr>\n",
       "    <tr>\n",
       "      <th>1</th>\n",
       "      <td>u108690</td>\n",
       "      <td>0.002661</td>\n",
       "      <td>0.0</td>\n",
       "      <td>0.044821</td>\n",
       "      <td>0.00000</td>\n",
       "      <td>0.007874</td>\n",
       "      <td>0.017103</td>\n",
       "      <td>0.094500</td>\n",
       "      <td>0.031942</td>\n",
       "      <td>0.040538</td>\n",
       "      <td>...</td>\n",
       "      <td>0.062942</td>\n",
       "      <td>0.079471</td>\n",
       "      <td>0.087580</td>\n",
       "      <td>0.168316</td>\n",
       "      <td>0.013129</td>\n",
       "      <td>0.016337</td>\n",
       "      <td>0.140903</td>\n",
       "      <td>0.134727</td>\n",
       "      <td>0.019334</td>\n",
       "      <td>1</td>\n",
       "    </tr>\n",
       "    <tr>\n",
       "      <th>2</th>\n",
       "      <td>u108339</td>\n",
       "      <td>0.010447</td>\n",
       "      <td>0.0</td>\n",
       "      <td>0.139195</td>\n",
       "      <td>0.00000</td>\n",
       "      <td>0.019755</td>\n",
       "      <td>0.052024</td>\n",
       "      <td>0.043242</td>\n",
       "      <td>0.014273</td>\n",
       "      <td>0.062461</td>\n",
       "      <td>...</td>\n",
       "      <td>0.059687</td>\n",
       "      <td>0.083399</td>\n",
       "      <td>0.022908</td>\n",
       "      <td>0.216437</td>\n",
       "      <td>0.030565</td>\n",
       "      <td>0.055885</td>\n",
       "      <td>0.065859</td>\n",
       "      <td>0.104629</td>\n",
       "      <td>0.005682</td>\n",
       "      <td>1</td>\n",
       "    </tr>\n",
       "  </tbody>\n",
       "</table>\n",
       "<p>3 rows × 22 columns</p>\n",
       "</div>"
      ],
      "text/plain": [
       "       uid   topic_0  topic_1   topic_2  topic_3   topic_4   topic_5  \\\n",
       "0  u105138  0.000000      0.0  0.092661  0.00578  0.077395  0.023718   \n",
       "1  u108690  0.002661      0.0  0.044821  0.00000  0.007874  0.017103   \n",
       "2  u108339  0.010447      0.0  0.139195  0.00000  0.019755  0.052024   \n",
       "\n",
       "    topic_6   topic_7   topic_8  ...  topic_11  topic_12  topic_13  topic_14  \\\n",
       "0  0.084331  0.000000  0.012696  ...  0.066447  0.048944  0.128717  0.107111   \n",
       "1  0.094500  0.031942  0.040538  ...  0.062942  0.079471  0.087580  0.168316   \n",
       "2  0.043242  0.014273  0.062461  ...  0.059687  0.083399  0.022908  0.216437   \n",
       "\n",
       "   topic_15  topic_16  topic_17  topic_18  topic_19  churn  \n",
       "0  0.030267  0.026684  0.036357  0.055326  0.011160      0  \n",
       "1  0.013129  0.016337  0.140903  0.134727  0.019334      1  \n",
       "2  0.030565  0.055885  0.065859  0.104629  0.005682      1  \n",
       "\n",
       "[3 rows x 22 columns]"
      ]
     },
     "execution_count": 233,
     "metadata": {},
     "output_type": "execute_result"
    }
   ],
   "source": [
    "X = pd.merge(user_embeddings, target, 'left')\n",
    "X.head(3)"
   ]
  },
  {
   "cell_type": "code",
   "execution_count": 234,
   "metadata": {
    "id": "U6c1-0YIrO02"
   },
   "outputs": [],
   "source": [
    "from sklearn.linear_model import LogisticRegression\n",
    "from sklearn.model_selection import train_test_split\n",
    "\n",
    "import matplotlib.pyplot as plt"
   ]
  },
  {
   "cell_type": "code",
   "execution_count": 235,
   "metadata": {
    "id": "aKNKOn9srO03"
   },
   "outputs": [],
   "source": [
    "# разделим данные на train/test\n",
    "X_train, X_test, y_train, y_test = train_test_split(X[[f'topic_{i}' for i in range(N_topic)]], \n",
    "                                                    X['churn'], random_state=0)"
   ]
  },
  {
   "cell_type": "code",
   "execution_count": 236,
   "metadata": {
    "colab": {
     "base_uri": "https://localhost:8080/"
    },
    "executionInfo": {
     "elapsed": 51,
     "status": "ok",
     "timestamp": 1643367863856,
     "user": {
      "displayName": "Julia Ponomareva",
      "photoUrl": "https://lh3.googleusercontent.com/a-/AOh14Giimaqepqa7diwYfGdfG3eO8yvg2qDwve3KonGv=s64",
      "userId": "14904333240138417226"
     },
     "user_tz": -300
    },
    "id": "8TujsSGprO04",
    "outputId": "b0945697-b20b-470d-e37e-49a3b275d0d6"
   },
   "outputs": [
    {
     "data": {
      "text/plain": [
       "LogisticRegression()"
      ]
     },
     "execution_count": 236,
     "metadata": {},
     "output_type": "execute_result"
    }
   ],
   "source": [
    "logreg = LogisticRegression()\n",
    "# обучим \n",
    "logreg.fit(X_train, y_train)"
   ]
  },
  {
   "cell_type": "code",
   "execution_count": 237,
   "metadata": {
    "colab": {
     "base_uri": "https://localhost:8080/"
    },
    "executionInfo": {
     "elapsed": 46,
     "status": "ok",
     "timestamp": 1643367863859,
     "user": {
      "displayName": "Julia Ponomareva",
      "photoUrl": "https://lh3.googleusercontent.com/a-/AOh14Giimaqepqa7diwYfGdfG3eO8yvg2qDwve3KonGv=s64",
      "userId": "14904333240138417226"
     },
     "user_tz": -300
    },
    "id": "cB9Y-S0mrO06",
    "outputId": "f551e1bd-4027-4507-d2cf-15ea7fc3a98c"
   },
   "outputs": [
    {
     "data": {
      "text/plain": [
       "array([0.1395078 , 0.13810515, 0.19252384, 0.17596111, 0.1202566 ,\n",
       "       0.18081051, 0.19341966, 0.02907246, 0.04160824, 0.16054818])"
      ]
     },
     "execution_count": 237,
     "metadata": {},
     "output_type": "execute_result"
    }
   ],
   "source": [
    "# наши прогнозы для тестовой выборки\n",
    "preds = logreg.predict_proba(X_test)[:, 1]\n",
    "preds[:10]"
   ]
  },
  {
   "cell_type": "markdown",
   "metadata": {
    "id": "HZ9S0UIGrO0-"
   },
   "source": [
    "### Рассчитаем Precision, Recall, F_score"
   ]
  },
  {
   "cell_type": "code",
   "execution_count": 238,
   "metadata": {
    "id": "29MnGc_B5bTY"
   },
   "outputs": [],
   "source": [
    "from sklearn.metrics import (f1_score, roc_auc_score, precision_score,\n",
    "                             classification_report, precision_recall_curve, confusion_matrix)"
   ]
  },
  {
   "cell_type": "code",
   "execution_count": 239,
   "metadata": {
    "colab": {
     "base_uri": "https://localhost:8080/",
     "height": 418
    },
    "executionInfo": {
     "elapsed": 676,
     "status": "ok",
     "timestamp": 1643367864497,
     "user": {
      "displayName": "Julia Ponomareva",
      "photoUrl": "https://lh3.googleusercontent.com/a-/AOh14Giimaqepqa7diwYfGdfG3eO8yvg2qDwve3KonGv=s64",
      "userId": "14904333240138417226"
     },
     "user_tz": -300
    },
    "id": "62YZTfa1AhsW",
    "outputId": "aa2a47cc-cc99-42ee-ba85-91b1474ae0b1"
   },
   "outputs": [
    {
     "data": {
      "image/png": "[encoded data removed]",
      "text/plain": [
       "<Figure size 720x432 with 1 Axes>"
      ]
     },
     "metadata": {
      "needs_background": "light"
     },
     "output_type": "display_data"
    }
   ],
   "source": [
    "n = 50\n",
    "plt.figure(figsize=(10, 6))\n",
    "plt.plot(preds[:n], label='predict')\n",
    "plt.plot(y_test.values[:n], label='true')\n",
    "plt.title('ответ модели')\n",
    "plt.xlabel('№ примера')\n",
    "plt.ylabel('выход')\n",
    "plt.legend()\n",
    "plt.grid('On')\n",
    "plt.show()"
   ]
  },
  {
   "cell_type": "code",
   "execution_count": 240,
   "metadata": {
    "colab": {
     "base_uri": "https://localhost:8080/"
    },
    "executionInfo": {
     "elapsed": 53,
     "status": "ok",
     "timestamp": 1643367864504,
     "user": {
      "displayName": "Julia Ponomareva",
      "photoUrl": "https://lh3.googleusercontent.com/a-/AOh14Giimaqepqa7diwYfGdfG3eO8yvg2qDwve3KonGv=s64",
      "userId": "14904333240138417226"
     },
     "user_tz": -300
    },
    "id": "nOw4lCrhrO0_",
    "outputId": "3f690716-e6d1-4652-d5d2-114f5d5c8ddb"
   },
   "outputs": [
    {
     "name": "stdout",
     "output_type": "stream",
     "text": [
      "Best Threshold=0.23157067429551265, F-Score=0.549, Precision=0.490, Recall=0.624\n"
     ]
    }
   ],
   "source": [
    "precision, recall, thresholds = precision_recall_curve(y_test, preds)\n",
    "fscore = (2 * precision * recall) / (precision + recall)\n",
    "# locate the index of the largest f score\n",
    "ix = np.argmax(fscore)\n",
    "print(f'Best Threshold={thresholds[ix]}, F-Score={fscore[ix]:.3f}, Precision={precision[ix]:.3f}, Recall={recall[ix]:.3f}')"
   ]
  },
  {
   "cell_type": "code",
   "execution_count": 241,
   "metadata": {
    "id": "4_7clnabrO1A"
   },
   "outputs": [],
   "source": [
    "def plot_confusion_matrix(cm, classes,\n",
    "                          normalize=False,\n",
    "                          title='Confusion matrix',\n",
    "                          cmap=plt.cm.Blues):\n",
    "    \"\"\"\n",
    "    This function prints and plots the confusion matrix.\n",
    "    Normalization can be applied by setting `normalize=True`.\n",
    "    \"\"\"\n",
    "    plt.imshow(cm, interpolation='nearest', cmap=cmap)\n",
    "    plt.title(title)\n",
    "    plt.colorbar()\n",
    "    tick_marks = np.arange(len(classes))\n",
    "    plt.xticks(tick_marks, classes, rotation=45)\n",
    "    plt.yticks(tick_marks, classes)\n",
    "\n",
    "    if normalize:\n",
    "        cm = cm.astype('float') / cm.sum(axis=1)[:, np.newaxis]\n",
    "        print(\"Normalized confusion matrix\")\n",
    "    else:\n",
    "        print('Confusion matrix, without normalization')\n",
    "\n",
    "    print(cm)\n",
    "\n",
    "    thresh = cm.max() / 2.\n",
    "    for i, j in itertools.product(range(cm.shape[0]), range(cm.shape[1])):\n",
    "        plt.text(j, i, cm[i, j],\n",
    "                 horizontalalignment=\"center\",\n",
    "                 color=\"white\" if cm[i, j] > thresh else \"black\")\n",
    "\n",
    "    plt.tight_layout()\n",
    "    plt.ylabel('True label')\n",
    "    plt.xlabel('Predicted label')"
   ]
  },
  {
   "cell_type": "code",
   "execution_count": 242,
   "metadata": {
    "colab": {
     "base_uri": "https://localhost:8080/",
     "height": 647
    },
    "executionInfo": {
     "elapsed": 672,
     "status": "ok",
     "timestamp": 1643367865149,
     "user": {
      "displayName": "Julia Ponomareva",
      "photoUrl": "https://lh3.googleusercontent.com/a-/AOh14Giimaqepqa7diwYfGdfG3eO8yvg2qDwve3KonGv=s64",
      "userId": "14904333240138417226"
     },
     "user_tz": -300
    },
    "id": "XmsG89_srO1B",
    "outputId": "be64676e-12f0-4222-c8d9-15f71663afcf"
   },
   "outputs": [
    {
     "name": "stdout",
     "output_type": "stream",
     "text": [
      "Confusion matrix, without normalization\n",
      "[[1596  159]\n",
      " [  93  152]]\n"
     ]
    },
    {
     "data": {
      "image/png": "[encoded data removed]",
      "text/plain": [
       "<Figure size 720x576 with 2 Axes>"
      ]
     },
     "metadata": {
      "needs_background": "light"
     },
     "output_type": "display_data"
    }
   ],
   "source": [
    "import itertools\n",
    "# мы уже нашли ранее \"оптимальный\" порог, когда максимизировали f_score\n",
    "font = {'size' : 15}\n",
    "\n",
    "plt.rc('font', **font)\n",
    "\n",
    "cnf_matrix = confusion_matrix(y_test, preds > thresholds[ix])\n",
    "\n",
    "plt.figure(figsize=(10, 8))\n",
    "plot_confusion_matrix(cnf_matrix, classes=['Non-Churn', 'churn'],\n",
    "                      title='Confusion matrix')\n",
    "plt.savefig(\"conf_matrix.png\")\n",
    "plt.show()"
   ]
  },
  {
   "cell_type": "code",
   "execution_count": 243,
   "metadata": {
    "colab": {
     "base_uri": "https://localhost:8080/"
    },
    "executionInfo": {
     "elapsed": 66,
     "status": "ok",
     "timestamp": 1643367865153,
     "user": {
      "displayName": "Julia Ponomareva",
      "photoUrl": "https://lh3.googleusercontent.com/a-/AOh14Giimaqepqa7diwYfGdfG3eO8yvg2qDwve3KonGv=s64",
      "userId": "14904333240138417226"
     },
     "user_tz": -300
    },
    "id": "q8RA79RJrO1C",
    "outputId": "619a1389-55c7-4c99-f987-2e2cb57d3824"
   },
   "outputs": [
    {
     "data": {
      "text/plain": [
       "0.90431536717251"
      ]
     },
     "execution_count": 243,
     "metadata": {},
     "output_type": "execute_result"
    }
   ],
   "source": [
    "roc_auc_score(y_test, preds)"
   ]
  },
  {
   "cell_type": "markdown",
   "metadata": {},
   "source": [
    "### Задание №2"
   ]
  },
  {
   "cell_type": "markdown",
   "metadata": {},
   "source": [
    "***Модифицируем код функции get_user_embedding таким образом, чтобы считалось не среднее (как в примере np.mean), а медиана:***"
   ]
  },
  {
   "cell_type": "code",
   "execution_count": 244,
   "metadata": {},
   "outputs": [],
   "source": [
    "def get_user_embedding_median(user_articles_list, doc_dict):\n",
    "    user_articles_list = eval(user_articles_list)\n",
    "    user_vector = np.array([doc_dict[doc_id] for doc_id in user_articles_list])\n",
    "    # print(user_vector)\n",
    "    user_vector = np.median(user_vector, 0)  # можно не среднее\n",
    "    return user_vector"
   ]
  },
  {
   "cell_type": "code",
   "execution_count": 245,
   "metadata": {},
   "outputs": [
    {
     "name": "stdout",
     "output_type": "stream",
     "text": [
      "Wall time: 931 ms\n"
     ]
    },
    {
     "data": {
      "text/html": [
       "<div>\n",
       "<style scoped>\n",
       "    .dataframe tbody tr th:only-of-type {\n",
       "        vertical-align: middle;\n",
       "    }\n",
       "\n",
       "    .dataframe tbody tr th {\n",
       "        vertical-align: top;\n",
       "    }\n",
       "\n",
       "    .dataframe thead th {\n",
       "        text-align: right;\n",
       "    }\n",
       "</style>\n",
       "<table border=\"1\" class=\"dataframe\">\n",
       "  <thead>\n",
       "    <tr style=\"text-align: right;\">\n",
       "      <th></th>\n",
       "      <th>uid</th>\n",
       "      <th>topic_0</th>\n",
       "      <th>topic_1</th>\n",
       "      <th>topic_2</th>\n",
       "      <th>topic_3</th>\n",
       "      <th>topic_4</th>\n",
       "      <th>topic_5</th>\n",
       "      <th>topic_6</th>\n",
       "      <th>topic_7</th>\n",
       "      <th>topic_8</th>\n",
       "      <th>...</th>\n",
       "      <th>topic_10</th>\n",
       "      <th>topic_11</th>\n",
       "      <th>topic_12</th>\n",
       "      <th>topic_13</th>\n",
       "      <th>topic_14</th>\n",
       "      <th>topic_15</th>\n",
       "      <th>topic_16</th>\n",
       "      <th>topic_17</th>\n",
       "      <th>topic_18</th>\n",
       "      <th>topic_19</th>\n",
       "    </tr>\n",
       "  </thead>\n",
       "  <tbody>\n",
       "    <tr>\n",
       "      <th>0</th>\n",
       "      <td>u105138</td>\n",
       "      <td>0.0</td>\n",
       "      <td>0.0</td>\n",
       "      <td>0.084121</td>\n",
       "      <td>0.0</td>\n",
       "      <td>0.028441</td>\n",
       "      <td>0.000000</td>\n",
       "      <td>0.031926</td>\n",
       "      <td>0.000000</td>\n",
       "      <td>0.000000</td>\n",
       "      <td>...</td>\n",
       "      <td>0.170183</td>\n",
       "      <td>0.000000</td>\n",
       "      <td>0.025695</td>\n",
       "      <td>0.000000</td>\n",
       "      <td>0.081745</td>\n",
       "      <td>0.000000</td>\n",
       "      <td>0.0</td>\n",
       "      <td>0.000000</td>\n",
       "      <td>0.000000</td>\n",
       "      <td>0.0</td>\n",
       "    </tr>\n",
       "    <tr>\n",
       "      <th>1</th>\n",
       "      <td>u108690</td>\n",
       "      <td>0.0</td>\n",
       "      <td>0.0</td>\n",
       "      <td>0.022631</td>\n",
       "      <td>0.0</td>\n",
       "      <td>0.000000</td>\n",
       "      <td>0.000000</td>\n",
       "      <td>0.113668</td>\n",
       "      <td>0.000000</td>\n",
       "      <td>0.023894</td>\n",
       "      <td>...</td>\n",
       "      <td>0.000000</td>\n",
       "      <td>0.033650</td>\n",
       "      <td>0.005609</td>\n",
       "      <td>0.031029</td>\n",
       "      <td>0.161338</td>\n",
       "      <td>0.015319</td>\n",
       "      <td>0.0</td>\n",
       "      <td>0.098508</td>\n",
       "      <td>0.126632</td>\n",
       "      <td>0.0</td>\n",
       "    </tr>\n",
       "    <tr>\n",
       "      <th>2</th>\n",
       "      <td>u108339</td>\n",
       "      <td>0.0</td>\n",
       "      <td>0.0</td>\n",
       "      <td>0.121536</td>\n",
       "      <td>0.0</td>\n",
       "      <td>0.006788</td>\n",
       "      <td>0.022742</td>\n",
       "      <td>0.022597</td>\n",
       "      <td>0.007048</td>\n",
       "      <td>0.039933</td>\n",
       "      <td>...</td>\n",
       "      <td>0.000000</td>\n",
       "      <td>0.067575</td>\n",
       "      <td>0.019099</td>\n",
       "      <td>0.012979</td>\n",
       "      <td>0.189953</td>\n",
       "      <td>0.016256</td>\n",
       "      <td>0.0</td>\n",
       "      <td>0.033227</td>\n",
       "      <td>0.051434</td>\n",
       "      <td>0.0</td>\n",
       "    </tr>\n",
       "  </tbody>\n",
       "</table>\n",
       "<p>3 rows × 21 columns</p>\n",
       "</div>"
      ],
      "text/plain": [
       "       uid  topic_0  topic_1   topic_2  topic_3   topic_4   topic_5   topic_6  \\\n",
       "0  u105138      0.0      0.0  0.084121      0.0  0.028441  0.000000  0.031926   \n",
       "1  u108690      0.0      0.0  0.022631      0.0  0.000000  0.000000  0.113668   \n",
       "2  u108339      0.0      0.0  0.121536      0.0  0.006788  0.022742  0.022597   \n",
       "\n",
       "    topic_7   topic_8  ...  topic_10  topic_11  topic_12  topic_13  topic_14  \\\n",
       "0  0.000000  0.000000  ...  0.170183  0.000000  0.025695  0.000000  0.081745   \n",
       "1  0.000000  0.023894  ...  0.000000  0.033650  0.005609  0.031029  0.161338   \n",
       "2  0.007048  0.039933  ...  0.000000  0.067575  0.019099  0.012979  0.189953   \n",
       "\n",
       "   topic_15  topic_16  topic_17  topic_18  topic_19  \n",
       "0  0.000000       0.0  0.000000  0.000000       0.0  \n",
       "1  0.015319       0.0  0.098508  0.126632       0.0  \n",
       "2  0.016256       0.0  0.033227  0.051434       0.0  \n",
       "\n",
       "[3 rows x 21 columns]"
      ]
     },
     "execution_count": 245,
     "metadata": {},
     "output_type": "execute_result"
    }
   ],
   "source": [
    "%%time\n",
    "user_embeddings_median = pd.DataFrame([i for i in users['articles'].apply(lambda x: get_user_embedding_median(x, doc_dict))])\n",
    "user_embeddings_median.columns = [f'topic_{i}' for i in range(N_topic)]\n",
    "user_embeddings_median['uid'] = users['uid'].values\n",
    "user_embeddings_median = user_embeddings_median[['uid']+[f'topic_{i}' for i in range(N_topic)]]\n",
    "user_embeddings_median.head(3)"
   ]
  },
  {
   "cell_type": "code",
   "execution_count": 246,
   "metadata": {},
   "outputs": [
    {
     "data": {
      "text/html": [
       "<div>\n",
       "<style scoped>\n",
       "    .dataframe tbody tr th:only-of-type {\n",
       "        vertical-align: middle;\n",
       "    }\n",
       "\n",
       "    .dataframe tbody tr th {\n",
       "        vertical-align: top;\n",
       "    }\n",
       "\n",
       "    .dataframe thead th {\n",
       "        text-align: right;\n",
       "    }\n",
       "</style>\n",
       "<table border=\"1\" class=\"dataframe\">\n",
       "  <thead>\n",
       "    <tr style=\"text-align: right;\">\n",
       "      <th></th>\n",
       "      <th>uid</th>\n",
       "      <th>churn</th>\n",
       "    </tr>\n",
       "  </thead>\n",
       "  <tbody>\n",
       "    <tr>\n",
       "      <th>0</th>\n",
       "      <td>u107120</td>\n",
       "      <td>0</td>\n",
       "    </tr>\n",
       "    <tr>\n",
       "      <th>1</th>\n",
       "      <td>u102277</td>\n",
       "      <td>0</td>\n",
       "    </tr>\n",
       "    <tr>\n",
       "      <th>2</th>\n",
       "      <td>u102444</td>\n",
       "      <td>0</td>\n",
       "    </tr>\n",
       "  </tbody>\n",
       "</table>\n",
       "</div>"
      ],
      "text/plain": [
       "       uid  churn\n",
       "0  u107120      0\n",
       "1  u102277      0\n",
       "2  u102444      0"
      ]
     },
     "execution_count": 246,
     "metadata": {},
     "output_type": "execute_result"
    }
   ],
   "source": [
    "target = pd.read_csv('./users_churn.csv')\n",
    "target.head(3)"
   ]
  },
  {
   "cell_type": "code",
   "execution_count": 247,
   "metadata": {},
   "outputs": [
    {
     "data": {
      "text/html": [
       "<div>\n",
       "<style scoped>\n",
       "    .dataframe tbody tr th:only-of-type {\n",
       "        vertical-align: middle;\n",
       "    }\n",
       "\n",
       "    .dataframe tbody tr th {\n",
       "        vertical-align: top;\n",
       "    }\n",
       "\n",
       "    .dataframe thead th {\n",
       "        text-align: right;\n",
       "    }\n",
       "</style>\n",
       "<table border=\"1\" class=\"dataframe\">\n",
       "  <thead>\n",
       "    <tr style=\"text-align: right;\">\n",
       "      <th></th>\n",
       "      <th>uid</th>\n",
       "      <th>topic_0</th>\n",
       "      <th>topic_1</th>\n",
       "      <th>topic_2</th>\n",
       "      <th>topic_3</th>\n",
       "      <th>topic_4</th>\n",
       "      <th>topic_5</th>\n",
       "      <th>topic_6</th>\n",
       "      <th>topic_7</th>\n",
       "      <th>topic_8</th>\n",
       "      <th>...</th>\n",
       "      <th>topic_11</th>\n",
       "      <th>topic_12</th>\n",
       "      <th>topic_13</th>\n",
       "      <th>topic_14</th>\n",
       "      <th>topic_15</th>\n",
       "      <th>topic_16</th>\n",
       "      <th>topic_17</th>\n",
       "      <th>topic_18</th>\n",
       "      <th>topic_19</th>\n",
       "      <th>churn</th>\n",
       "    </tr>\n",
       "  </thead>\n",
       "  <tbody>\n",
       "    <tr>\n",
       "      <th>0</th>\n",
       "      <td>u105138</td>\n",
       "      <td>0.0</td>\n",
       "      <td>0.0</td>\n",
       "      <td>0.084121</td>\n",
       "      <td>0.0</td>\n",
       "      <td>0.028441</td>\n",
       "      <td>0.000000</td>\n",
       "      <td>0.031926</td>\n",
       "      <td>0.000000</td>\n",
       "      <td>0.000000</td>\n",
       "      <td>...</td>\n",
       "      <td>0.000000</td>\n",
       "      <td>0.025695</td>\n",
       "      <td>0.000000</td>\n",
       "      <td>0.081745</td>\n",
       "      <td>0.000000</td>\n",
       "      <td>0.0</td>\n",
       "      <td>0.000000</td>\n",
       "      <td>0.000000</td>\n",
       "      <td>0.0</td>\n",
       "      <td>0</td>\n",
       "    </tr>\n",
       "    <tr>\n",
       "      <th>1</th>\n",
       "      <td>u108690</td>\n",
       "      <td>0.0</td>\n",
       "      <td>0.0</td>\n",
       "      <td>0.022631</td>\n",
       "      <td>0.0</td>\n",
       "      <td>0.000000</td>\n",
       "      <td>0.000000</td>\n",
       "      <td>0.113668</td>\n",
       "      <td>0.000000</td>\n",
       "      <td>0.023894</td>\n",
       "      <td>...</td>\n",
       "      <td>0.033650</td>\n",
       "      <td>0.005609</td>\n",
       "      <td>0.031029</td>\n",
       "      <td>0.161338</td>\n",
       "      <td>0.015319</td>\n",
       "      <td>0.0</td>\n",
       "      <td>0.098508</td>\n",
       "      <td>0.126632</td>\n",
       "      <td>0.0</td>\n",
       "      <td>1</td>\n",
       "    </tr>\n",
       "    <tr>\n",
       "      <th>2</th>\n",
       "      <td>u108339</td>\n",
       "      <td>0.0</td>\n",
       "      <td>0.0</td>\n",
       "      <td>0.121536</td>\n",
       "      <td>0.0</td>\n",
       "      <td>0.006788</td>\n",
       "      <td>0.022742</td>\n",
       "      <td>0.022597</td>\n",
       "      <td>0.007048</td>\n",
       "      <td>0.039933</td>\n",
       "      <td>...</td>\n",
       "      <td>0.067575</td>\n",
       "      <td>0.019099</td>\n",
       "      <td>0.012979</td>\n",
       "      <td>0.189953</td>\n",
       "      <td>0.016256</td>\n",
       "      <td>0.0</td>\n",
       "      <td>0.033227</td>\n",
       "      <td>0.051434</td>\n",
       "      <td>0.0</td>\n",
       "      <td>1</td>\n",
       "    </tr>\n",
       "  </tbody>\n",
       "</table>\n",
       "<p>3 rows × 22 columns</p>\n",
       "</div>"
      ],
      "text/plain": [
       "       uid  topic_0  topic_1   topic_2  topic_3   topic_4   topic_5   topic_6  \\\n",
       "0  u105138      0.0      0.0  0.084121      0.0  0.028441  0.000000  0.031926   \n",
       "1  u108690      0.0      0.0  0.022631      0.0  0.000000  0.000000  0.113668   \n",
       "2  u108339      0.0      0.0  0.121536      0.0  0.006788  0.022742  0.022597   \n",
       "\n",
       "    topic_7   topic_8  ...  topic_11  topic_12  topic_13  topic_14  topic_15  \\\n",
       "0  0.000000  0.000000  ...  0.000000  0.025695  0.000000  0.081745  0.000000   \n",
       "1  0.000000  0.023894  ...  0.033650  0.005609  0.031029  0.161338  0.015319   \n",
       "2  0.007048  0.039933  ...  0.067575  0.019099  0.012979  0.189953  0.016256   \n",
       "\n",
       "   topic_16  topic_17  topic_18  topic_19  churn  \n",
       "0       0.0  0.000000  0.000000       0.0      0  \n",
       "1       0.0  0.098508  0.126632       0.0      1  \n",
       "2       0.0  0.033227  0.051434       0.0      1  \n",
       "\n",
       "[3 rows x 22 columns]"
      ]
     },
     "execution_count": 247,
     "metadata": {},
     "output_type": "execute_result"
    }
   ],
   "source": [
    "X_median = pd.merge(user_embeddings_median, target, 'left')\n",
    "X_median.head(3)"
   ]
  },
  {
   "cell_type": "code",
   "execution_count": 248,
   "metadata": {},
   "outputs": [],
   "source": [
    "# разделим данные на train/test\n",
    "X_train_median, X_test_median, y_train_median, y_test_median = train_test_split(X_median[[f'topic_{i}' for i in range(N_topic)]], \n",
    "                                                    X_median['churn'], random_state=0)"
   ]
  },
  {
   "cell_type": "code",
   "execution_count": 249,
   "metadata": {},
   "outputs": [
    {
     "data": {
      "text/plain": [
       "LogisticRegression()"
      ]
     },
     "execution_count": 249,
     "metadata": {},
     "output_type": "execute_result"
    }
   ],
   "source": [
    "logreg = LogisticRegression()\n",
    "# обучим \n",
    "logreg.fit(X_train_median, y_train_median)"
   ]
  },
  {
   "cell_type": "code",
   "execution_count": 250,
   "metadata": {},
   "outputs": [
    {
     "data": {
      "text/plain": [
       "array([0.17210753, 0.06190006, 0.34914379, 0.17633737, 0.11495948,\n",
       "       0.07578788, 0.13947321, 0.01582876, 0.02887875, 0.24077189])"
      ]
     },
     "execution_count": 250,
     "metadata": {},
     "output_type": "execute_result"
    }
   ],
   "source": [
    "# наши прогнозы для тестовой выборки\n",
    "preds_median = logreg.predict_proba(X_test_median)[:, 1]\n",
    "preds_median[:10]"
   ]
  },
  {
   "cell_type": "markdown",
   "metadata": {},
   "source": [
    "#### Рассчитаем Precision, Recall, F_score"
   ]
  },
  {
   "cell_type": "code",
   "execution_count": 251,
   "metadata": {},
   "outputs": [
    {
     "name": "stdout",
     "output_type": "stream",
     "text": [
      "Best Threshold=0.2606135837881928, F-Score=0.727, Precision=0.663, Recall=0.804\n"
     ]
    }
   ],
   "source": [
    "precision_median, recall_median, thresholds_median = precision_recall_curve(y_test_median, preds_median)\n",
    "fscore_median = (2 * precision_median * recall_median) / (precision_median + recall_median)\n",
    "# locate the index of the largest f score\n",
    "ix = np.argmax(fscore_median)\n",
    "print(f'Best Threshold={thresholds_median[ix]}, F-Score={fscore_median[ix]:.3f}, Precision={precision_median[ix]:.3f}, Recall={recall_median[ix]:.3f}')"
   ]
  },
  {
   "cell_type": "code",
   "execution_count": 252,
   "metadata": {},
   "outputs": [
    {
     "data": {
      "text/plain": [
       "0.9599976742833887"
      ]
     },
     "execution_count": 252,
     "metadata": {},
     "output_type": "execute_result"
    }
   ],
   "source": [
    "roc_auc_score_median = roc_auc_score(y_test_median, preds_median)\n",
    "roc_auc_score_median"
   ]
  },
  {
   "cell_type": "markdown",
   "metadata": {},
   "source": [
    "***Сохраним результат в таблице как Result_median/***"
   ]
  },
  {
   "cell_type": "markdown",
   "metadata": {},
   "source": [
    "### Задание №3"
   ]
  },
  {
   "cell_type": "markdown",
   "metadata": {},
   "source": [
    "***Модифицируем код функции get_user_embedding таким образом, чтобы считалось не среднее (как в примере np.mean), а максимальные значения:***"
   ]
  },
  {
   "cell_type": "code",
   "execution_count": 253,
   "metadata": {},
   "outputs": [],
   "source": [
    "def get_user_embedding_max(user_articles_list, doc_dict):\n",
    "    user_articles_list = eval(user_articles_list)\n",
    "    user_vector = np.array([doc_dict[doc_id] for doc_id in user_articles_list])\n",
    "    # print(user_vector)\n",
    "    user_vector = np.max(user_vector, 0)  # можно не среднее\n",
    "    return user_vector"
   ]
  },
  {
   "cell_type": "code",
   "execution_count": 254,
   "metadata": {},
   "outputs": [
    {
     "name": "stdout",
     "output_type": "stream",
     "text": [
      "Wall time: 503 ms\n"
     ]
    },
    {
     "data": {
      "text/html": [
       "<div>\n",
       "<style scoped>\n",
       "    .dataframe tbody tr th:only-of-type {\n",
       "        vertical-align: middle;\n",
       "    }\n",
       "\n",
       "    .dataframe tbody tr th {\n",
       "        vertical-align: top;\n",
       "    }\n",
       "\n",
       "    .dataframe thead th {\n",
       "        text-align: right;\n",
       "    }\n",
       "</style>\n",
       "<table border=\"1\" class=\"dataframe\">\n",
       "  <thead>\n",
       "    <tr style=\"text-align: right;\">\n",
       "      <th></th>\n",
       "      <th>uid</th>\n",
       "      <th>topic_0</th>\n",
       "      <th>topic_1</th>\n",
       "      <th>topic_2</th>\n",
       "      <th>topic_3</th>\n",
       "      <th>topic_4</th>\n",
       "      <th>topic_5</th>\n",
       "      <th>topic_6</th>\n",
       "      <th>topic_7</th>\n",
       "      <th>topic_8</th>\n",
       "      <th>...</th>\n",
       "      <th>topic_10</th>\n",
       "      <th>topic_11</th>\n",
       "      <th>topic_12</th>\n",
       "      <th>topic_13</th>\n",
       "      <th>topic_14</th>\n",
       "      <th>topic_15</th>\n",
       "      <th>topic_16</th>\n",
       "      <th>topic_17</th>\n",
       "      <th>topic_18</th>\n",
       "      <th>topic_19</th>\n",
       "    </tr>\n",
       "  </thead>\n",
       "  <tbody>\n",
       "    <tr>\n",
       "      <th>0</th>\n",
       "      <td>u105138</td>\n",
       "      <td>0.000000</td>\n",
       "      <td>0.0</td>\n",
       "      <td>0.205685</td>\n",
       "      <td>0.018098</td>\n",
       "      <td>0.289440</td>\n",
       "      <td>0.142307</td>\n",
       "      <td>0.257400</td>\n",
       "      <td>0.000000</td>\n",
       "      <td>0.076176</td>\n",
       "      <td>...</td>\n",
       "      <td>0.375172</td>\n",
       "      <td>0.256138</td>\n",
       "      <td>0.131550</td>\n",
       "      <td>0.564811</td>\n",
       "      <td>0.277654</td>\n",
       "      <td>0.113351</td>\n",
       "      <td>0.131988</td>\n",
       "      <td>0.181572</td>\n",
       "      <td>0.194494</td>\n",
       "      <td>0.045084</td>\n",
       "    </tr>\n",
       "    <tr>\n",
       "      <th>1</th>\n",
       "      <td>u108690</td>\n",
       "      <td>0.015968</td>\n",
       "      <td>0.0</td>\n",
       "      <td>0.154960</td>\n",
       "      <td>0.000000</td>\n",
       "      <td>0.047244</td>\n",
       "      <td>0.102617</td>\n",
       "      <td>0.175678</td>\n",
       "      <td>0.097955</td>\n",
       "      <td>0.110392</td>\n",
       "      <td>...</td>\n",
       "      <td>0.082441</td>\n",
       "      <td>0.151327</td>\n",
       "      <td>0.308506</td>\n",
       "      <td>0.264442</td>\n",
       "      <td>0.374668</td>\n",
       "      <td>0.026203</td>\n",
       "      <td>0.098021</td>\n",
       "      <td>0.306119</td>\n",
       "      <td>0.309916</td>\n",
       "      <td>0.116002</td>\n",
       "    </tr>\n",
       "    <tr>\n",
       "      <th>2</th>\n",
       "      <td>u108339</td>\n",
       "      <td>0.062680</td>\n",
       "      <td>0.0</td>\n",
       "      <td>0.236857</td>\n",
       "      <td>0.000000</td>\n",
       "      <td>0.059822</td>\n",
       "      <td>0.151449</td>\n",
       "      <td>0.155002</td>\n",
       "      <td>0.054001</td>\n",
       "      <td>0.127940</td>\n",
       "      <td>...</td>\n",
       "      <td>0.029112</td>\n",
       "      <td>0.122986</td>\n",
       "      <td>0.265764</td>\n",
       "      <td>0.083412</td>\n",
       "      <td>0.325353</td>\n",
       "      <td>0.094831</td>\n",
       "      <td>0.218471</td>\n",
       "      <td>0.210505</td>\n",
       "      <td>0.329313</td>\n",
       "      <td>0.034092</td>\n",
       "    </tr>\n",
       "  </tbody>\n",
       "</table>\n",
       "<p>3 rows × 21 columns</p>\n",
       "</div>"
      ],
      "text/plain": [
       "       uid   topic_0  topic_1   topic_2   topic_3   topic_4   topic_5  \\\n",
       "0  u105138  0.000000      0.0  0.205685  0.018098  0.289440  0.142307   \n",
       "1  u108690  0.015968      0.0  0.154960  0.000000  0.047244  0.102617   \n",
       "2  u108339  0.062680      0.0  0.236857  0.000000  0.059822  0.151449   \n",
       "\n",
       "    topic_6   topic_7   topic_8  ...  topic_10  topic_11  topic_12  topic_13  \\\n",
       "0  0.257400  0.000000  0.076176  ...  0.375172  0.256138  0.131550  0.564811   \n",
       "1  0.175678  0.097955  0.110392  ...  0.082441  0.151327  0.308506  0.264442   \n",
       "2  0.155002  0.054001  0.127940  ...  0.029112  0.122986  0.265764  0.083412   \n",
       "\n",
       "   topic_14  topic_15  topic_16  topic_17  topic_18  topic_19  \n",
       "0  0.277654  0.113351  0.131988  0.181572  0.194494  0.045084  \n",
       "1  0.374668  0.026203  0.098021  0.306119  0.309916  0.116002  \n",
       "2  0.325353  0.094831  0.218471  0.210505  0.329313  0.034092  \n",
       "\n",
       "[3 rows x 21 columns]"
      ]
     },
     "execution_count": 254,
     "metadata": {},
     "output_type": "execute_result"
    }
   ],
   "source": [
    "%%time\n",
    "user_embeddings_max = pd.DataFrame([i for i in users['articles'].apply(lambda x: get_user_embedding_max(x, doc_dict))])\n",
    "user_embeddings_max.columns = [f'topic_{i}' for i in range(N_topic)]\n",
    "user_embeddings_max['uid'] = users['uid'].values\n",
    "user_embeddings_max = user_embeddings_max[['uid']+[f'topic_{i}' for i in range(N_topic)]]\n",
    "user_embeddings_max.head(3)"
   ]
  },
  {
   "cell_type": "code",
   "execution_count": 255,
   "metadata": {},
   "outputs": [
    {
     "data": {
      "text/html": [
       "<div>\n",
       "<style scoped>\n",
       "    .dataframe tbody tr th:only-of-type {\n",
       "        vertical-align: middle;\n",
       "    }\n",
       "\n",
       "    .dataframe tbody tr th {\n",
       "        vertical-align: top;\n",
       "    }\n",
       "\n",
       "    .dataframe thead th {\n",
       "        text-align: right;\n",
       "    }\n",
       "</style>\n",
       "<table border=\"1\" class=\"dataframe\">\n",
       "  <thead>\n",
       "    <tr style=\"text-align: right;\">\n",
       "      <th></th>\n",
       "      <th>uid</th>\n",
       "      <th>churn</th>\n",
       "    </tr>\n",
       "  </thead>\n",
       "  <tbody>\n",
       "    <tr>\n",
       "      <th>0</th>\n",
       "      <td>u107120</td>\n",
       "      <td>0</td>\n",
       "    </tr>\n",
       "    <tr>\n",
       "      <th>1</th>\n",
       "      <td>u102277</td>\n",
       "      <td>0</td>\n",
       "    </tr>\n",
       "    <tr>\n",
       "      <th>2</th>\n",
       "      <td>u102444</td>\n",
       "      <td>0</td>\n",
       "    </tr>\n",
       "  </tbody>\n",
       "</table>\n",
       "</div>"
      ],
      "text/plain": [
       "       uid  churn\n",
       "0  u107120      0\n",
       "1  u102277      0\n",
       "2  u102444      0"
      ]
     },
     "execution_count": 255,
     "metadata": {},
     "output_type": "execute_result"
    }
   ],
   "source": [
    "target = pd.read_csv('./users_churn.csv')\n",
    "target.head(3)"
   ]
  },
  {
   "cell_type": "code",
   "execution_count": 256,
   "metadata": {},
   "outputs": [
    {
     "data": {
      "text/html": [
       "<div>\n",
       "<style scoped>\n",
       "    .dataframe tbody tr th:only-of-type {\n",
       "        vertical-align: middle;\n",
       "    }\n",
       "\n",
       "    .dataframe tbody tr th {\n",
       "        vertical-align: top;\n",
       "    }\n",
       "\n",
       "    .dataframe thead th {\n",
       "        text-align: right;\n",
       "    }\n",
       "</style>\n",
       "<table border=\"1\" class=\"dataframe\">\n",
       "  <thead>\n",
       "    <tr style=\"text-align: right;\">\n",
       "      <th></th>\n",
       "      <th>uid</th>\n",
       "      <th>topic_0</th>\n",
       "      <th>topic_1</th>\n",
       "      <th>topic_2</th>\n",
       "      <th>topic_3</th>\n",
       "      <th>topic_4</th>\n",
       "      <th>topic_5</th>\n",
       "      <th>topic_6</th>\n",
       "      <th>topic_7</th>\n",
       "      <th>topic_8</th>\n",
       "      <th>...</th>\n",
       "      <th>topic_11</th>\n",
       "      <th>topic_12</th>\n",
       "      <th>topic_13</th>\n",
       "      <th>topic_14</th>\n",
       "      <th>topic_15</th>\n",
       "      <th>topic_16</th>\n",
       "      <th>topic_17</th>\n",
       "      <th>topic_18</th>\n",
       "      <th>topic_19</th>\n",
       "      <th>churn</th>\n",
       "    </tr>\n",
       "  </thead>\n",
       "  <tbody>\n",
       "    <tr>\n",
       "      <th>0</th>\n",
       "      <td>u105138</td>\n",
       "      <td>0.000000</td>\n",
       "      <td>0.0</td>\n",
       "      <td>0.205685</td>\n",
       "      <td>0.018098</td>\n",
       "      <td>0.289440</td>\n",
       "      <td>0.142307</td>\n",
       "      <td>0.257400</td>\n",
       "      <td>0.000000</td>\n",
       "      <td>0.076176</td>\n",
       "      <td>...</td>\n",
       "      <td>0.256138</td>\n",
       "      <td>0.131550</td>\n",
       "      <td>0.564811</td>\n",
       "      <td>0.277654</td>\n",
       "      <td>0.113351</td>\n",
       "      <td>0.131988</td>\n",
       "      <td>0.181572</td>\n",
       "      <td>0.194494</td>\n",
       "      <td>0.045084</td>\n",
       "      <td>0</td>\n",
       "    </tr>\n",
       "    <tr>\n",
       "      <th>1</th>\n",
       "      <td>u108690</td>\n",
       "      <td>0.015968</td>\n",
       "      <td>0.0</td>\n",
       "      <td>0.154960</td>\n",
       "      <td>0.000000</td>\n",
       "      <td>0.047244</td>\n",
       "      <td>0.102617</td>\n",
       "      <td>0.175678</td>\n",
       "      <td>0.097955</td>\n",
       "      <td>0.110392</td>\n",
       "      <td>...</td>\n",
       "      <td>0.151327</td>\n",
       "      <td>0.308506</td>\n",
       "      <td>0.264442</td>\n",
       "      <td>0.374668</td>\n",
       "      <td>0.026203</td>\n",
       "      <td>0.098021</td>\n",
       "      <td>0.306119</td>\n",
       "      <td>0.309916</td>\n",
       "      <td>0.116002</td>\n",
       "      <td>1</td>\n",
       "    </tr>\n",
       "    <tr>\n",
       "      <th>2</th>\n",
       "      <td>u108339</td>\n",
       "      <td>0.062680</td>\n",
       "      <td>0.0</td>\n",
       "      <td>0.236857</td>\n",
       "      <td>0.000000</td>\n",
       "      <td>0.059822</td>\n",
       "      <td>0.151449</td>\n",
       "      <td>0.155002</td>\n",
       "      <td>0.054001</td>\n",
       "      <td>0.127940</td>\n",
       "      <td>...</td>\n",
       "      <td>0.122986</td>\n",
       "      <td>0.265764</td>\n",
       "      <td>0.083412</td>\n",
       "      <td>0.325353</td>\n",
       "      <td>0.094831</td>\n",
       "      <td>0.218471</td>\n",
       "      <td>0.210505</td>\n",
       "      <td>0.329313</td>\n",
       "      <td>0.034092</td>\n",
       "      <td>1</td>\n",
       "    </tr>\n",
       "  </tbody>\n",
       "</table>\n",
       "<p>3 rows × 22 columns</p>\n",
       "</div>"
      ],
      "text/plain": [
       "       uid   topic_0  topic_1   topic_2   topic_3   topic_4   topic_5  \\\n",
       "0  u105138  0.000000      0.0  0.205685  0.018098  0.289440  0.142307   \n",
       "1  u108690  0.015968      0.0  0.154960  0.000000  0.047244  0.102617   \n",
       "2  u108339  0.062680      0.0  0.236857  0.000000  0.059822  0.151449   \n",
       "\n",
       "    topic_6   topic_7   topic_8  ...  topic_11  topic_12  topic_13  topic_14  \\\n",
       "0  0.257400  0.000000  0.076176  ...  0.256138  0.131550  0.564811  0.277654   \n",
       "1  0.175678  0.097955  0.110392  ...  0.151327  0.308506  0.264442  0.374668   \n",
       "2  0.155002  0.054001  0.127940  ...  0.122986  0.265764  0.083412  0.325353   \n",
       "\n",
       "   topic_15  topic_16  topic_17  topic_18  topic_19  churn  \n",
       "0  0.113351  0.131988  0.181572  0.194494  0.045084      0  \n",
       "1  0.026203  0.098021  0.306119  0.309916  0.116002      1  \n",
       "2  0.094831  0.218471  0.210505  0.329313  0.034092      1  \n",
       "\n",
       "[3 rows x 22 columns]"
      ]
     },
     "execution_count": 256,
     "metadata": {},
     "output_type": "execute_result"
    }
   ],
   "source": [
    "X_max = pd.merge(user_embeddings_max, target, 'left')\n",
    "X_max.head(3)"
   ]
  },
  {
   "cell_type": "code",
   "execution_count": 257,
   "metadata": {},
   "outputs": [],
   "source": [
    "# разделим данные на train/test\n",
    "X_train_max, X_test_max, y_train_max, y_test_max = train_test_split(X_max[[f'topic_{i}' for i in range(N_topic)]], \n",
    "                                                    X_max['churn'], random_state=0)"
   ]
  },
  {
   "cell_type": "code",
   "execution_count": 258,
   "metadata": {},
   "outputs": [
    {
     "data": {
      "text/plain": [
       "LogisticRegression()"
      ]
     },
     "execution_count": 258,
     "metadata": {},
     "output_type": "execute_result"
    }
   ],
   "source": [
    "logreg.fit(X_train_max, y_train_max)"
   ]
  },
  {
   "cell_type": "code",
   "execution_count": 259,
   "metadata": {},
   "outputs": [
    {
     "data": {
      "text/plain": [
       "array([0.15230757, 0.0289461 , 0.44706526, 0.03755296, 0.01155744,\n",
       "       0.04213013, 0.09631645, 0.18267694, 0.04602358, 0.32031972])"
      ]
     },
     "execution_count": 259,
     "metadata": {},
     "output_type": "execute_result"
    }
   ],
   "source": [
    "preds_max = logreg.predict_proba(X_test_max)[:, 1]\n",
    "preds_max[:10]"
   ]
  },
  {
   "cell_type": "markdown",
   "metadata": {},
   "source": [
    "#### Рассчитаем Precision, Recall, F_score"
   ]
  },
  {
   "cell_type": "code",
   "execution_count": 260,
   "metadata": {},
   "outputs": [
    {
     "name": "stdout",
     "output_type": "stream",
     "text": [
      "Best Threshold=0.28388983902893117, F-Score=0.735, Precision=0.677, Recall=0.804\n"
     ]
    }
   ],
   "source": [
    "precision_max, recall_max, thresholds_max = precision_recall_curve(y_test_max, preds_max)\n",
    "fscore_max = (2 * precision_max * recall_max) / (precision_max + recall_max)\n",
    "# locate the index of the largest f score\n",
    "ix = np.argmax(fscore_max)\n",
    "print(f'Best Threshold={thresholds_max[ix]}, F-Score={fscore_max[ix]:.3f}, Precision={precision_max[ix]:.3f}, Recall={recall_max[ix]:.3f}')"
   ]
  },
  {
   "cell_type": "code",
   "execution_count": 261,
   "metadata": {},
   "outputs": [
    {
     "data": {
      "text/plain": [
       "0.9543392057677772"
      ]
     },
     "execution_count": 261,
     "metadata": {},
     "output_type": "execute_result"
    }
   ],
   "source": [
    "roc_auc_score_max = roc_auc_score(y_test_max, preds_max)\n",
    "roc_auc_score_max"
   ]
  },
  {
   "cell_type": "code",
   "execution_count": 265,
   "metadata": {},
   "outputs": [
    {
     "data": {
      "text/html": [
       "<div>\n",
       "<style scoped>\n",
       "    .dataframe tbody tr th:only-of-type {\n",
       "        vertical-align: middle;\n",
       "    }\n",
       "\n",
       "    .dataframe tbody tr th {\n",
       "        vertical-align: top;\n",
       "    }\n",
       "\n",
       "    .dataframe thead th {\n",
       "        text-align: right;\n",
       "    }\n",
       "</style>\n",
       "<table border=\"1\" class=\"dataframe\">\n",
       "  <thead>\n",
       "    <tr style=\"text-align: right;\">\n",
       "      <th></th>\n",
       "      <th>ROC-AUC</th>\n",
       "      <th>Treshold</th>\n",
       "      <th>F-Score</th>\n",
       "      <th>Precision</th>\n",
       "      <th>Recall</th>\n",
       "    </tr>\n",
       "  </thead>\n",
       "  <tbody>\n",
       "    <tr>\n",
       "      <th>Result_mean</th>\n",
       "      <td>0.904315</td>\n",
       "      <td>0.246203</td>\n",
       "      <td>0.540</td>\n",
       "      <td>0.509</td>\n",
       "      <td>0.576</td>\n",
       "    </tr>\n",
       "    <tr>\n",
       "      <th>Result_median</th>\n",
       "      <td>0.959998</td>\n",
       "      <td>0.428311</td>\n",
       "      <td>0.461</td>\n",
       "      <td>0.865</td>\n",
       "      <td>0.314</td>\n",
       "    </tr>\n",
       "    <tr>\n",
       "      <th>Result_max</th>\n",
       "      <td>0.954339</td>\n",
       "      <td>0.283890</td>\n",
       "      <td>0.735</td>\n",
       "      <td>0.677</td>\n",
       "      <td>0.804</td>\n",
       "    </tr>\n",
       "  </tbody>\n",
       "</table>\n",
       "</div>"
      ],
      "text/plain": [
       "                ROC-AUC  Treshold  F-Score  Precision  Recall\n",
       "Result_mean    0.904315  0.246203    0.540      0.509   0.576\n",
       "Result_median  0.959998  0.428311    0.461      0.865   0.314\n",
       "Result_max     0.954339  0.283890    0.735      0.677   0.804"
      ]
     },
     "execution_count": 265,
     "metadata": {},
     "output_type": "execute_result"
    }
   ],
   "source": [
    "df = pd.DataFrame([[roc_auc_score(y_test, preds), thresholds[ix], round(fscore[ix],3), round(precision[ix],3), round(recall[ix],3)], \n",
    "                   [roc_auc_score_median, thresholds_median[ix], round(fscore_median[ix],3), round(precision_median[ix],3), round(recall_median[ix],3)], \n",
    "                   [roc_auc_score_max, thresholds_max[ix], round(fscore_max[ix],3), round(precision_max[ix],3), round(recall_max[ix],3)]],\n",
    "     index=['Result_mean', 'Result_median', 'Result_max'],\n",
    "     columns=['ROC-AUC', 'Treshold', 'F-Score', 'Precision', 'Recall'])\n",
    "df"
   ]
  },
  {
   "cell_type": "markdown",
   "metadata": {},
   "source": [
    "#### ВЫВОД: данные, полученные в процессе тестирования модели с применение трех различных подходов к векторному представлению пользователей показали, что метод усреднения значений (mean) выдал , можно сказать, средневзевешенный, сбалансированный результат, где precision и recall имеют максимальные значения. Максимизация дала самое большое значение recall, а значит этот метод хорошо может подойти в случаях когда необходимо пользователю выдать наиболее полный список интересующих его тем. Медианные значения дали наиболее высокую точность в подборе тем для пользователя."
   ]
  }
 ],
 "metadata": {
  "colab": {
   "collapsed_sections": [],
   "name": "Lesson_2.ipynb",
   "provenance": [],
   "toc_visible": true
  },
  "kernelspec": {
   "display_name": "Python 3",
   "language": "python",
   "name": "python3"
  },
  "language_info": {
   "codemirror_mode": {
    "name": "ipython",
    "version": 3
   },
   "file_extension": ".py",
   "mimetype": "text/x-python",
   "name": "python",
   "nbconvert_exporter": "python",
   "pygments_lexer": "ipython3",
   "version": "3.8.6"
  }
 },
 "nbformat": 4,
 "nbformat_minor": 1
}
