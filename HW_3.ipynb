{
 "cells": [
  {
   "cell_type": "markdown",
   "metadata": {},
   "source": [
    "### Домашнее задание №3."
   ]
  },
  {
   "cell_type": "code",
   "execution_count": 64,
   "metadata": {},
   "outputs": [],
   "source": [
    "import numpy as np\n",
    "import pandas as pd\n",
    "from sklearn.linear_model import LogisticRegression\n",
    "from sklearn.ensemble import RandomForestClassifier\n",
    "import catboost as catb\n",
    "from sklearn.model_selection import cross_val_score, train_test_split\n",
    "from sklearn.preprocessing import StandardScaler\n",
    "from sklearn.metrics import precision_recall_curve, roc_curve, roc_auc_score, confusion_matrix\n",
    "\n",
    "from scipy.sparse import hstack\n",
    "from sklearn.pipeline import Pipeline, make_pipeline\n",
    "from sklearn.pipeline import FeatureUnion\n",
    "from sklearn.base import BaseEstimator, TransformerMixin\n",
    "import seaborn as sns\n",
    "import itertools\n",
    "import matplotlib.pyplot as plt"
   ]
  },
  {
   "cell_type": "code",
   "execution_count": 5,
   "metadata": {},
   "outputs": [],
   "source": [
    "pd.set_option('display.max_columns', 100)\n",
    "pd.set_option('display.max_rows', 500)"
   ]
  },
  {
   "cell_type": "code",
   "execution_count": 9,
   "metadata": {
    "colab": {
     "base_uri": "https://localhost:8080/",
     "height": 198
    },
    "executionInfo": {
     "elapsed": 22,
     "status": "ok",
     "timestamp": 1645721221059,
     "user": {
      "displayName": "Julia Ponomareva",
      "photoUrl": "https://lh3.googleusercontent.com/a-/AOh14Giimaqepqa7diwYfGdfG3eO8yvg2qDwve3KonGv=s64",
      "userId": "14904333240138417226"
     },
     "user_tz": -300
    },
    "id": "eyWhvm-wuTMl",
    "outputId": "830cb3f1-d007-4b5c-8977-42e9d56be930"
   },
   "outputs": [
    {
     "data": {
      "text/html": [
       "<div>\n",
       "<style scoped>\n",
       "    .dataframe tbody tr th:only-of-type {\n",
       "        vertical-align: middle;\n",
       "    }\n",
       "\n",
       "    .dataframe tbody tr th {\n",
       "        vertical-align: top;\n",
       "    }\n",
       "\n",
       "    .dataframe thead th {\n",
       "        text-align: right;\n",
       "    }\n",
       "</style>\n",
       "<table border=\"1\" class=\"dataframe\">\n",
       "  <thead>\n",
       "    <tr style=\"text-align: right;\">\n",
       "      <th></th>\n",
       "      <th>id</th>\n",
       "      <th>age</th>\n",
       "      <th>gender</th>\n",
       "      <th>height</th>\n",
       "      <th>weight</th>\n",
       "      <th>ap_hi</th>\n",
       "      <th>ap_lo</th>\n",
       "      <th>cholesterol</th>\n",
       "      <th>gluc</th>\n",
       "      <th>smoke</th>\n",
       "      <th>alco</th>\n",
       "      <th>active</th>\n",
       "      <th>cardio</th>\n",
       "    </tr>\n",
       "  </thead>\n",
       "  <tbody>\n",
       "    <tr>\n",
       "      <th>0</th>\n",
       "      <td>0</td>\n",
       "      <td>18393</td>\n",
       "      <td>2</td>\n",
       "      <td>168</td>\n",
       "      <td>62.0</td>\n",
       "      <td>110</td>\n",
       "      <td>80</td>\n",
       "      <td>1</td>\n",
       "      <td>1</td>\n",
       "      <td>0</td>\n",
       "      <td>0</td>\n",
       "      <td>1</td>\n",
       "      <td>0</td>\n",
       "    </tr>\n",
       "    <tr>\n",
       "      <th>1</th>\n",
       "      <td>1</td>\n",
       "      <td>20228</td>\n",
       "      <td>1</td>\n",
       "      <td>156</td>\n",
       "      <td>85.0</td>\n",
       "      <td>140</td>\n",
       "      <td>90</td>\n",
       "      <td>3</td>\n",
       "      <td>1</td>\n",
       "      <td>0</td>\n",
       "      <td>0</td>\n",
       "      <td>1</td>\n",
       "      <td>1</td>\n",
       "    </tr>\n",
       "    <tr>\n",
       "      <th>2</th>\n",
       "      <td>2</td>\n",
       "      <td>18857</td>\n",
       "      <td>1</td>\n",
       "      <td>165</td>\n",
       "      <td>64.0</td>\n",
       "      <td>130</td>\n",
       "      <td>70</td>\n",
       "      <td>3</td>\n",
       "      <td>1</td>\n",
       "      <td>0</td>\n",
       "      <td>0</td>\n",
       "      <td>0</td>\n",
       "      <td>1</td>\n",
       "    </tr>\n",
       "  </tbody>\n",
       "</table>\n",
       "</div>"
      ],
      "text/plain": [
       "   id    age  gender  height  weight  ap_hi  ap_lo  cholesterol  gluc  smoke  \\\n",
       "0   0  18393       2     168    62.0    110     80            1     1      0   \n",
       "1   1  20228       1     156    85.0    140     90            3     1      0   \n",
       "2   2  18857       1     165    64.0    130     70            3     1      0   \n",
       "\n",
       "   alco  active  cardio  \n",
       "0     0       1       0  \n",
       "1     0       1       1  \n",
       "2     0       0       1  "
      ]
     },
     "execution_count": 9,
     "metadata": {},
     "output_type": "execute_result"
    }
   ],
   "source": [
    "df = pd.read_csv('./train_case2.csv', ';')\n",
    "df.head(3)"
   ]
  },
  {
   "cell_type": "markdown",
   "metadata": {
    "id": "mslyI3rkuTMq"
   },
   "source": [
    "Разделим наши данные на тренировочную и тестовую выборки"
   ]
  },
  {
   "cell_type": "code",
   "execution_count": 24,
   "metadata": {},
   "outputs": [
    {
     "data": {
      "text/plain": [
       "(70000, 13)"
      ]
     },
     "execution_count": 24,
     "metadata": {},
     "output_type": "execute_result"
    }
   ],
   "source": [
    "df.shape"
   ]
  },
  {
   "cell_type": "code",
   "execution_count": 10,
   "metadata": {
    "executionInfo": {
     "elapsed": 11,
     "status": "ok",
     "timestamp": 1645721222341,
     "user": {
      "displayName": "Julia Ponomareva",
      "photoUrl": "https://lh3.googleusercontent.com/a-/AOh14Giimaqepqa7diwYfGdfG3eO8yvg2qDwve3KonGv=s64",
      "userId": "14904333240138417226"
     },
     "user_tz": -300
    },
    "id": "8y5FPlYsuTMw"
   },
   "outputs": [],
   "source": [
    "# разделим данные на train/test\n",
    "X_train, X_test, y_train, y_test = train_test_split(df.drop(columns='cardio'), \n",
    "                                                    df['cardio'], random_state=0)"
   ]
  },
  {
   "cell_type": "markdown",
   "metadata": {
    "id": "iz0zpgeQuTMx"
   },
   "source": [
    "К полям:\n",
    "- gender, cholesterol применим OHE-кодирование\n",
    "- age, height, weight, ap_hi, ap_lo - standardScaler\n",
    "- gluc, smoke, alco, active - оставим пока как есть"
   ]
  },
  {
   "cell_type": "code",
   "execution_count": 12,
   "metadata": {
    "executionInfo": {
     "elapsed": 11,
     "status": "ok",
     "timestamp": 1645721224175,
     "user": {
      "displayName": "Julia Ponomareva",
      "photoUrl": "https://lh3.googleusercontent.com/a-/AOh14Giimaqepqa7diwYfGdfG3eO8yvg2qDwve3KonGv=s64",
      "userId": "14904333240138417226"
     },
     "user_tz": -300
    },
    "id": "NZzwZ0DzuTM6"
   },
   "outputs": [],
   "source": [
    "class ColumnSelector(BaseEstimator, TransformerMixin):\n",
    "    \"\"\"\n",
    "    Transformer to select a single column from the data frame to perform additional transformations on\n",
    "    \"\"\"\n",
    "    def __init__(self, key):\n",
    "        self.key = key\n",
    "\n",
    "    def fit(self, X, y=None):\n",
    "        return self\n",
    "\n",
    "    def transform(self, X):\n",
    "        return X[self.key]\n",
    "    \n",
    "class NumberSelector(BaseEstimator, TransformerMixin):\n",
    "    \"\"\"\n",
    "    Transformer to select a single column from the data frame to perform additional transformations on\n",
    "    Use on numeric columns in the data\n",
    "    \"\"\"\n",
    "    def __init__(self, key):\n",
    "        self.key = key\n",
    "\n",
    "    def fit(self, X, y=None):\n",
    "        return self\n",
    "\n",
    "    def transform(self, X):\n",
    "        return X[[self.key]]\n",
    "    \n",
    "class OHEEncoder(BaseEstimator, TransformerMixin):\n",
    "    def __init__(self, key):\n",
    "        self.key = key\n",
    "        self.columns = []\n",
    "\n",
    "    def fit(self, X, y=None):\n",
    "        self.columns = [col for col in pd.get_dummies(X, prefix=self.key).columns]\n",
    "        return self\n",
    "\n",
    "    def transform(self, X):\n",
    "        X = pd.get_dummies(X, prefix=self.key)\n",
    "        test_columns = [col for col in X.columns]\n",
    "        for col_ in test_columns:\n",
    "            if col_ not in self.columns:\n",
    "                X[col_] = 0\n",
    "        return X[self.columns]\n",
    "\n",
    "\n",
    "# from sklearn.preprocessing import StandardScaler\n",
    "\n",
    "\n",
    "continuos_cols = ['age', 'height', 'weight', 'ap_hi', 'ap_lo']\n",
    "cat_cols = ['gender', 'cholesterol']\n",
    "base_cols = ['gluc', 'smoke', 'alco', 'active']\n",
    "\n",
    "continuos_transformers = []\n",
    "cat_transformers = []\n",
    "base_transformers = []\n",
    "\n",
    "for cont_col in continuos_cols:\n",
    "    transfomer =  Pipeline([\n",
    "                ('selector', NumberSelector(key=cont_col)),\n",
    "                ('standard', StandardScaler())\n",
    "            ])\n",
    "    continuos_transformers.append((cont_col, transfomer))\n",
    "    \n",
    "for cat_col in cat_cols:\n",
    "    cat_transformer = Pipeline([\n",
    "                ('selector', ColumnSelector(key=cat_col)),\n",
    "                ('ohe', OHEEncoder(key=cat_col))\n",
    "            ])\n",
    "    cat_transformers.append((cat_col, cat_transformer))\n",
    "    \n",
    "for base_col in base_cols:\n",
    "    base_transformer = Pipeline([\n",
    "                ('selector', NumberSelector(key=base_col))\n",
    "            ])\n",
    "    base_transformers.append((base_col, base_transformer))"
   ]
  },
  {
   "cell_type": "markdown",
   "metadata": {
    "id": "kqbcTHEauTNC"
   },
   "source": [
    "Теперь объединим все наши трансформеры с помощью FeatureUnion"
   ]
  },
  {
   "cell_type": "code",
   "execution_count": 13,
   "metadata": {
    "colab": {
     "base_uri": "https://localhost:8080/"
    },
    "executionInfo": {
     "elapsed": 13,
     "status": "ok",
     "timestamp": 1645721227018,
     "user": {
      "displayName": "Julia Ponomareva",
      "photoUrl": "https://lh3.googleusercontent.com/a-/AOh14Giimaqepqa7diwYfGdfG3eO8yvg2qDwve3KonGv=s64",
      "userId": "14904333240138417226"
     },
     "user_tz": -300
    },
    "id": "UrSLisPTuTNE",
    "outputId": "9f95b44c-ad16-498d-a088-b392ae105dfb"
   },
   "outputs": [
    {
     "data": {
      "text/plain": [
       "array([[-1.73391771,  0.6873301 ,  0.74843904, ...,  1.        ,\n",
       "         0.        ,  1.        ],\n",
       "       [-1.67343538,  0.07758923, -0.29640123, ...,  0.        ,\n",
       "         0.        ,  1.        ],\n",
       "       [ 0.13738132,  1.17512278, -0.15708919, ...,  0.        ,\n",
       "         0.        ,  0.        ],\n",
       "       ...,\n",
       "       [ 1.17775864,  1.17512278, -0.15708919, ...,  0.        ,\n",
       "         0.        ,  1.        ],\n",
       "       [-0.47190715, -1.38578883,  0.74843904, ...,  0.        ,\n",
       "         0.        ,  1.        ],\n",
       "       [ 0.38174619,  0.56538192, -0.08743318, ...,  0.        ,\n",
       "         0.        ,  1.        ]])"
      ]
     },
     "execution_count": 13,
     "metadata": {},
     "output_type": "execute_result"
    }
   ],
   "source": [
    "from sklearn.pipeline import FeatureUnion\n",
    "\n",
    "feats = FeatureUnion(continuos_transformers+cat_transformers+base_transformers)\n",
    "feature_processing = Pipeline([('feats', feats)])\n",
    "\n",
    "feature_processing.fit_transform(X_train)"
   ]
  },
  {
   "cell_type": "markdown",
   "metadata": {},
   "source": [
    "#### На вебинаре использовалась модель логистической регрессии \"LogisticRegression\". Поэкспериментируем - как покажут себя модели \"Randomforest\" и \"CatBoost\"."
   ]
  },
  {
   "cell_type": "code",
   "execution_count": 43,
   "metadata": {
    "colab": {
     "base_uri": "https://localhost:8080/"
    },
    "executionInfo": {
     "elapsed": 4775,
     "status": "ok",
     "timestamp": 1645721235795,
     "user": {
      "displayName": "Julia Ponomareva",
      "photoUrl": "https://lh3.googleusercontent.com/a-/AOh14Giimaqepqa7diwYfGdfG3eO8yvg2qDwve3KonGv=s64",
      "userId": "14904333240138417226"
     },
     "user_tz": -300
    },
    "id": "1611alE9uTNW",
    "outputId": "44949f75-a9d1-4008-807b-29876cd6ea2d"
   },
   "outputs": [
    {
     "name": "stdout",
     "output_type": "stream",
     "text": [
      "CV score is 0.7951432912675445+-0.003415231787852116\n",
      "CPU times: user 5.79 s, sys: 56.9 ms, total: 5.84 s\n",
      "Wall time: 5.84 s\n"
     ]
    }
   ],
   "source": [
    "%%time\n",
    "classifier_RF = Pipeline([\n",
    "    ('features', feats),\n",
    "    ('classifier', RandomForestClassifier(n_estimators=50, max_depth=5, min_samples_leaf=5, random_state=42)),\n",
    "])\n",
    "\n",
    "\n",
    "# запустим кросс-валидацию\n",
    "cv_scores = cross_val_score(classifier_RF, X_train, y_train, cv=7, scoring='roc_auc')\n",
    "cv_score = np.mean(cv_scores)\n",
    "cv_score_std = np.std(cv_scores)\n",
    "print(f'CV score is {cv_score}+-{cv_score_std}')\n",
    "\n",
    "# обучим пайплайн на всем тренировочном датасете\n",
    "classifier_RF.fit(X_train, y_train)\n",
    "y_score = classifier_RF.predict_proba(X_test)[:, 1]"
   ]
  },
  {
   "cell_type": "markdown",
   "metadata": {
    "id": "DgFEEWCzuTNf"
   },
   "source": [
    "Посчитаем precision/recall/f_score"
   ]
  },
  {
   "cell_type": "code",
   "execution_count": 60,
   "metadata": {
    "colab": {
     "base_uri": "https://localhost:8080/"
    },
    "executionInfo": {
     "elapsed": 31,
     "status": "ok",
     "timestamp": 1645721235799,
     "user": {
      "displayName": "Julia Ponomareva",
      "photoUrl": "https://lh3.googleusercontent.com/a-/AOh14Giimaqepqa7diwYfGdfG3eO8yvg2qDwve3KonGv=s64",
      "userId": "14904333240138417226"
     },
     "user_tz": -300
    },
    "id": "steFA0gTuTNg",
    "outputId": "4203c904-4097-4e4c-f6b2-6f05d31fea6b"
   },
   "outputs": [
    {
     "name": "stdout",
     "output_type": "stream",
     "text": [
      "Best Threshold=0.39181392443361795, F-Score=0.739, Precision=0.666, Recall=0.831\n"
     ]
    }
   ],
   "source": [
    "b = 1\n",
    "precision, recall, thresholds = precision_recall_curve(y_test.values, y_score)\n",
    "fscore = (1 +b**2) * (precision * recall) / (b**2 * precision + recall)\n",
    "# locate the index of the largest f score\n",
    "ix = np.argmax(fscore)\n",
    "print(f'Best Threshold={thresholds[ix]}, F-Score={fscore[ix]:.3f}, Precision={precision[ix]:.3f}, Recall={recall[ix]:.3f}')"
   ]
  },
  {
   "cell_type": "markdown",
   "metadata": {
    "id": "5KFvapbiuTNk"
   },
   "source": [
    "Нарисуем roc auc кривую."
   ]
  },
  {
   "cell_type": "code",
   "execution_count": 46,
   "metadata": {
    "colab": {
     "base_uri": "https://localhost:8080/",
     "height": 535
    },
    "executionInfo": {
     "elapsed": 15,
     "status": "ok",
     "timestamp": 1645721236664,
     "user": {
      "displayName": "Julia Ponomareva",
      "photoUrl": "https://lh3.googleusercontent.com/a-/AOh14Giimaqepqa7diwYfGdfG3eO8yvg2qDwve3KonGv=s64",
      "userId": "14904333240138417226"
     },
     "user_tz": -300
    },
    "id": "QOR0-kTnuTNm",
    "outputId": "9fa4ba35-1e91-4241-a15a-4ef9b4d308f5"
   },
   "outputs": [
    {
     "data": {
      "image/png": "[encoded data removed]",
      "text/plain": [
       "<Figure size 720x576 with 1 Axes>"
      ]
     },
     "metadata": {},
     "output_type": "display_data"
    }
   ],
   "source": [
    "sns.set(font_scale=1.5)\n",
    "sns.set_color_codes(\"muted\")\n",
    "\n",
    "plt.figure(figsize=(10, 8))\n",
    "fpr, tpr, thresholds_ = roc_curve(y_test, y_score, pos_label=1)\n",
    "lw = 2\n",
    "plt.plot(fpr, tpr, lw=lw, label='ROC curve ')\n",
    "plt.plot([0, 1], [0, 1])\n",
    "plt.xlim([0.0, 1.0])\n",
    "plt.ylim([0.0, 1.05])\n",
    "plt.xlabel('False Positive Rate')\n",
    "plt.ylabel('True Positive Rate')\n",
    "plt.title('ROC curve')\n",
    "plt.savefig(\"ROC.png\")\n",
    "plt.show()"
   ]
  },
  {
   "cell_type": "code",
   "execution_count": 47,
   "metadata": {
    "colab": {
     "base_uri": "https://localhost:8080/"
    },
    "executionInfo": {
     "elapsed": 470,
     "status": "ok",
     "timestamp": 1645721240644,
     "user": {
      "displayName": "Julia Ponomareva",
      "photoUrl": "https://lh3.googleusercontent.com/a-/AOh14Giimaqepqa7diwYfGdfG3eO8yvg2qDwve3KonGv=s64",
      "userId": "14904333240138417226"
     },
     "user_tz": -300
    },
    "id": "Yc7YRCe4uTNy",
    "outputId": "2326a5af-fa1f-44f9-8a08-18e9fe50bea6"
   },
   "outputs": [
    {
     "name": "stdout",
     "output_type": "stream",
     "text": [
      "roc auc score: 0.7981311061228636\n",
      "roc auc score: 0.7959620338150621\n"
     ]
    }
   ],
   "source": [
    "# from sklearn.metrics import roc_auc_score\n",
    "\n",
    "print(f\"roc auc score: {roc_auc_score(y_train, classifier_RF.predict_proba(X_train)[:, 1])}\")\n",
    "\n",
    "print(f\"roc auc score: {roc_auc_score(y_test, classifier_RF.predict_proba(X_test)[:, 1])}\")"
   ]
  },
  {
   "cell_type": "markdown",
   "metadata": {
    "id": "7dG0qFH1uTN0"
   },
   "source": [
    "Посмотрим на матрицу ошибок"
   ]
  },
  {
   "cell_type": "code",
   "execution_count": 48,
   "metadata": {},
   "outputs": [],
   "source": [
    "def plot_confusion_matrix(cm, classes,\n",
    "                          normalize=False,\n",
    "                          title='Confusion matrix',\n",
    "                          cmap=plt.cm.Blues):\n",
    "    \"\"\"\n",
    "    This function prints and plots the confusion matrix.\n",
    "    Normalization can be applied by setting `normalize=True`.\n",
    "    \"\"\"\n",
    "    plt.imshow(cm, interpolation='nearest', cmap=cmap)\n",
    "    plt.title(title)\n",
    "    plt.colorbar()\n",
    "    tick_marks = np.arange(len(classes))\n",
    "    plt.xticks(tick_marks, classes, rotation=45)\n",
    "    plt.yticks(tick_marks, classes)\n",
    "\n",
    "    if normalize:\n",
    "        cm = cm.astype('float') / cm.sum(axis=1)[:, np.newaxis]\n",
    "        print(\"Normalized confusion matrix\")\n",
    "    else:\n",
    "        print('Confusion matrix, without normalization')\n",
    "\n",
    "    print(cm)\n",
    "\n",
    "    thresh = cm.max() / 2.\n",
    "    for i, j in itertools.product(range(cm.shape[0]), range(cm.shape[1])):\n",
    "        plt.text(j, i, cm[i, j],\n",
    "                 horizontalalignment=\"center\",\n",
    "                 color=\"white\" if cm[i, j] > thresh else \"black\")\n",
    "\n",
    "    plt.tight_layout()\n",
    "    plt.ylabel('True label')\n",
    "    plt.xlabel('Predicted label')"
   ]
  },
  {
   "cell_type": "code",
   "execution_count": 49,
   "metadata": {
    "colab": {
     "base_uri": "https://localhost:8080/",
     "height": 648
    },
    "executionInfo": {
     "elapsed": 571,
     "status": "ok",
     "timestamp": 1645721247026,
     "user": {
      "displayName": "Julia Ponomareva",
      "photoUrl": "https://lh3.googleusercontent.com/a-/AOh14Giimaqepqa7diwYfGdfG3eO8yvg2qDwve3KonGv=s64",
      "userId": "14904333240138417226"
     },
     "user_tz": -300
    },
    "id": "tS-ALOCJuTN2",
    "outputId": "82684cd0-62cc-41ee-c6be-f07f96e917dc"
   },
   "outputs": [
    {
     "name": "stdout",
     "output_type": "stream",
     "text": [
      "Confusion matrix, without normalization\n",
      "[[5201 3619]\n",
      " [1469 7211]]\n"
     ]
    },
    {
     "data": {
      "image/png": "[encoded data removed]",
      "text/plain": [
       "<Figure size 720x576 with 2 Axes>"
      ]
     },
     "metadata": {},
     "output_type": "display_data"
    }
   ],
   "source": [
    "# мы уже нашли ранее \"оптимальный\" порог, когда максимизировали f_score\n",
    "font = {'size' : 15}\n",
    "\n",
    "plt.rc('font', **font)\n",
    "\n",
    "cnf_matrix = confusion_matrix(y_test, y_score > thresholds[ix])\n",
    "plt.figure(figsize=(10, 8))\n",
    "plot_confusion_matrix(cnf_matrix, classes=['cardio_0', 'cardio_1'],\n",
    "                      title='Confusion matrix')\n",
    "plt.savefig(\"conf_matrix.png\")\n",
    "plt.show()"
   ]
  },
  {
   "cell_type": "markdown",
   "metadata": {
    "id": "choNr-tRuTN4"
   },
   "source": [
    "Посчитаем FPR, TPR"
   ]
  },
  {
   "cell_type": "code",
   "execution_count": 50,
   "metadata": {
    "colab": {
     "base_uri": "https://localhost:8080/"
    },
    "executionInfo": {
     "elapsed": 11,
     "status": "ok",
     "timestamp": 1645721249036,
     "user": {
      "displayName": "Julia Ponomareva",
      "photoUrl": "https://lh3.googleusercontent.com/a-/AOh14Giimaqepqa7diwYfGdfG3eO8yvg2qDwve3KonGv=s64",
      "userId": "14904333240138417226"
     },
     "user_tz": -300
    },
    "id": "qqYcY09xuTN6",
    "outputId": "08e5341b-2fdd-47f6-a771-36648ba2fa10"
   },
   "outputs": [
    {
     "data": {
      "text/plain": [
       "(0.8307603686635945, 0.4103174603174603, 0.5896825396825397)"
      ]
     },
     "execution_count": 50,
     "metadata": {},
     "output_type": "execute_result"
    }
   ],
   "source": [
    "TN = cnf_matrix[0][0]\n",
    "FN = cnf_matrix[1][0]\n",
    "TP = cnf_matrix[1][1]\n",
    "FP = cnf_matrix[0][1]\n",
    "\n",
    "TPR = TP / (TP+FN)\n",
    "FPR = FP / (FP+TN)\n",
    "TNR = TN / (FP+TN)\n",
    "TPR, FPR, TNR"
   ]
  },
  {
   "cell_type": "markdown",
   "metadata": {
    "id": "5e9445DZuTN-"
   },
   "source": [
    "False Positive Rate довольно высокий ~ 0.45.\n",
    "\n",
    "Это означает, что 45 процентов здоровых пациентов получат метку 1."
   ]
  },
  {
   "cell_type": "code",
   "execution_count": 51,
   "metadata": {},
   "outputs": [],
   "source": [
    "# False Positive Rate довольно высокий ~ 0.41.\n",
    "\n",
    "# Это означает, что 41 процент здоровых пациентов получат метку 1."
   ]
  },
  {
   "cell_type": "markdown",
   "metadata": {
    "id": "kubScvxuuTOA"
   },
   "source": [
    "\n",
    "Пусть:\n",
    "\n",
    "- стоимость лечения 15000р, если сделали тест и начали лечить вовремя\n",
    "- стоимость лечения 20000р, если упустили и начали лечить когда уже проявились все симптомы\n",
    "- стоимость теста 1400р\n",
    "\n",
    "\n",
    "\n",
    "- лишних тестов сделали FP = cnf_matrix[0][1]\n",
    "- пропустили больных FN = cnf_matrix[1][0]\n",
    "- правильных тестов сделали TP = cnf_matrix[1][1]\n",
    "\n",
    "Оценим расходы, если не делать тест и ждать симптомов:\n"
   ]
  },
  {
   "cell_type": "code",
   "execution_count": 52,
   "metadata": {
    "executionInfo": {
     "elapsed": 804,
     "status": "ok",
     "timestamp": 1645721260793,
     "user": {
      "displayName": "Julia Ponomareva",
      "photoUrl": "https://lh3.googleusercontent.com/a-/AOh14Giimaqepqa7diwYfGdfG3eO8yvg2qDwve3KonGv=s64",
      "userId": "14904333240138417226"
     },
     "user_tz": -300
    },
    "id": "Bnfn3FaGQu8p"
   },
   "outputs": [],
   "source": [
    "rubl_test = 1400\n",
    "rubl_early_treatment = 15000\n",
    "rubl_late_treatment = 20000"
   ]
  },
  {
   "cell_type": "code",
   "execution_count": 53,
   "metadata": {
    "colab": {
     "base_uri": "https://localhost:8080/"
    },
    "executionInfo": {
     "elapsed": 19,
     "status": "ok",
     "timestamp": 1645721262477,
     "user": {
      "displayName": "Julia Ponomareva",
      "photoUrl": "https://lh3.googleusercontent.com/a-/AOh14Giimaqepqa7diwYfGdfG3eO8yvg2qDwve3KonGv=s64",
      "userId": "14904333240138417226"
     },
     "user_tz": -300
    },
    "id": "lPLcBPv-QvYk",
    "outputId": "91fe9d7a-22b6-436b-e720-cfeda8d2ff27"
   },
   "outputs": [
    {
     "name": "stdout",
     "output_type": "stream",
     "text": [
      "расходы, если не делать тест и ждать симптомов: 173600000\n"
     ]
    }
   ],
   "source": [
    "rubl_1 = (FN + TP) * rubl_late_treatment\n",
    "print('расходы, если не делать тест и ждать симптомов:', rubl_1)"
   ]
  },
  {
   "cell_type": "markdown",
   "metadata": {
    "id": "m9GXEWb0Q_v2"
   },
   "source": [
    "\n",
    "\n",
    "Расходы, если сделать тест всем:\n"
   ]
  },
  {
   "cell_type": "code",
   "execution_count": 54,
   "metadata": {
    "colab": {
     "base_uri": "https://localhost:8080/"
    },
    "executionInfo": {
     "elapsed": 14,
     "status": "ok",
     "timestamp": 1645721264007,
     "user": {
      "displayName": "Julia Ponomareva",
      "photoUrl": "https://lh3.googleusercontent.com/a-/AOh14Giimaqepqa7diwYfGdfG3eO8yvg2qDwve3KonGv=s64",
      "userId": "14904333240138417226"
     },
     "user_tz": -300
    },
    "id": "OmGh0xWEQz9e",
    "outputId": "832fc4ad-ab65-4397-f74d-5bb25882e7ef"
   },
   "outputs": [
    {
     "name": "stdout",
     "output_type": "stream",
     "text": [
      "расходы, если делать тест всем и лечить группу большых: 154700000\n"
     ]
    }
   ],
   "source": [
    "rubl_test_all = np.sum(cnf_matrix) * rubl_test + (FN + TP) * rubl_early_treatment\n",
    "print('расходы, если делать тест всем и лечить группу большых:', rubl_test_all)"
   ]
  },
  {
   "cell_type": "markdown",
   "metadata": {
    "id": "7_PqOwiuQ9_u"
   },
   "source": [
    "\n",
    "\n",
    "Расходы если использовать ML:\n"
   ]
  },
  {
   "cell_type": "code",
   "execution_count": 55,
   "metadata": {
    "colab": {
     "base_uri": "https://localhost:8080/"
    },
    "executionInfo": {
     "elapsed": 368,
     "status": "ok",
     "timestamp": 1645721273350,
     "user": {
      "displayName": "Julia Ponomareva",
      "photoUrl": "https://lh3.googleusercontent.com/a-/AOh14Giimaqepqa7diwYfGdfG3eO8yvg2qDwve3KonGv=s64",
      "userId": "14904333240138417226"
     },
     "user_tz": -300
    },
    "id": "liYnhAoLQ3Dm",
    "outputId": "c2cd87dd-ee1a-4e7f-9743-ddb5e3764491"
   },
   "outputs": [
    {
     "name": "stdout",
     "output_type": "stream",
     "text": [
      "расходы, если использовать МЛ: 152707000\n"
     ]
    }
   ],
   "source": [
    "rubl_ML = (FP + TP) * rubl_test + FN * rubl_late_treatment + TP * rubl_early_treatment\n",
    "print('расходы, если использовать МЛ:', rubl_ML)"
   ]
  },
  {
   "cell_type": "markdown",
   "metadata": {
    "id": "GGKySc1sQ74P"
   },
   "source": [
    "\n",
    "\n",
    "Оценим разницу:\n"
   ]
  },
  {
   "cell_type": "code",
   "execution_count": 56,
   "metadata": {
    "colab": {
     "base_uri": "https://localhost:8080/"
    },
    "executionInfo": {
     "elapsed": 12,
     "status": "ok",
     "timestamp": 1645721277997,
     "user": {
      "displayName": "Julia Ponomareva",
      "photoUrl": "https://lh3.googleusercontent.com/a-/AOh14Giimaqepqa7diwYfGdfG3eO8yvg2qDwve3KonGv=s64",
      "userId": "14904333240138417226"
     },
     "user_tz": -300
    },
    "id": "4_ll3Wm7Q5Y8",
    "outputId": "3e1e5dee-9a8c-4ef4-f067-0dd7deecd513"
   },
   "outputs": [
    {
     "name": "stdout",
     "output_type": "stream",
     "text": [
      "Расходы \"решение не делать тесты - расходы с МL:\" 20893000\n",
      "Расходы \"решение не делать тесты - расходы сделать тесты всем\": 18900000\n",
      "Расходы \"сделать тесты всем - решение делать тесты ML\": 1993000\n"
     ]
    }
   ],
   "source": [
    "print('Расходы \"решение не делать тесты - расходы с МL:\"', rubl_1 - rubl_ML)\n",
    "print('Расходы \"решение не делать тесты - расходы сделать тесты всем\":', rubl_1 - rubl_test_all)\n",
    "print('Расходы \"сделать тесты всем - решение делать тесты ML\":', rubl_test_all - rubl_ML)"
   ]
  },
  {
   "cell_type": "markdown",
   "metadata": {
    "id": "UDKtpiI6RCxU"
   },
   "source": [
    "\n",
    "\n",
    "Метрика по деньгам : получить меньше расходов чем при полном тесте"
   ]
  },
  {
   "cell_type": "code",
   "execution_count": 57,
   "metadata": {
    "executionInfo": {
     "elapsed": 11,
     "status": "ok",
     "timestamp": 1645721278736,
     "user": {
      "displayName": "Julia Ponomareva",
      "photoUrl": "https://lh3.googleusercontent.com/a-/AOh14Giimaqepqa7diwYfGdfG3eO8yvg2qDwve3KonGv=s64",
      "userId": "14904333240138417226"
     },
     "user_tz": -300
    },
    "id": "wUdTFxtaRFOn"
   },
   "outputs": [],
   "source": [
    "def business_threshold_calibrate(y_test, y_score, thresholds,\n",
    "                                 rubl_test=100, rubl_early_treatment=100, rubl_late_treatment=1000):\n",
    "    business_threshold = 0\n",
    "    r_test_all_r_ML_ = 0\n",
    "\n",
    "    rubl_ML_ = 1_000_000_000 \n",
    "\n",
    "    rs = []\n",
    "    n = 20\n",
    "    for opt_buisness_tr in np.linspace(0, 1, n).tolist():\n",
    "        # подберем порог для улучшения бизнесс показателя\n",
    "\n",
    "        cnf_matrix = confusion_matrix(y_test, y_score > (opt_buisness_tr))\n",
    "        TN = cnf_matrix[0][0]\n",
    "        FN = cnf_matrix[1][0]\n",
    "        TP = cnf_matrix[1][1]\n",
    "        FP = cnf_matrix[0][1]\n",
    "\n",
    "        rubl_1 = (TP + FN) * rubl_late_treatment\n",
    "        rubl_test_all = np.sum(cnf_matrix) * rubl_test + (FN + TP) * rubl_early_treatment\n",
    "        rubl_ML = (TP + FP) * rubl_test + FN * rubl_late_treatment + TP * rubl_early_treatment\n",
    "        \n",
    "        r_test_all_r_ML = rubl_test_all - rubl_ML \n",
    "        \n",
    "        if rubl_ML < rubl_ML_:            \n",
    "            business_threshold = opt_buisness_tr\n",
    "            \n",
    "            rubl_ML_ = rubl_ML\n",
    "            \n",
    "        rs.append(rubl_ML)   \n",
    "            \n",
    "    \n",
    "    print('расходы, если не делать тест и ждать симптомов:', rubl_1)\n",
    "    print('расходы, если делать тест всем и лечить группу больных:', rubl_test_all)\n",
    "    print('расходы, если использовать МЛ:', rubl_ML_)\n",
    "\n",
    "    print('Расходы \"решение не делать тесты - расходы с МL:\"', rubl_1 - rubl_ML_)\n",
    "    print('Расходы \"решение не делать тесты - расходы сделать тесты всем\":', rubl_1 - rubl_test_all)\n",
    "    print('Расходы \"сделать тесты всем - решение делать тесты ML\":', rubl_test_all - rubl_ML_)\n",
    "    \n",
    "    plt.title('Потери при МЛ решении')\n",
    "    plt.xlabel('Отсечка')\n",
    "    plt.ylabel('Потери')\n",
    "    plt.plot(np.linspace(0,1,n), rs)\n",
    "    plt.show()\n",
    "    return business_threshold"
   ]
  },
  {
   "cell_type": "code",
   "execution_count": 58,
   "metadata": {
    "colab": {
     "base_uri": "https://localhost:8080/",
     "height": 457
    },
    "executionInfo": {
     "elapsed": 522,
     "status": "ok",
     "timestamp": 1645721281077,
     "user": {
      "displayName": "Julia Ponomareva",
      "photoUrl": "https://lh3.googleusercontent.com/a-/AOh14Giimaqepqa7diwYfGdfG3eO8yvg2qDwve3KonGv=s64",
      "userId": "14904333240138417226"
     },
     "user_tz": -300
    },
    "id": "Melr9xD4RGw8",
    "outputId": "190c5be7-e6ca-4ded-8af5-0a5892730f5d"
   },
   "outputs": [
    {
     "name": "stdout",
     "output_type": "stream",
     "text": [
      "расходы, если не делать тест и ждать симптомов: 173600000\n",
      "расходы, если делать тест всем и лечить группу больных: 154700000\n",
      "расходы, если использовать МЛ: 152537000\n",
      "Расходы \"решение не делать тесты - расходы с МL:\" 21063000\n",
      "Расходы \"решение не делать тесты - расходы сделать тесты всем\": 18900000\n",
      "Расходы \"сделать тесты всем - решение делать тесты ML\": 2163000\n"
     ]
    },
    {
     "data": {
      "image/png": "[encoded data removed]",
      "text/plain": [
       "<Figure size 432x288 with 1 Axes>"
      ]
     },
     "metadata": {},
     "output_type": "display_data"
    },
    {
     "name": "stdout",
     "output_type": "stream",
     "text": [
      "уровень порога по бизнес метрике 0.3157894736842105\n",
      "уровень порога по f1 метрике 0.39181392443361795\n"
     ]
    }
   ],
   "source": [
    "busines_tr = business_threshold_calibrate(y_test, y_score, \n",
    "                                          thresholds[ix],\n",
    "                                          rubl_test=1400, \n",
    "                                          rubl_early_treatment=15000, \n",
    "                                          rubl_late_treatment=20000)\n",
    "\n",
    "print('уровень порога по бизнес метрике', busines_tr)\n",
    "print('уровень порога по f1 метрике', thresholds[ix])"
   ]
  },
  {
   "cell_type": "markdown",
   "metadata": {},
   "source": [
    "***Проверим на этих же данных работу модели CatBoost.***"
   ]
  },
  {
   "cell_type": "code",
   "execution_count": 68,
   "metadata": {},
   "outputs": [
    {
     "name": "stdout",
     "output_type": "stream",
     "text": [
      "CV score is 0.8028948865315158+-0.0032687762342140094\n",
      "CPU times: user 54.5 s, sys: 2.32 s, total: 56.8 s\n",
      "Wall time: 20.2 s\n"
     ]
    }
   ],
   "source": [
    "%%time\n",
    "classifier_CB = Pipeline([\n",
    "    ('features', feats),\n",
    "    ('classifier', catb.CatBoostClassifier(n_estimators=300, max_depth=5, \n",
    "                                      auto_class_weights='Balanced', \n",
    "                                      silent=True, random_state=42, learning_rate=0.1,\n",
    "                                      early_stopping_rounds=20)),\n",
    "])\n",
    "\n",
    "\n",
    "# запустим кросс-валидацию\n",
    "cv_scores = cross_val_score(classifier_CB, X_train, y_train, cv=7, scoring='roc_auc')\n",
    "cv_score = np.mean(cv_scores)\n",
    "cv_score_std = np.std(cv_scores)\n",
    "print(f'CV score is {cv_score}+-{cv_score_std}')\n",
    "\n",
    "# обучим пайплайн на всем тренировочном датасете\n",
    "classifier_CB.fit(X_train, y_train)\n",
    "y_score = classifier_CB.predict_proba(X_test)[:, 1]"
   ]
  },
  {
   "cell_type": "code",
   "execution_count": 69,
   "metadata": {},
   "outputs": [
    {
     "name": "stdout",
     "output_type": "stream",
     "text": [
      "Best Threshold=0.37149712303874055, F-Score=0.740, Precision=0.680, Recall=0.812\n"
     ]
    }
   ],
   "source": [
    "b = 1\n",
    "precision, recall, thresholds = precision_recall_curve(y_test.values, y_score)\n",
    "fscore = (1 +b**2) * (precision * recall) / (b**2 * precision + recall)\n",
    "# locate the index of the largest f score\n",
    "ix = np.argmax(fscore)\n",
    "print(f'Best Threshold={thresholds[ix]}, F-Score={fscore[ix]:.3f}, Precision={precision[ix]:.3f}, Recall={recall[ix]:.3f}')"
   ]
  },
  {
   "cell_type": "code",
   "execution_count": 70,
   "metadata": {},
   "outputs": [
    {
     "data": {
      "image/png": "[encoded data removed]",
      "text/plain": [
       "<Figure size 720x576 with 1 Axes>"
      ]
     },
     "metadata": {},
     "output_type": "display_data"
    }
   ],
   "source": [
    "sns.set(font_scale=1.5)\n",
    "sns.set_color_codes(\"muted\")\n",
    "\n",
    "plt.figure(figsize=(10, 8))\n",
    "fpr, tpr, thresholds_ = roc_curve(y_test, y_score, pos_label=1)\n",
    "lw = 2\n",
    "plt.plot(fpr, tpr, lw=lw, label='ROC curve ')\n",
    "plt.plot([0, 1], [0, 1])\n",
    "plt.xlim([0.0, 1.0])\n",
    "plt.ylim([0.0, 1.05])\n",
    "plt.xlabel('False Positive Rate')\n",
    "plt.ylabel('True Positive Rate')\n",
    "plt.title('ROC curve')\n",
    "plt.savefig(\"ROC.png\")\n",
    "plt.show()"
   ]
  },
  {
   "cell_type": "code",
   "execution_count": 72,
   "metadata": {},
   "outputs": [
    {
     "name": "stdout",
     "output_type": "stream",
     "text": [
      "roc auc score: 0.8171646070018633\n",
      "roc auc score: 0.8028147695330052\n"
     ]
    }
   ],
   "source": [
    "print(f\"roc auc score: {roc_auc_score(y_train, classifier_CB.predict_proba(X_train)[:, 1])}\")\n",
    "\n",
    "print(f\"roc auc score: {roc_auc_score(y_test, classifier_CB.predict_proba(X_test)[:, 1])}\")"
   ]
  },
  {
   "cell_type": "code",
   "execution_count": 73,
   "metadata": {},
   "outputs": [
    {
     "name": "stdout",
     "output_type": "stream",
     "text": [
      "Confusion matrix, without normalization\n",
      "[[5502 3318]\n",
      " [1633 7047]]\n"
     ]
    },
    {
     "data": {
      "image/png": "[encoded data removed]",
      "text/plain": [
       "<Figure size 720x576 with 2 Axes>"
      ]
     },
     "metadata": {},
     "output_type": "display_data"
    }
   ],
   "source": [
    "font = {'size' : 15}\n",
    "\n",
    "plt.rc('font', **font)\n",
    "\n",
    "cnf_matrix = confusion_matrix(y_test, y_score > thresholds[ix])\n",
    "plt.figure(figsize=(10, 8))\n",
    "plot_confusion_matrix(cnf_matrix, classes=['cardio_0', 'cardio_1'],\n",
    "                      title='Confusion matrix')\n",
    "plt.savefig(\"conf_matrix.png\")\n",
    "plt.show()"
   ]
  },
  {
   "cell_type": "code",
   "execution_count": 74,
   "metadata": {},
   "outputs": [
    {
     "data": {
      "text/plain": [
       "(0.8118663594470046, 0.3761904761904762, 0.6238095238095238)"
      ]
     },
     "execution_count": 74,
     "metadata": {},
     "output_type": "execute_result"
    }
   ],
   "source": [
    "TN = cnf_matrix[0][0]\n",
    "FN = cnf_matrix[1][0]\n",
    "TP = cnf_matrix[1][1]\n",
    "FP = cnf_matrix[0][1]\n",
    "\n",
    "TPR = TP / (TP+FN)\n",
    "FPR = FP / (FP+TN)\n",
    "TNR = TN / (FP+TN)\n",
    "TPR, FPR, TNR"
   ]
  },
  {
   "cell_type": "code",
   "execution_count": 76,
   "metadata": {},
   "outputs": [
    {
     "name": "stdout",
     "output_type": "stream",
     "text": [
      "Расходы, если использовать МЛ: 152876000\n"
     ]
    }
   ],
   "source": [
    "rubl_ML = (FP + TP) * rubl_test + FN * rubl_late_treatment + TP * rubl_early_treatment\n",
    "print('Расходы, если использовать МЛ:', rubl_ML)"
   ]
  },
  {
   "cell_type": "code",
   "execution_count": 77,
   "metadata": {},
   "outputs": [
    {
     "name": "stdout",
     "output_type": "stream",
     "text": [
      "Расходы \"решение не делать тесты - расходы с МL:\" 20724000\n",
      "Расходы \"решение не делать тесты - расходы сделать тесты всем\": 18900000\n",
      "Расходы \"сделать тесты всем - решение делать тесты ML\": 1824000\n"
     ]
    }
   ],
   "source": [
    "print('Расходы \"решение не делать тесты - расходы с МL:\"', rubl_1 - rubl_ML)\n",
    "print('Расходы \"решение не делать тесты - расходы сделать тесты всем\":', rubl_1 - rubl_test_all)\n",
    "print('Расходы \"сделать тесты всем - решение делать тесты ML\":', rubl_test_all - rubl_ML)"
   ]
  },
  {
   "cell_type": "code",
   "execution_count": 78,
   "metadata": {},
   "outputs": [
    {
     "name": "stdout",
     "output_type": "stream",
     "text": [
      "расходы, если не делать тест и ждать симптомов: 173600000\n",
      "расходы, если делать тест всем и лечить группу больных: 154700000\n",
      "расходы, если использовать МЛ: 152344000\n",
      "Расходы \"решение не делать тесты - расходы с МL:\" 21256000\n",
      "Расходы \"решение не делать тесты - расходы сделать тесты всем\": 18900000\n",
      "Расходы \"сделать тесты всем - решение делать тесты ML\": 2356000\n"
     ]
    },
    {
     "data": {
      "image/png": "[encoded data removed]",
      "text/plain": [
       "<Figure size 432x288 with 1 Axes>"
      ]
     },
     "metadata": {},
     "output_type": "display_data"
    },
    {
     "name": "stdout",
     "output_type": "stream",
     "text": [
      "уровень порога по бизнес метрике 0.2631578947368421\n",
      "уровень порога по f1 метрике 0.37149712303874055\n"
     ]
    }
   ],
   "source": [
    "busines_tr = business_threshold_calibrate(y_test, y_score, \n",
    "                                          thresholds[ix],\n",
    "                                          rubl_test=1400, \n",
    "                                          rubl_early_treatment=15000, \n",
    "                                          rubl_late_treatment=20000)\n",
    "\n",
    "print('уровень порога по бизнес метрике', busines_tr)\n",
    "print('уровень порога по f1 метрике', thresholds[ix])"
   ]
  },
  {
   "cell_type": "markdown",
   "metadata": {},
   "source": [
    "***Для большей наглядности сведем все данные в одну таблицу и добавим в нее данные из модели с урока. \n",
    "На удивление, с настройками \"из коробки\", лучше всего справилась с задачей модель LogisticRegression. \n",
    "Для остальных моделей потребовалась небольшая оптимизация (ограничение переобучения).***"
   ]
  },
  {
   "cell_type": "code",
   "execution_count": 79,
   "metadata": {},
   "outputs": [
    {
     "data": {
      "text/html": [
       "<div>\n",
       "<style scoped>\n",
       "    .dataframe tbody tr th:only-of-type {\n",
       "        vertical-align: middle;\n",
       "    }\n",
       "\n",
       "    .dataframe tbody tr th {\n",
       "        vertical-align: top;\n",
       "    }\n",
       "\n",
       "    .dataframe thead th {\n",
       "        text-align: right;\n",
       "    }\n",
       "</style>\n",
       "<table border=\"1\" class=\"dataframe\">\n",
       "  <thead>\n",
       "    <tr style=\"text-align: right;\">\n",
       "      <th></th>\n",
       "      <th>ROC-AUC</th>\n",
       "      <th>F-Score</th>\n",
       "      <th>Precision</th>\n",
       "      <th>Recall</th>\n",
       "      <th>Экономия с ML</th>\n",
       "    </tr>\n",
       "  </thead>\n",
       "  <tbody>\n",
       "    <tr>\n",
       "      <th>LogisticRegression</th>\n",
       "      <td>0.784034</td>\n",
       "      <td>0.730</td>\n",
       "      <td>0.647</td>\n",
       "      <td>0.838</td>\n",
       "      <td>1987600</td>\n",
       "    </tr>\n",
       "    <tr>\n",
       "      <th>RandomForest</th>\n",
       "      <td>0.795962</td>\n",
       "      <td>0.739</td>\n",
       "      <td>0.666</td>\n",
       "      <td>0.831</td>\n",
       "      <td>2163000</td>\n",
       "    </tr>\n",
       "    <tr>\n",
       "      <th>CatBoost</th>\n",
       "      <td>0.802814</td>\n",
       "      <td>0.740</td>\n",
       "      <td>0.680</td>\n",
       "      <td>0.812</td>\n",
       "      <td>2356000</td>\n",
       "    </tr>\n",
       "  </tbody>\n",
       "</table>\n",
       "</div>"
      ],
      "text/plain": [
       "                     ROC-AUC  F-Score  Precision  Recall  Экономия с ML\n",
       "LogisticRegression  0.784034    0.730      0.647   0.838        1987600\n",
       "RandomForest        0.795962    0.739      0.666   0.831        2163000\n",
       "CatBoost            0.802814    0.740      0.680   0.812        2356000"
      ]
     },
     "execution_count": 79,
     "metadata": {},
     "output_type": "execute_result"
    }
   ],
   "source": [
    "df = pd.DataFrame([[0.784034, 0.730, 0.647, 0.838, 1987600], \n",
    "                   [0.795962, 0.739, 0.666, 0.831, 2163000], \n",
    "                   [0.802814, 0.740, 0.680, 0.812, 2356000]],\n",
    "     index=['LogisticRegression', 'RandomForest', 'CatBoost'],\n",
    "     columns=['ROC-AUC', 'F-Score', 'Precision', 'Recall', 'Экономия с ML'])\n",
    "df"
   ]
  },
  {
   "cell_type": "markdown",
   "metadata": {},
   "source": [
    "***Лучше всего с поставленной задачей справилась модель CatBoost. Вероятно, для данной задачи и этого набора данных, лучше всего подошел этот алгоритм. Но работа над заданием показала, что для решения реальной задачи необходимо протестировать несколько моделей. Иногда более простые алгоритмы менее переобучаются и показывают лучше результаты.***  "
   ]
  },
  {
   "cell_type": "markdown",
   "metadata": {},
   "source": [
    "***В данной задаче по оптимизации финансовых затрат наиболее полезной метрикой оказалась F-Score. Однако думаю, что при выявлении онкологических заболеваний она не подойдет.***"
   ]
  }
 ],
 "metadata": {
  "colab": {
   "collapsed_sections": [],
   "name": "Lesson 3.ipynb",
   "provenance": [],
   "toc_visible": true
  },
  "kernelspec": {
   "display_name": "Python 3",
   "language": "python",
   "name": "python3"
  },
  "language_info": {
   "codemirror_mode": {
    "name": "ipython",
    "version": 3
   },
   "file_extension": ".py",
   "mimetype": "text/x-python",
   "name": "python",
   "nbconvert_exporter": "python",
   "pygments_lexer": "ipython3",
   "version": "3.8.8"
  }
 },
 "nbformat": 4,
 "nbformat_minor": 1
}
