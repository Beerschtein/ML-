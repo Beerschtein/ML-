{
 "cells": [
  {
   "cell_type": "markdown",
   "id": "8735be9f",
   "metadata": {},
   "source": [
    "### Домашнее задание №6."
   ]
  },
  {
   "cell_type": "markdown",
   "id": "32b5e3d1",
   "metadata": {},
   "source": [
    "***1. Взять любой набор данных для бинарной классификации.***"
   ]
  },
  {
   "cell_type": "markdown",
   "id": "a1dbacd0",
   "metadata": {},
   "source": [
    "***2. Обучить любой классификатор.***"
   ]
  },
  {
   "cell_type": "markdown",
   "id": "24c4b8e6",
   "metadata": {},
   "source": [
    "***3. Разделить ваш набор данных на два множества: P (positives) и U (unlabeled). \n",
    "Причем брать нужно не все положительные примеры (класс 1), а только лишь часть.***"
   ]
  },
  {
   "cell_type": "markdown",
   "id": "6c1437b4",
   "metadata": {},
   "source": [
    "***4. Применить random negative sampling для построения классификатора в новых условиях.***"
   ]
  },
  {
   "cell_type": "markdown",
   "id": "77b2cbd1",
   "metadata": {},
   "source": [
    "***5. Сравнить качество с решением из пункта 3 (построить отчет - таблицу метрик).***"
   ]
  },
  {
   "cell_type": "code",
   "execution_count": 1,
   "id": "30f89feb",
   "metadata": {},
   "outputs": [],
   "source": [
    "# Загрузим необходимые библиотеки:\n",
    "import numpy as np\n",
    "import pandas as pd\n",
    "from sklearn.model_selection import train_test_split\n",
    "# from sklearn.metrics import f1_score, roc_auc_score, precision_score, classification_report, precision_recall_curve, confusion_matrix\n",
    "from sklearn.metrics import recall_score, precision_score, roc_auc_score, accuracy_score, f1_score\n",
    "from catboost import CatBoostClassifier"
   ]
  },
  {
   "cell_type": "code",
   "execution_count": 2,
   "id": "41f9fcff",
   "metadata": {},
   "outputs": [],
   "source": [
    "import warnings\n",
    "warnings.simplefilter('ignore')"
   ]
  },
  {
   "cell_type": "code",
   "execution_count": 3,
   "id": "56f53cfe",
   "metadata": {},
   "outputs": [],
   "source": [
    "pd.set_option('display.max_columns', 100)\n",
    "pd.set_option('display.max_rows', 500)"
   ]
  },
  {
   "cell_type": "code",
   "execution_count": 4,
   "id": "23594a85",
   "metadata": {},
   "outputs": [
    {
     "data": {
      "text/html": [
       "<div>\n",
       "<style scoped>\n",
       "    .dataframe tbody tr th:only-of-type {\n",
       "        vertical-align: middle;\n",
       "    }\n",
       "\n",
       "    .dataframe tbody tr th {\n",
       "        vertical-align: top;\n",
       "    }\n",
       "\n",
       "    .dataframe thead th {\n",
       "        text-align: right;\n",
       "    }\n",
       "</style>\n",
       "<table border=\"1\" class=\"dataframe\">\n",
       "  <thead>\n",
       "    <tr style=\"text-align: right;\">\n",
       "      <th></th>\n",
       "      <th>id</th>\n",
       "      <th>age</th>\n",
       "      <th>gender</th>\n",
       "      <th>height</th>\n",
       "      <th>weight</th>\n",
       "      <th>ap_hi</th>\n",
       "      <th>ap_lo</th>\n",
       "      <th>cholesterol</th>\n",
       "      <th>gluc</th>\n",
       "      <th>smoke</th>\n",
       "      <th>alco</th>\n",
       "      <th>active</th>\n",
       "      <th>cardio</th>\n",
       "    </tr>\n",
       "  </thead>\n",
       "  <tbody>\n",
       "    <tr>\n",
       "      <th>0</th>\n",
       "      <td>0</td>\n",
       "      <td>18393</td>\n",
       "      <td>2</td>\n",
       "      <td>168</td>\n",
       "      <td>62.0</td>\n",
       "      <td>110</td>\n",
       "      <td>80</td>\n",
       "      <td>1</td>\n",
       "      <td>1</td>\n",
       "      <td>0</td>\n",
       "      <td>0</td>\n",
       "      <td>1</td>\n",
       "      <td>0</td>\n",
       "    </tr>\n",
       "    <tr>\n",
       "      <th>1</th>\n",
       "      <td>1</td>\n",
       "      <td>20228</td>\n",
       "      <td>1</td>\n",
       "      <td>156</td>\n",
       "      <td>85.0</td>\n",
       "      <td>140</td>\n",
       "      <td>90</td>\n",
       "      <td>3</td>\n",
       "      <td>1</td>\n",
       "      <td>0</td>\n",
       "      <td>0</td>\n",
       "      <td>1</td>\n",
       "      <td>1</td>\n",
       "    </tr>\n",
       "    <tr>\n",
       "      <th>2</th>\n",
       "      <td>2</td>\n",
       "      <td>18857</td>\n",
       "      <td>1</td>\n",
       "      <td>165</td>\n",
       "      <td>64.0</td>\n",
       "      <td>130</td>\n",
       "      <td>70</td>\n",
       "      <td>3</td>\n",
       "      <td>1</td>\n",
       "      <td>0</td>\n",
       "      <td>0</td>\n",
       "      <td>0</td>\n",
       "      <td>1</td>\n",
       "    </tr>\n",
       "  </tbody>\n",
       "</table>\n",
       "</div>"
      ],
      "text/plain": [
       "   id    age  gender  height  weight  ap_hi  ap_lo  cholesterol  gluc  smoke  \\\n",
       "0   0  18393       2     168    62.0    110     80            1     1      0   \n",
       "1   1  20228       1     156    85.0    140     90            3     1      0   \n",
       "2   2  18857       1     165    64.0    130     70            3     1      0   \n",
       "\n",
       "   alco  active  cardio  \n",
       "0     0       1       0  \n",
       "1     0       1       1  \n",
       "2     0       0       1  "
      ]
     },
     "execution_count": 4,
     "metadata": {},
     "output_type": "execute_result"
    }
   ],
   "source": [
    "df = pd.read_csv('./cardio_case.csv', ';')\n",
    "df.head(3)"
   ]
  },
  {
   "cell_type": "markdown",
   "id": "f134519e",
   "metadata": {},
   "source": [
    "***Посмотрим на количество данных в датасете***"
   ]
  },
  {
   "cell_type": "code",
   "execution_count": 5,
   "id": "cc0ae233",
   "metadata": {},
   "outputs": [
    {
     "data": {
      "text/plain": [
       "(70000, 13)"
      ]
     },
     "execution_count": 5,
     "metadata": {},
     "output_type": "execute_result"
    }
   ],
   "source": [
    "df.shape"
   ]
  },
  {
   "cell_type": "markdown",
   "id": "0dbf4e86",
   "metadata": {},
   "source": [
    "***Проверим датасет на пропуски и на тип данных (для корректной работы модели):***"
   ]
  },
  {
   "cell_type": "code",
   "execution_count": 6,
   "id": "279c06ac",
   "metadata": {},
   "outputs": [
    {
     "name": "stdout",
     "output_type": "stream",
     "text": [
      "<class 'pandas.core.frame.DataFrame'>\n",
      "RangeIndex: 70000 entries, 0 to 69999\n",
      "Data columns (total 13 columns):\n",
      " #   Column       Non-Null Count  Dtype  \n",
      "---  ------       --------------  -----  \n",
      " 0   id           70000 non-null  int64  \n",
      " 1   age          70000 non-null  int64  \n",
      " 2   gender       70000 non-null  int64  \n",
      " 3   height       70000 non-null  int64  \n",
      " 4   weight       70000 non-null  float64\n",
      " 5   ap_hi        70000 non-null  int64  \n",
      " 6   ap_lo        70000 non-null  int64  \n",
      " 7   cholesterol  70000 non-null  int64  \n",
      " 8   gluc         70000 non-null  int64  \n",
      " 9   smoke        70000 non-null  int64  \n",
      " 10  alco         70000 non-null  int64  \n",
      " 11  active       70000 non-null  int64  \n",
      " 12  cardio       70000 non-null  int64  \n",
      "dtypes: float64(1), int64(12)\n",
      "memory usage: 6.9 MB\n"
     ]
    }
   ],
   "source": [
    "df.info()"
   ]
  },
  {
   "cell_type": "markdown",
   "id": "cb42b196",
   "metadata": {},
   "source": [
    "***Посмотрим на соотношение классов:***"
   ]
  },
  {
   "cell_type": "code",
   "execution_count": 7,
   "id": "226809fd",
   "metadata": {},
   "outputs": [
    {
     "data": {
      "text/plain": [
       "0    35021\n",
       "1    34979\n",
       "Name: cardio, dtype: int64"
      ]
     },
     "execution_count": 7,
     "metadata": {},
     "output_type": "execute_result"
    }
   ],
   "source": [
    "df['cardio'].value_counts()"
   ]
  },
  {
   "cell_type": "markdown",
   "id": "d4dfc699",
   "metadata": {},
   "source": [
    "***Разобъем выборку на тренировочную и тестовую и обучим модель. \n",
    "Возьмем модель градиентного бустинга CatBoostClassifier.***"
   ]
  },
  {
   "cell_type": "code",
   "execution_count": 8,
   "id": "2e57ac80",
   "metadata": {},
   "outputs": [],
   "source": [
    "X_train, X_test, y_train, y_test = train_test_split(df.drop(columns='cardio'), df['cardio'], random_state=0)"
   ]
  },
  {
   "cell_type": "markdown",
   "id": "9b4158d1",
   "metadata": {},
   "source": [
    "***Обучим модель и сделаем предсказания:***"
   ]
  },
  {
   "cell_type": "code",
   "execution_count": 9,
   "id": "b93445da",
   "metadata": {},
   "outputs": [
    {
     "name": "stdout",
     "output_type": "stream",
     "text": [
      "Wall time: 20.3 s\n"
     ]
    }
   ],
   "source": [
    "%%time\n",
    "model = CatBoostClassifier(verbose=False)\n",
    "\n",
    "model.fit(X_train, y_train)\n",
    "cat_predict = model.predict(X_test)"
   ]
  },
  {
   "cell_type": "markdown",
   "id": "eb57f38e",
   "metadata": {},
   "source": [
    "***Чтобы удобнее было сравнивать результаты работы моделей - в финале выведем их в виде таблицы. Для этого создадим словарь, который будет собирать наши данные.***"
   ]
  },
  {
   "cell_type": "code",
   "execution_count": 10,
   "id": "0f8282f3",
   "metadata": {},
   "outputs": [],
   "source": [
    "models_results = {\n",
    "    'model': [],\n",
    "    'f1_score': [],\n",
    "    'roc_auc': [],\n",
    "    'recall': [],\n",
    "    'precision': []\n",
    "}"
   ]
  },
  {
   "cell_type": "markdown",
   "id": "435c2b9a",
   "metadata": {},
   "source": [
    "***Для проверки качества моделей и сбора результатов в таблицу напишем функцию:***"
   ]
  },
  {
   "cell_type": "code",
   "execution_count": 11,
   "id": "ad4bbe58",
   "metadata": {},
   "outputs": [
    {
     "name": "stdout",
     "output_type": "stream",
     "text": [
      "Classification results:\n",
      "f1: 71.95%\n",
      "roc: 73.34%\n",
      "recall: 68.85%\n",
      "precision: 75.35%\n"
     ]
    }
   ],
   "source": [
    "# Проверим качество:\n",
    "def evaluate_results(y_test, y_predict, model):\n",
    "    print('Classification results:')\n",
    "    models_results['model'].append(model)\n",
    "    f1 = f1_score(y_test, y_predict)\n",
    "    models_results['f1_score'].append(f1)\n",
    "    print(f\"f1: {f1 * 100.0:.2f}%\") \n",
    "    roc = roc_auc_score(y_test, y_predict)\n",
    "    models_results['roc_auc'].append(roc)\n",
    "    print(f\"roc: {roc * 100.0:.2f}%\") \n",
    "    rec = recall_score(y_test, y_predict, average='binary')\n",
    "    models_results['recall'].append(rec)                    \n",
    "    print(f\"recall: {rec * 100.0:.2f}%\") \n",
    "    prc = precision_score(y_test, y_predict, average='binary')\n",
    "    models_results['precision'].append(prc)                   \n",
    "    print(f\"precision: {prc * 100.0:.2f}%\" ) \n",
    "\n",
    "    \n",
    "evaluate_results(y_test, cat_predict, 'CatBoostClassifier')"
   ]
  },
  {
   "cell_type": "markdown",
   "id": "8e8f28c8",
   "metadata": {},
   "source": [
    "***Для самоконтроля обучим на этих данных другую модель и тоже проверим качество:***"
   ]
  },
  {
   "cell_type": "code",
   "execution_count": 12,
   "id": "56a2d5c9",
   "metadata": {},
   "outputs": [
    {
     "name": "stdout",
     "output_type": "stream",
     "text": [
      "[17:11:23] WARNING: C:/Users/Administrator/workspace/xgboost-win64_release_1.4.0/src/learner.cc:1095: Starting in XGBoost 1.3.0, the default evaluation metric used with the objective 'binary:logistic' was changed from 'error' to 'logloss'. Explicitly set eval_metric if you'd like to restore the old behavior.\n",
      "Wall time: 3.84 s\n"
     ]
    }
   ],
   "source": [
    "%%time\n",
    "import xgboost as xgb\n",
    "\n",
    "model = xgb.XGBClassifier()\n",
    "\n",
    "model.fit(X_train, y_train)\n",
    "xgb_predict = model.predict(X_test)"
   ]
  },
  {
   "cell_type": "code",
   "execution_count": 13,
   "id": "6dac9b15",
   "metadata": {},
   "outputs": [
    {
     "name": "stdout",
     "output_type": "stream",
     "text": [
      "Classification results:\n",
      "f1: 71.73%\n",
      "roc: 73.12%\n",
      "recall: 68.66%\n",
      "precision: 75.08%\n"
     ]
    }
   ],
   "source": [
    "evaluate_results(y_test, xgb_predict, 'XGBClassifier')"
   ]
  },
  {
   "cell_type": "markdown",
   "id": "7ad3acc6",
   "metadata": {},
   "source": [
    "***Результаты у обеих моделей очень похожи, но CatBoost показала себя немного лучше. В дальнейшем для работы будем использовать её, а XGB для контроля.***"
   ]
  },
  {
   "cell_type": "markdown",
   "id": "965f96b5",
   "metadata": {},
   "source": [
    "***Предположим, что нам неизвестны негативы и часть позитивов.***"
   ]
  },
  {
   "cell_type": "code",
   "execution_count": 14,
   "id": "f6731b17",
   "metadata": {},
   "outputs": [],
   "source": [
    "data = df.copy()"
   ]
  },
  {
   "cell_type": "code",
   "execution_count": 15,
   "id": "97714806",
   "metadata": {},
   "outputs": [
    {
     "name": "stdout",
     "output_type": "stream",
     "text": [
      "Using 8745/34979 as positives and unlabeling the rest\n"
     ]
    }
   ],
   "source": [
    "mod_data = data.copy()\n",
    "\n",
    "# get the indices of the positives samples\n",
    "pos_ind = np.where(mod_data.iloc[:, -1].values == 1)[0]\n",
    "\n",
    "# shuffle them\n",
    "np.random.shuffle(pos_ind)\n",
    "# leave just 25% of the positives marked\n",
    "perc = 0.25\n",
    "pos_sample_len = int(np.ceil(perc * len(pos_ind)))\n",
    "\n",
    "print(f'Using {pos_sample_len}/{len(pos_ind)} as positives and unlabeling the rest')\n",
    "pos_sample = pos_ind[:pos_sample_len]"
   ]
  },
  {
   "cell_type": "markdown",
   "id": "517d43b3",
   "metadata": {},
   "source": [
    "***Создаем столбец для новой целевой переменной, где у нас два класса - P (1) и U (-1).***"
   ]
  },
  {
   "cell_type": "code",
   "execution_count": 16,
   "id": "ef1eaa7c",
   "metadata": {},
   "outputs": [
    {
     "name": "stdout",
     "output_type": "stream",
     "text": [
      "target variable:\n",
      " -1    61255\n",
      " 1     8745\n",
      "Name: class_test, dtype: int64\n"
     ]
    }
   ],
   "source": [
    "mod_data['class_test'] = -1\n",
    "mod_data.loc[pos_sample,'class_test'] = 1\n",
    "print('target variable:\\n', mod_data.iloc[:,-1].value_counts())"
   ]
  },
  {
   "cell_type": "markdown",
   "id": "49a67516",
   "metadata": {},
   "source": [
    "***У нас получилось 8745 позитивных примеров и 61255 без разметки.***"
   ]
  },
  {
   "cell_type": "code",
   "execution_count": 17,
   "id": "fed1a79f",
   "metadata": {},
   "outputs": [
    {
     "data": {
      "text/html": [
       "<div>\n",
       "<style scoped>\n",
       "    .dataframe tbody tr th:only-of-type {\n",
       "        vertical-align: middle;\n",
       "    }\n",
       "\n",
       "    .dataframe tbody tr th {\n",
       "        vertical-align: top;\n",
       "    }\n",
       "\n",
       "    .dataframe thead th {\n",
       "        text-align: right;\n",
       "    }\n",
       "</style>\n",
       "<table border=\"1\" class=\"dataframe\">\n",
       "  <thead>\n",
       "    <tr style=\"text-align: right;\">\n",
       "      <th></th>\n",
       "      <th>id</th>\n",
       "      <th>age</th>\n",
       "      <th>gender</th>\n",
       "      <th>height</th>\n",
       "      <th>weight</th>\n",
       "      <th>ap_hi</th>\n",
       "      <th>ap_lo</th>\n",
       "      <th>cholesterol</th>\n",
       "      <th>gluc</th>\n",
       "      <th>smoke</th>\n",
       "      <th>alco</th>\n",
       "      <th>active</th>\n",
       "      <th>cardio</th>\n",
       "      <th>class_test</th>\n",
       "    </tr>\n",
       "  </thead>\n",
       "  <tbody>\n",
       "    <tr>\n",
       "      <th>0</th>\n",
       "      <td>0</td>\n",
       "      <td>18393</td>\n",
       "      <td>2</td>\n",
       "      <td>168</td>\n",
       "      <td>62.0</td>\n",
       "      <td>110</td>\n",
       "      <td>80</td>\n",
       "      <td>1</td>\n",
       "      <td>1</td>\n",
       "      <td>0</td>\n",
       "      <td>0</td>\n",
       "      <td>1</td>\n",
       "      <td>0</td>\n",
       "      <td>-1</td>\n",
       "    </tr>\n",
       "    <tr>\n",
       "      <th>1</th>\n",
       "      <td>1</td>\n",
       "      <td>20228</td>\n",
       "      <td>1</td>\n",
       "      <td>156</td>\n",
       "      <td>85.0</td>\n",
       "      <td>140</td>\n",
       "      <td>90</td>\n",
       "      <td>3</td>\n",
       "      <td>1</td>\n",
       "      <td>0</td>\n",
       "      <td>0</td>\n",
       "      <td>1</td>\n",
       "      <td>1</td>\n",
       "      <td>-1</td>\n",
       "    </tr>\n",
       "    <tr>\n",
       "      <th>2</th>\n",
       "      <td>2</td>\n",
       "      <td>18857</td>\n",
       "      <td>1</td>\n",
       "      <td>165</td>\n",
       "      <td>64.0</td>\n",
       "      <td>130</td>\n",
       "      <td>70</td>\n",
       "      <td>3</td>\n",
       "      <td>1</td>\n",
       "      <td>0</td>\n",
       "      <td>0</td>\n",
       "      <td>0</td>\n",
       "      <td>1</td>\n",
       "      <td>-1</td>\n",
       "    </tr>\n",
       "    <tr>\n",
       "      <th>3</th>\n",
       "      <td>3</td>\n",
       "      <td>17623</td>\n",
       "      <td>2</td>\n",
       "      <td>169</td>\n",
       "      <td>82.0</td>\n",
       "      <td>150</td>\n",
       "      <td>100</td>\n",
       "      <td>1</td>\n",
       "      <td>1</td>\n",
       "      <td>0</td>\n",
       "      <td>0</td>\n",
       "      <td>1</td>\n",
       "      <td>1</td>\n",
       "      <td>1</td>\n",
       "    </tr>\n",
       "    <tr>\n",
       "      <th>4</th>\n",
       "      <td>4</td>\n",
       "      <td>17474</td>\n",
       "      <td>1</td>\n",
       "      <td>156</td>\n",
       "      <td>56.0</td>\n",
       "      <td>100</td>\n",
       "      <td>60</td>\n",
       "      <td>1</td>\n",
       "      <td>1</td>\n",
       "      <td>0</td>\n",
       "      <td>0</td>\n",
       "      <td>0</td>\n",
       "      <td>0</td>\n",
       "      <td>-1</td>\n",
       "    </tr>\n",
       "    <tr>\n",
       "      <th>5</th>\n",
       "      <td>8</td>\n",
       "      <td>21914</td>\n",
       "      <td>1</td>\n",
       "      <td>151</td>\n",
       "      <td>67.0</td>\n",
       "      <td>120</td>\n",
       "      <td>80</td>\n",
       "      <td>2</td>\n",
       "      <td>2</td>\n",
       "      <td>0</td>\n",
       "      <td>0</td>\n",
       "      <td>0</td>\n",
       "      <td>0</td>\n",
       "      <td>-1</td>\n",
       "    </tr>\n",
       "    <tr>\n",
       "      <th>6</th>\n",
       "      <td>9</td>\n",
       "      <td>22113</td>\n",
       "      <td>1</td>\n",
       "      <td>157</td>\n",
       "      <td>93.0</td>\n",
       "      <td>130</td>\n",
       "      <td>80</td>\n",
       "      <td>3</td>\n",
       "      <td>1</td>\n",
       "      <td>0</td>\n",
       "      <td>0</td>\n",
       "      <td>1</td>\n",
       "      <td>0</td>\n",
       "      <td>-1</td>\n",
       "    </tr>\n",
       "    <tr>\n",
       "      <th>7</th>\n",
       "      <td>12</td>\n",
       "      <td>22584</td>\n",
       "      <td>2</td>\n",
       "      <td>178</td>\n",
       "      <td>95.0</td>\n",
       "      <td>130</td>\n",
       "      <td>90</td>\n",
       "      <td>3</td>\n",
       "      <td>3</td>\n",
       "      <td>0</td>\n",
       "      <td>0</td>\n",
       "      <td>1</td>\n",
       "      <td>1</td>\n",
       "      <td>-1</td>\n",
       "    </tr>\n",
       "    <tr>\n",
       "      <th>8</th>\n",
       "      <td>13</td>\n",
       "      <td>17668</td>\n",
       "      <td>1</td>\n",
       "      <td>158</td>\n",
       "      <td>71.0</td>\n",
       "      <td>110</td>\n",
       "      <td>70</td>\n",
       "      <td>1</td>\n",
       "      <td>1</td>\n",
       "      <td>0</td>\n",
       "      <td>0</td>\n",
       "      <td>1</td>\n",
       "      <td>0</td>\n",
       "      <td>-1</td>\n",
       "    </tr>\n",
       "    <tr>\n",
       "      <th>9</th>\n",
       "      <td>14</td>\n",
       "      <td>19834</td>\n",
       "      <td>1</td>\n",
       "      <td>164</td>\n",
       "      <td>68.0</td>\n",
       "      <td>110</td>\n",
       "      <td>60</td>\n",
       "      <td>1</td>\n",
       "      <td>1</td>\n",
       "      <td>0</td>\n",
       "      <td>0</td>\n",
       "      <td>0</td>\n",
       "      <td>0</td>\n",
       "      <td>-1</td>\n",
       "    </tr>\n",
       "  </tbody>\n",
       "</table>\n",
       "</div>"
      ],
      "text/plain": [
       "   id    age  gender  height  weight  ap_hi  ap_lo  cholesterol  gluc  smoke  \\\n",
       "0   0  18393       2     168    62.0    110     80            1     1      0   \n",
       "1   1  20228       1     156    85.0    140     90            3     1      0   \n",
       "2   2  18857       1     165    64.0    130     70            3     1      0   \n",
       "3   3  17623       2     169    82.0    150    100            1     1      0   \n",
       "4   4  17474       1     156    56.0    100     60            1     1      0   \n",
       "5   8  21914       1     151    67.0    120     80            2     2      0   \n",
       "6   9  22113       1     157    93.0    130     80            3     1      0   \n",
       "7  12  22584       2     178    95.0    130     90            3     3      0   \n",
       "8  13  17668       1     158    71.0    110     70            1     1      0   \n",
       "9  14  19834       1     164    68.0    110     60            1     1      0   \n",
       "\n",
       "   alco  active  cardio  class_test  \n",
       "0     0       1       0          -1  \n",
       "1     0       1       1          -1  \n",
       "2     0       0       1          -1  \n",
       "3     0       1       1           1  \n",
       "4     0       0       0          -1  \n",
       "5     0       0       0          -1  \n",
       "6     0       1       0          -1  \n",
       "7     0       1       1          -1  \n",
       "8     0       1       0          -1  \n",
       "9     0       0       0          -1  "
      ]
     },
     "execution_count": 17,
     "metadata": {},
     "output_type": "execute_result"
    }
   ],
   "source": [
    "mod_data.head(10)"
   ]
  },
  {
   "cell_type": "markdown",
   "id": "7fc68d3b",
   "metadata": {},
   "source": [
    "***RNS - Помним, что ('cardio') содержит целевой признак, который будем использовать для оценки качества\n",
    "Отделими [:-2] 'cardio' как истиный класс для проверки, и [:-1] 'class_test' как данные для входной разметки PUL.***"
   ]
  },
  {
   "cell_type": "code",
   "execution_count": 18,
   "id": "f1591cf9",
   "metadata": {},
   "outputs": [
    {
     "name": "stdout",
     "output_type": "stream",
     "text": [
      "(8745, 14) (8745, 14)\n"
     ]
    }
   ],
   "source": [
    "mod_data = mod_data.sample(frac=1)\n",
    "\n",
    "\n",
    "data_N = mod_data[mod_data['class_test'] == -1]\n",
    "data_P = mod_data[mod_data['class_test'] == 1]\n",
    "\n",
    "neg_sample = data_N[:data_P.shape[0]]\n",
    "sample_test = data_N[data_P.shape[0]:]\n",
    "pos_sample = data_P.copy()\n",
    "\n",
    "print(neg_sample.shape, pos_sample.shape)\n",
    "sample_train = pd.concat([neg_sample, pos_sample]).sample(frac=1)"
   ]
  },
  {
   "cell_type": "code",
   "execution_count": 19,
   "id": "013b6952",
   "metadata": {},
   "outputs": [
    {
     "name": "stdout",
     "output_type": "stream",
     "text": [
      "Classification results:\n",
      "f1: 68.03%\n",
      "roc: 72.26%\n",
      "recall: 66.89%\n",
      "precision: 69.21%\n",
      "Wall time: 12 s\n"
     ]
    }
   ],
   "source": [
    "%%time\n",
    "model = CatBoostClassifier(verbose=False)\n",
    "sample_train.loc[sample_train['class_test'] == -1, 'class_test'] = 0\n",
    "\n",
    "model.fit(sample_train.drop(columns=['class_test', 'cardio']), \n",
    "          sample_train['class_test'])\n",
    "\n",
    "cat_1_predict = model.predict(sample_test.drop(columns=['class_test', 'cardio']))\n",
    "evaluate_results(sample_test['cardio'], cat_1_predict, 'CatBoostClassifier_PUL')"
   ]
  },
  {
   "cell_type": "code",
   "execution_count": 20,
   "id": "211dcdb2",
   "metadata": {},
   "outputs": [
    {
     "name": "stdout",
     "output_type": "stream",
     "text": [
      "[17:11:39] WARNING: C:/Users/Administrator/workspace/xgboost-win64_release_1.4.0/src/learner.cc:1095: Starting in XGBoost 1.3.0, the default evaluation metric used with the objective 'binary:logistic' was changed from 'error' to 'logloss'. Explicitly set eval_metric if you'd like to restore the old behavior.\n",
      "Classification results:\n",
      "f1: 64.69%\n",
      "roc: 69.30%\n",
      "recall: 63.87%\n",
      "precision: 65.52%\n",
      "Wall time: 1.58 s\n"
     ]
    }
   ],
   "source": [
    "%%time\n",
    "model = xgb.XGBClassifier()\n",
    "sample_train.loc[sample_train['class_test'] == -1, 'class_test'] = 0\n",
    "\n",
    "model.fit(sample_train.drop(columns=['class_test', 'cardio']), \n",
    "          sample_train['class_test'])\n",
    "\n",
    "xgb_1_predict = model.predict(sample_test.drop(columns=['class_test', 'cardio']))\n",
    "evaluate_results(sample_test['cardio'], xgb_1_predict, 'XGBClassifier_PUL')"
   ]
  },
  {
   "cell_type": "code",
   "execution_count": 21,
   "id": "938bfaf7",
   "metadata": {},
   "outputs": [
    {
     "data": {
      "text/html": [
       "<div>\n",
       "<style scoped>\n",
       "    .dataframe tbody tr th:only-of-type {\n",
       "        vertical-align: middle;\n",
       "    }\n",
       "\n",
       "    .dataframe tbody tr th {\n",
       "        vertical-align: top;\n",
       "    }\n",
       "\n",
       "    .dataframe thead th {\n",
       "        text-align: right;\n",
       "    }\n",
       "</style>\n",
       "<table border=\"1\" class=\"dataframe\">\n",
       "  <thead>\n",
       "    <tr style=\"text-align: right;\">\n",
       "      <th></th>\n",
       "      <th>model</th>\n",
       "      <th>f1_score</th>\n",
       "      <th>roc_auc</th>\n",
       "      <th>recall</th>\n",
       "      <th>precision</th>\n",
       "    </tr>\n",
       "  </thead>\n",
       "  <tbody>\n",
       "    <tr>\n",
       "      <th>0</th>\n",
       "      <td>CatBoostClassifier</td>\n",
       "      <td>0.719523</td>\n",
       "      <td>0.733412</td>\n",
       "      <td>0.688479</td>\n",
       "      <td>0.753499</td>\n",
       "    </tr>\n",
       "    <tr>\n",
       "      <th>1</th>\n",
       "      <td>XGBClassifier</td>\n",
       "      <td>0.717294</td>\n",
       "      <td>0.731186</td>\n",
       "      <td>0.686636</td>\n",
       "      <td>0.750819</td>\n",
       "    </tr>\n",
       "    <tr>\n",
       "      <th>2</th>\n",
       "      <td>CatBoostClassifier_PUL</td>\n",
       "      <td>0.680338</td>\n",
       "      <td>0.722577</td>\n",
       "      <td>0.668944</td>\n",
       "      <td>0.692128</td>\n",
       "    </tr>\n",
       "    <tr>\n",
       "      <th>3</th>\n",
       "      <td>XGBClassifier_PUL</td>\n",
       "      <td>0.646853</td>\n",
       "      <td>0.692956</td>\n",
       "      <td>0.638731</td>\n",
       "      <td>0.655183</td>\n",
       "    </tr>\n",
       "  </tbody>\n",
       "</table>\n",
       "</div>"
      ],
      "text/plain": [
       "                    model  f1_score   roc_auc    recall  precision\n",
       "0      CatBoostClassifier  0.719523  0.733412  0.688479   0.753499\n",
       "1           XGBClassifier  0.717294  0.731186  0.686636   0.750819\n",
       "2  CatBoostClassifier_PUL  0.680338  0.722577  0.668944   0.692128\n",
       "3       XGBClassifier_PUL  0.646853  0.692956  0.638731   0.655183"
      ]
     },
     "execution_count": 21,
     "metadata": {},
     "output_type": "execute_result"
    }
   ],
   "source": [
    "pd.DataFrame(data=models_results)"
   ]
  },
  {
   "cell_type": "markdown",
   "id": "a40390d9",
   "metadata": {},
   "source": [
    "**Вывод: исходя из полученных результатов, на этом наборе данных random negative sampling как метод показал себя очень даже неплохо. Разницу в работе моделей вероятно можно объяснить тем, что данные не были подготовлены и разные модели по-разному на это среагировали.**"
   ]
  },
  {
   "cell_type": "code",
   "execution_count": null,
   "id": "bc073cc4",
   "metadata": {},
   "outputs": [],
   "source": []
  }
 ],
 "metadata": {
  "kernelspec": {
   "display_name": "Python 3",
   "language": "python",
   "name": "python3"
  },
  "language_info": {
   "codemirror_mode": {
    "name": "ipython",
    "version": 3
   },
   "file_extension": ".py",
   "mimetype": "text/x-python",
   "name": "python",
   "nbconvert_exporter": "python",
   "pygments_lexer": "ipython3",
   "version": "3.8.8"
  }
 },
 "nbformat": 4,
 "nbformat_minor": 5
}
