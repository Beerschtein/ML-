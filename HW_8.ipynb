{
 "cells": [
  {
   "cell_type": "markdown",
   "id": "cc145e0c",
   "metadata": {},
   "source": [
    "### Домашнее задание №8."
   ]
  },
  {
   "cell_type": "markdown",
   "id": "a67028c0",
   "metadata": {},
   "source": [
    "***Взять датасет из google диска: https://drive.google.com/file/d/1MpWBFIbqu4mbiD0BBKYX6YhS-f4mN3Z_. \n",
    "Проверить гипотезу о том, в каком варианте теста (control/personalization) больше конверсия (converted) и \n",
    "значимо ли это отличие статистически.***"
   ]
  },
  {
   "cell_type": "code",
   "execution_count": 1,
   "id": "d6385dbb",
   "metadata": {},
   "outputs": [],
   "source": [
    "import numpy as np\n",
    "import pandas as pd\n",
    "from statsmodels.stats import proportion\n",
    "from scipy.stats import mannwhitneyu\n",
    "from scipy.stats import chi2_contingency"
   ]
  },
  {
   "cell_type": "markdown",
   "id": "897949ff",
   "metadata": {},
   "source": [
    "***Необходимые для решения задачи данные содержатся в файле marketing_campaign.csv. Загрузим файл, посмотрим на типы данных и проверим на наличие пропусков.***"
   ]
  },
  {
   "cell_type": "code",
   "execution_count": 2,
   "id": "ae76abba",
   "metadata": {},
   "outputs": [
    {
     "data": {
      "text/html": [
       "<div>\n",
       "<style scoped>\n",
       "    .dataframe tbody tr th:only-of-type {\n",
       "        vertical-align: middle;\n",
       "    }\n",
       "\n",
       "    .dataframe tbody tr th {\n",
       "        vertical-align: top;\n",
       "    }\n",
       "\n",
       "    .dataframe thead th {\n",
       "        text-align: right;\n",
       "    }\n",
       "</style>\n",
       "<table border=\"1\" class=\"dataframe\">\n",
       "  <thead>\n",
       "    <tr style=\"text-align: right;\">\n",
       "      <th></th>\n",
       "      <th>user_id</th>\n",
       "      <th>date_served</th>\n",
       "      <th>marketing_channel</th>\n",
       "      <th>variant</th>\n",
       "      <th>language_displayed</th>\n",
       "      <th>converted</th>\n",
       "    </tr>\n",
       "  </thead>\n",
       "  <tbody>\n",
       "    <tr>\n",
       "      <th>0</th>\n",
       "      <td>a1000</td>\n",
       "      <td>1/1/18</td>\n",
       "      <td>House Ads</td>\n",
       "      <td>personalization</td>\n",
       "      <td>English</td>\n",
       "      <td>True</td>\n",
       "    </tr>\n",
       "    <tr>\n",
       "      <th>1</th>\n",
       "      <td>a1001</td>\n",
       "      <td>1/1/18</td>\n",
       "      <td>House Ads</td>\n",
       "      <td>personalization</td>\n",
       "      <td>English</td>\n",
       "      <td>True</td>\n",
       "    </tr>\n",
       "    <tr>\n",
       "      <th>2</th>\n",
       "      <td>a1002</td>\n",
       "      <td>1/1/18</td>\n",
       "      <td>House Ads</td>\n",
       "      <td>personalization</td>\n",
       "      <td>English</td>\n",
       "      <td>True</td>\n",
       "    </tr>\n",
       "    <tr>\n",
       "      <th>3</th>\n",
       "      <td>a1003</td>\n",
       "      <td>1/1/18</td>\n",
       "      <td>House Ads</td>\n",
       "      <td>personalization</td>\n",
       "      <td>English</td>\n",
       "      <td>True</td>\n",
       "    </tr>\n",
       "    <tr>\n",
       "      <th>4</th>\n",
       "      <td>a1004</td>\n",
       "      <td>1/1/18</td>\n",
       "      <td>House Ads</td>\n",
       "      <td>personalization</td>\n",
       "      <td>English</td>\n",
       "      <td>True</td>\n",
       "    </tr>\n",
       "    <tr>\n",
       "      <th>...</th>\n",
       "      <td>...</td>\n",
       "      <td>...</td>\n",
       "      <td>...</td>\n",
       "      <td>...</td>\n",
       "      <td>...</td>\n",
       "      <td>...</td>\n",
       "    </tr>\n",
       "    <tr>\n",
       "      <th>10032</th>\n",
       "      <td>a11032</td>\n",
       "      <td>1/17/18</td>\n",
       "      <td>Email</td>\n",
       "      <td>control</td>\n",
       "      <td>German</td>\n",
       "      <td>True</td>\n",
       "    </tr>\n",
       "    <tr>\n",
       "      <th>10033</th>\n",
       "      <td>a11033</td>\n",
       "      <td>1/17/18</td>\n",
       "      <td>Email</td>\n",
       "      <td>control</td>\n",
       "      <td>German</td>\n",
       "      <td>True</td>\n",
       "    </tr>\n",
       "    <tr>\n",
       "      <th>10034</th>\n",
       "      <td>a11034</td>\n",
       "      <td>1/5/18</td>\n",
       "      <td>Instagram</td>\n",
       "      <td>control</td>\n",
       "      <td>German</td>\n",
       "      <td>False</td>\n",
       "    </tr>\n",
       "    <tr>\n",
       "      <th>10035</th>\n",
       "      <td>a11035</td>\n",
       "      <td>1/17/18</td>\n",
       "      <td>Email</td>\n",
       "      <td>control</td>\n",
       "      <td>German</td>\n",
       "      <td>True</td>\n",
       "    </tr>\n",
       "    <tr>\n",
       "      <th>10036</th>\n",
       "      <td>a11036</td>\n",
       "      <td>1/6/18</td>\n",
       "      <td>Facebook</td>\n",
       "      <td>control</td>\n",
       "      <td>German</td>\n",
       "      <td>False</td>\n",
       "    </tr>\n",
       "  </tbody>\n",
       "</table>\n",
       "<p>10037 rows × 6 columns</p>\n",
       "</div>"
      ],
      "text/plain": [
       "      user_id date_served marketing_channel          variant  \\\n",
       "0       a1000      1/1/18         House Ads  personalization   \n",
       "1       a1001      1/1/18         House Ads  personalization   \n",
       "2       a1002      1/1/18         House Ads  personalization   \n",
       "3       a1003      1/1/18         House Ads  personalization   \n",
       "4       a1004      1/1/18         House Ads  personalization   \n",
       "...       ...         ...               ...              ...   \n",
       "10032  a11032     1/17/18             Email          control   \n",
       "10033  a11033     1/17/18             Email          control   \n",
       "10034  a11034      1/5/18         Instagram          control   \n",
       "10035  a11035     1/17/18             Email          control   \n",
       "10036  a11036      1/6/18          Facebook          control   \n",
       "\n",
       "      language_displayed converted  \n",
       "0                English      True  \n",
       "1                English      True  \n",
       "2                English      True  \n",
       "3                English      True  \n",
       "4                English      True  \n",
       "...                  ...       ...  \n",
       "10032             German      True  \n",
       "10033             German      True  \n",
       "10034             German     False  \n",
       "10035             German      True  \n",
       "10036             German     False  \n",
       "\n",
       "[10037 rows x 6 columns]"
      ]
     },
     "execution_count": 2,
     "metadata": {},
     "output_type": "execute_result"
    }
   ],
   "source": [
    "marketing_campaign = pd.read_csv('./marketing_campaign.csv')\n",
    "marketing_campaign"
   ]
  },
  {
   "cell_type": "code",
   "execution_count": 3,
   "id": "e8a5b4d0",
   "metadata": {},
   "outputs": [],
   "source": [
    "df = marketing_campaign"
   ]
  },
  {
   "cell_type": "code",
   "execution_count": 4,
   "id": "a6cd3b85",
   "metadata": {},
   "outputs": [
    {
     "data": {
      "text/plain": [
       "(10037, 6)"
      ]
     },
     "execution_count": 4,
     "metadata": {},
     "output_type": "execute_result"
    }
   ],
   "source": [
    "df.shape"
   ]
  },
  {
   "cell_type": "code",
   "execution_count": 5,
   "id": "5039b426",
   "metadata": {},
   "outputs": [
    {
     "name": "stdout",
     "output_type": "stream",
     "text": [
      "<class 'pandas.core.frame.DataFrame'>\n",
      "RangeIndex: 10037 entries, 0 to 10036\n",
      "Data columns (total 6 columns):\n",
      " #   Column              Non-Null Count  Dtype \n",
      "---  ------              --------------  ----- \n",
      " 0   user_id             10037 non-null  object\n",
      " 1   date_served         10021 non-null  object\n",
      " 2   marketing_channel   10022 non-null  object\n",
      " 3   variant             10037 non-null  object\n",
      " 4   language_displayed  10037 non-null  object\n",
      " 5   converted           10022 non-null  object\n",
      "dtypes: object(6)\n",
      "memory usage: 470.6+ KB\n"
     ]
    }
   ],
   "source": [
    "df.info()"
   ]
  },
  {
   "cell_type": "markdown",
   "id": "f68e33a7",
   "metadata": {},
   "source": [
    "***Информация о разбиении клиентов на группы А (control) и В (personalization) содержится в колонке \"variant\". Посмотрим на количество данных по группам.***"
   ]
  },
  {
   "cell_type": "code",
   "execution_count": 6,
   "id": "0b30fed5",
   "metadata": {},
   "outputs": [
    {
     "data": {
      "text/plain": [
       "control            5091\n",
       "personalization    4946\n",
       "Name: variant, dtype: int64"
      ]
     },
     "execution_count": 6,
     "metadata": {},
     "output_type": "execute_result"
    }
   ],
   "source": [
    "df.variant.value_counts()"
   ]
  },
  {
   "cell_type": "code",
   "execution_count": 7,
   "id": "4b24a230",
   "metadata": {},
   "outputs": [
    {
     "data": {
      "text/plain": [
       "False    8946\n",
       "True     1076\n",
       "Name: converted, dtype: int64"
      ]
     },
     "execution_count": 7,
     "metadata": {},
     "output_type": "execute_result"
    }
   ],
   "source": [
    "df.converted.value_counts()"
   ]
  },
  {
   "cell_type": "markdown",
   "id": "3882a53e",
   "metadata": {},
   "source": [
    "***Соотношение данных в группах примерно 50/50. Хороший показатель.***"
   ]
  },
  {
   "cell_type": "markdown",
   "id": "af83607f",
   "metadata": {},
   "source": [
    "***Данные о конверсии - пользователь совершил покупку (True) и не совершил (False), содежрится в колонке \"converted\". Количество данных в \"converted\" не совпадает с количеством в \"variant\". Посмотрим в \"converted\":***"
   ]
  },
  {
   "cell_type": "code",
   "execution_count": 8,
   "id": "4c5629dd",
   "metadata": {},
   "outputs": [
    {
     "data": {
      "text/plain": [
       "array([True, False, nan], dtype=object)"
      ]
     },
     "execution_count": 8,
     "metadata": {},
     "output_type": "execute_result"
    }
   ],
   "source": [
    "df.converted.unique()"
   ]
  },
  {
   "cell_type": "markdown",
   "id": "6e429fe5",
   "metadata": {},
   "source": [
    "***Имеется незначительное количество пропущенных данных. В расчетах мы не будем их учитывать.***"
   ]
  },
  {
   "cell_type": "markdown",
   "id": "58de6040",
   "metadata": {},
   "source": [
    "***Так как столбец converted - содержит бинарный показатель (True=1, False=0), совершил клиент покупку илb нет, то нашей метрикой будет доля (конверсия). В этом случае в качестве критерия оценки подойдет хи-квадрат (критерий согласия Пирсона). Метод позволяет оценить значимость различий между фактическим (выявленным в результате исследования) количеством исходов и теоретическим количеством, которое можно ожидать в изучаемых группах при справедливости нулевой гипотезы. То есть оценить статистическую значимость различий двух или нескольких относительных показателей (частот, долей). Необходимое условие - группы должны быть независимы - в нашем случае соблюдается.***"
   ]
  },
  {
   "cell_type": "markdown",
   "id": "6e278ea4",
   "metadata": {},
   "source": [
    "***Уровень достоверности возьмем стандартным для такого случая alpha = 95% = 0.95. По таблице Z-оценок значение будет равно 1.96.***"
   ]
  },
  {
   "cell_type": "markdown",
   "id": "9c608a81",
   "metadata": {},
   "source": [
    "***Сформируем гипотезу: Н0: р1 = р2 (конверсия в группах одинаковая); Н1: р1 != р2 (конверсия в группах отличается) и разница статистически значима.***"
   ]
  },
  {
   "cell_type": "markdown",
   "id": "d2af7a09",
   "metadata": {},
   "source": [
    "***Расчитаем наблюдаемые частоты:***"
   ]
  },
  {
   "cell_type": "code",
   "execution_count": 9,
   "id": "ffa97c04",
   "metadata": {},
   "outputs": [
    {
     "data": {
      "text/plain": [
       "(371, 5091, 705, 4946)"
      ]
     },
     "execution_count": 9,
     "metadata": {},
     "output_type": "execute_result"
    }
   ],
   "source": [
    "z_crit_value = 1.96 # соответствует доверительному интервалу в 95%\n",
    "k1 = df[df['variant']=='control']['converted'].sum()\n",
    "n1 = df[df['variant']=='control'].shape[0]\n",
    "k2 = df[df['variant']=='personalization']['converted'].sum()\n",
    "n2 = df[df['variant']=='personalization'].shape[0]\n",
    "\n",
    "k1, n1, k2, n2"
   ]
  },
  {
   "cell_type": "markdown",
   "id": "c0f0d87a",
   "metadata": {},
   "source": [
    "***Выведем полученные данные в таблицу:***"
   ]
  },
  {
   "cell_type": "code",
   "execution_count": 10,
   "id": "a6612768",
   "metadata": {},
   "outputs": [
    {
     "data": {
      "text/html": [
       "<div>\n",
       "<style scoped>\n",
       "    .dataframe tbody tr th:only-of-type {\n",
       "        vertical-align: middle;\n",
       "    }\n",
       "\n",
       "    .dataframe tbody tr th {\n",
       "        vertical-align: top;\n",
       "    }\n",
       "\n",
       "    .dataframe thead tr th {\n",
       "        text-align: left;\n",
       "    }\n",
       "\n",
       "    .dataframe thead tr:last-of-type th {\n",
       "        text-align: right;\n",
       "    }\n",
       "</style>\n",
       "<table border=\"1\" class=\"dataframe\">\n",
       "  <thead>\n",
       "    <tr>\n",
       "      <th></th>\n",
       "      <th>sum</th>\n",
       "      <th>count</th>\n",
       "    </tr>\n",
       "    <tr>\n",
       "      <th></th>\n",
       "      <th>converted</th>\n",
       "      <th>converted</th>\n",
       "    </tr>\n",
       "    <tr>\n",
       "      <th>variant</th>\n",
       "      <th></th>\n",
       "      <th></th>\n",
       "    </tr>\n",
       "  </thead>\n",
       "  <tbody>\n",
       "    <tr>\n",
       "      <th>control</th>\n",
       "      <td>371</td>\n",
       "      <td>5076</td>\n",
       "    </tr>\n",
       "    <tr>\n",
       "      <th>personalization</th>\n",
       "      <td>705</td>\n",
       "      <td>4946</td>\n",
       "    </tr>\n",
       "  </tbody>\n",
       "</table>\n",
       "</div>"
      ],
      "text/plain": [
       "                      sum     count\n",
       "                converted converted\n",
       "variant                            \n",
       "control               371      5076\n",
       "personalization       705      4946"
      ]
     },
     "execution_count": 10,
     "metadata": {},
     "output_type": "execute_result"
    }
   ],
   "source": [
    "table = df.pivot_table(values='converted', index='variant', aggfunc=['sum', 'count'])\n",
    "table"
   ]
  },
  {
   "cell_type": "markdown",
   "id": "8f153346",
   "metadata": {},
   "source": [
    "***Проверим гипотезу, используя критерий хи-квадрат:***"
   ]
  },
  {
   "cell_type": "code",
   "execution_count": 11,
   "id": "07903bd2",
   "metadata": {},
   "outputs": [
    {
     "name": "stdout",
     "output_type": "stream",
     "text": [
      "Results are chisq=127.213 pvalue=0.000\n"
     ]
    }
   ],
   "source": [
    "chisq, pvalue, table = proportion.proportions_chisquare(np.array([k1, k2]), \n",
    "                                                        np.array([n1, n2]))\n",
    "\n",
    "print(f'Results are chisq={chisq:.3f} pvalue={pvalue:.3f}')"
   ]
  },
  {
   "cell_type": "markdown",
   "id": "f147edf2",
   "metadata": {},
   "source": [
    "***Получили значение pvalue=0.000. Неожиданно... Перепроверим полученные данные с помощью другой библиотеки:***"
   ]
  },
  {
   "cell_type": "code",
   "execution_count": 12,
   "id": "f9c1ff43",
   "metadata": {},
   "outputs": [
    {
     "data": {
      "text/plain": [
       "1.5359317873632312e-26"
      ]
     },
     "execution_count": 12,
     "metadata": {},
     "output_type": "execute_result"
    }
   ],
   "source": [
    "chi2, p, dof, expected = chi2_contingency(table, correction=False)\n",
    "p"
   ]
  },
  {
   "cell_type": "markdown",
   "id": "fa609d3d",
   "metadata": {},
   "source": [
    "***В действительности pvalue практически равно 0.***"
   ]
  },
  {
   "cell_type": "markdown",
   "id": "81f09c97",
   "metadata": {},
   "source": [
    "***Так как значение pvalue ниже выбранного порога 0.05 то гипотеза Н0 отвергается.***"
   ]
  },
  {
   "cell_type": "markdown",
   "id": "81262927",
   "metadata": {},
   "source": [
    "#### ВЫВОД: конверсия в тесте с группой В существенно больше, чем конверсия в тесте с гурппой А и это отличие статистически значимо. "
   ]
  },
  {
   "cell_type": "markdown",
   "id": "161ba7ae",
   "metadata": {},
   "source": [
    "***Так как наши данные непараметрические, можем попробовать проверить их и на Z-критерий:***"
   ]
  },
  {
   "cell_type": "code",
   "execution_count": 13,
   "id": "084d6a4f",
   "metadata": {},
   "outputs": [
    {
     "name": "stdout",
     "output_type": "stream",
     "text": [
      "Results are z_score=-11.279 pvalue=0.000\n"
     ]
    }
   ],
   "source": [
    "from statsmodels.stats import proportion\n",
    "\n",
    "z_score, z_pvalue = proportion.proportions_ztest(np.array([k1, k2]), \n",
    "                                                 np.array([n1, n2]))\n",
    "\n",
    "print(f'Results are z_score={z_score:.3f} pvalue={z_pvalue:.3f}')"
   ]
  },
  {
   "cell_type": "markdown",
   "id": "e0b0f698",
   "metadata": {},
   "source": [
    "***Получили аналогичный результат: конверсия в группе \"В\" значительно больше, чем в \"А\". Другими словами - различные критерии дают одинаковый результат. Значит ошибки быть не должно.***"
   ]
  }
 ],
 "metadata": {
  "kernelspec": {
   "display_name": "Python 3",
   "language": "python",
   "name": "python3"
  },
  "language_info": {
   "codemirror_mode": {
    "name": "ipython",
    "version": 3
   },
   "file_extension": ".py",
   "mimetype": "text/x-python",
   "name": "python",
   "nbconvert_exporter": "python",
   "pygments_lexer": "ipython3",
   "version": "3.8.8"
  }
 },
 "nbformat": 4,
 "nbformat_minor": 5
}
